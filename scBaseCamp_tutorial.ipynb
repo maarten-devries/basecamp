{
 "cells": [
  {
   "cell_type": "markdown",
   "metadata": {},
   "source": [
    "# Getting metadata for scBaseCamp"
   ]
  },
  {
   "cell_type": "code",
   "execution_count": 1,
   "metadata": {},
   "outputs": [],
   "source": [
    "## Autoreload extension\n",
    "%load_ext autoreload\n",
    "%autoreload 2\n"
   ]
  },
  {
   "cell_type": "code",
   "execution_count": null,
   "metadata": {},
   "outputs": [],
   "source": [
    "# !pip install tiledb tiledbsoma tiledb-cloud"
   ]
  },
  {
   "cell_type": "markdown",
   "metadata": {},
   "source": [
    "# [COLLAPSE THIS HEADER] scBaseCamp loading"
   ]
  },
  {
   "cell_type": "markdown",
   "metadata": {},
   "source": [
    "## Summary\n",
    "\n",
    "* This is a tutorial on using Python for accessing the scBaseCamp dataset hosted by the Arc Institute.\n",
    "* The data can be streamed or downloaded locally.\n",
    "  * For small jobs (e.g., summarizing the some metadata), streaming is recommended.\n",
    "  * For large jobs (e.g., training a model), downloading is recommended.\n",
    "* See the [README](README.md#metadata) for a description of the obs metadata.\n"
   ]
  },
  {
   "cell_type": "markdown",
   "metadata": {},
   "source": [
    "## Setup"
   ]
  },
  {
   "cell_type": "markdown",
   "metadata": {},
   "source": [
    "#### Installation\n",
    "\n",
    "If needed, install the necessary dependencies.\n",
    "\n",
    "You can use the [conda environment](../conda_envs/python.yml) provided in this git repository. To do so:"
   ]
  },
  {
   "cell_type": "code",
   "execution_count": null,
   "metadata": {},
   "outputs": [],
   "source": [
    "#!which conda && conda env create -q -f ../conda_envs/python.yml"
   ]
  },
  {
   "cell_type": "markdown",
   "metadata": {},
   "source": [
    "## Load packages"
   ]
  },
  {
   "cell_type": "code",
   "execution_count": 1,
   "metadata": {},
   "outputs": [
    {
     "ename": "ModuleNotFoundError",
     "evalue": "No module named 'scanpy'",
     "output_type": "error",
     "traceback": [
      "\u001b[31m---------------------------------------------------------------------------\u001b[39m",
      "\u001b[31mModuleNotFoundError\u001b[39m                       Traceback (most recent call last)",
      "\u001b[36mCell\u001b[39m\u001b[36m \u001b[39m\u001b[32mIn[1]\u001b[39m\u001b[32m, line 3\u001b[39m\n\u001b[32m      1\u001b[39m \u001b[38;5;28;01mimport\u001b[39;00m\u001b[38;5;250m \u001b[39m\u001b[34;01mos\u001b[39;00m\n\u001b[32m      2\u001b[39m \u001b[38;5;28;01mimport\u001b[39;00m\u001b[38;5;250m \u001b[39m\u001b[34;01mpandas\u001b[39;00m\u001b[38;5;250m \u001b[39m\u001b[38;5;28;01mas\u001b[39;00m\u001b[38;5;250m \u001b[39m\u001b[34;01mpd\u001b[39;00m\n\u001b[32m----> \u001b[39m\u001b[32m3\u001b[39m \u001b[38;5;28;01mimport\u001b[39;00m\u001b[38;5;250m \u001b[39m\u001b[34;01mscanpy\u001b[39;00m\u001b[38;5;250m \u001b[39m\u001b[38;5;28;01mas\u001b[39;00m\u001b[38;5;250m \u001b[39m\u001b[34;01msc\u001b[39;00m\n\u001b[32m      4\u001b[39m \u001b[38;5;28;01mimport\u001b[39;00m\u001b[38;5;250m \u001b[39m\u001b[34;01mpyarrow\u001b[39;00m\u001b[34;01m.\u001b[39;00m\u001b[34;01mdataset\u001b[39;00m\u001b[38;5;250m \u001b[39m\u001b[38;5;28;01mas\u001b[39;00m\u001b[38;5;250m \u001b[39m\u001b[34;01mds\u001b[39;00m\n\u001b[32m      5\u001b[39m \u001b[38;5;28;01mimport\u001b[39;00m\u001b[38;5;250m \u001b[39m\u001b[34;01mgcsfs\u001b[39;00m\n",
      "\u001b[31mModuleNotFoundError\u001b[39m: No module named 'scanpy'"
     ]
    }
   ],
   "source": [
    "import os\n",
    "import pandas as pd\n",
    "import scanpy as sc\n",
    "import pyarrow.dataset as ds\n",
    "import gcsfs"
   ]
  },
  {
   "cell_type": "code",
   "execution_count": 3,
   "metadata": {},
   "outputs": [],
   "source": [
    "## initialize GCS file system for reading data from GCS\n",
    "fs = gcsfs.GCSFileSystem()"
   ]
  },
  {
   "cell_type": "markdown",
   "metadata": {},
   "source": [
    "## Data location"
   ]
  },
  {
   "cell_type": "code",
   "execution_count": 4,
   "metadata": {},
   "outputs": [],
   "source": [
    "## GCS bucket path\n",
    "gcs_base_path = \"gs://arc-ctc-scbasecamp/2025-02-25/\""
   ]
  },
  {
   "cell_type": "code",
   "execution_count": 5,
   "metadata": {},
   "outputs": [],
   "source": [
    "## STARsolo feature type\n",
    "feature_type = \"GeneFull_Ex50pAS\""
   ]
  },
  {
   "cell_type": "markdown",
   "metadata": {},
   "source": [
    "## List available files\n",
    "\n",
    "Let's see what we have to work with!"
   ]
  },
  {
   "cell_type": "code",
   "execution_count": 6,
   "metadata": {},
   "outputs": [],
   "source": [
    "## helper function to list files \n",
    "def get_file_table(gcs_base_path: str, target: str=None, endswith: str=None):\n",
    "    files = fs.glob(os.path.join(gcs_base_path, \"**\"))\n",
    "    if target:\n",
    "        files = [f for f in files if os.path.basename(f) == target]\n",
    "    else:\n",
    "        files = [f for f in files if f.endswith(endswith)]\n",
    "    file_list = []\n",
    "    for f in files:\n",
    "        file_list.append(f.split(\"/\")[-2:-1] + [f])\n",
    "    return pd.DataFrame(file_list, columns=[\"organism\", \"file_path\"])"
   ]
  },
  {
   "cell_type": "markdown",
   "metadata": {},
   "source": [
    "### Parquet files\n",
    "\n",
    "* Contain the obs metadata\n",
    "* These can be read efficiently with [pyarrow](https://arrow.apache.org/docs/python/index.html)\n",
    "  * We will read in via pyarrow and convert to pandas"
   ]
  },
  {
   "cell_type": "code",
   "execution_count": 7,
   "metadata": {},
   "outputs": [
    {
     "data": {
      "text/plain": [
       "'gs://arc-ctc-scbasecamp/2025-02-25/metadata/GeneFull_Ex50pAS'"
      ]
     },
     "execution_count": 7,
     "metadata": {},
     "output_type": "execute_result"
    }
   ],
   "source": [
    "## set the path to the metadata files\n",
    "gcs_path = os.path.join(gcs_base_path, \"metadata\", feature_type)\n",
    "gcs_path"
   ]
  },
  {
   "cell_type": "markdown",
   "metadata": {},
   "source": [
    "#### List per-sample metadata files\n",
    "\n",
    "Per-sample (SRX accession) metadata (e.g., tissue)"
   ]
  },
  {
   "cell_type": "code",
   "execution_count": 8,
   "metadata": {},
   "outputs": [
    {
     "name": "stdout",
     "output_type": "stream",
     "text": [
      "(21, 2)\n"
     ]
    },
    {
     "data": {
      "text/html": [
       "<div>\n",
       "<style scoped>\n",
       "    .dataframe tbody tr th:only-of-type {\n",
       "        vertical-align: middle;\n",
       "    }\n",
       "\n",
       "    .dataframe tbody tr th {\n",
       "        vertical-align: top;\n",
       "    }\n",
       "\n",
       "    .dataframe thead th {\n",
       "        text-align: right;\n",
       "    }\n",
       "</style>\n",
       "<table border=\"1\" class=\"dataframe\">\n",
       "  <thead>\n",
       "    <tr style=\"text-align: right;\">\n",
       "      <th></th>\n",
       "      <th>organism</th>\n",
       "      <th>file_path</th>\n",
       "    </tr>\n",
       "  </thead>\n",
       "  <tbody>\n",
       "    <tr>\n",
       "      <th>0</th>\n",
       "      <td>Arabidopsis_thaliana</td>\n",
       "      <td>arc-ctc-scbasecamp/2025-02-25/metadata/GeneFul...</td>\n",
       "    </tr>\n",
       "    <tr>\n",
       "      <th>1</th>\n",
       "      <td>Bos_taurus</td>\n",
       "      <td>arc-ctc-scbasecamp/2025-02-25/metadata/GeneFul...</td>\n",
       "    </tr>\n",
       "    <tr>\n",
       "      <th>2</th>\n",
       "      <td>Caenorhabditis_elegans</td>\n",
       "      <td>arc-ctc-scbasecamp/2025-02-25/metadata/GeneFul...</td>\n",
       "    </tr>\n",
       "    <tr>\n",
       "      <th>3</th>\n",
       "      <td>Callithrix_jacchus</td>\n",
       "      <td>arc-ctc-scbasecamp/2025-02-25/metadata/GeneFul...</td>\n",
       "    </tr>\n",
       "    <tr>\n",
       "      <th>4</th>\n",
       "      <td>Danio_rerio</td>\n",
       "      <td>arc-ctc-scbasecamp/2025-02-25/metadata/GeneFul...</td>\n",
       "    </tr>\n",
       "  </tbody>\n",
       "</table>\n",
       "</div>"
      ],
      "text/plain": [
       "                 organism                                          file_path\n",
       "0    Arabidopsis_thaliana  arc-ctc-scbasecamp/2025-02-25/metadata/GeneFul...\n",
       "1              Bos_taurus  arc-ctc-scbasecamp/2025-02-25/metadata/GeneFul...\n",
       "2  Caenorhabditis_elegans  arc-ctc-scbasecamp/2025-02-25/metadata/GeneFul...\n",
       "3      Callithrix_jacchus  arc-ctc-scbasecamp/2025-02-25/metadata/GeneFul...\n",
       "4             Danio_rerio  arc-ctc-scbasecamp/2025-02-25/metadata/GeneFul..."
      ]
     },
     "execution_count": 8,
     "metadata": {},
     "output_type": "execute_result"
    }
   ],
   "source": [
    "## list files\n",
    "sample_pq_files = get_file_table(gcs_path, \"sample_metadata.parquet\")\n",
    "print(sample_pq_files.shape)\n",
    "sample_pq_files.head()"
   ]
  },
  {
   "cell_type": "markdown",
   "metadata": {},
   "source": [
    "**Notes:**\n",
    "\n",
    "* As you can see, the files are organized by `feature_type` (STARsolo output type) and `organism`"
   ]
  },
  {
   "cell_type": "markdown",
   "metadata": {},
   "source": [
    "#### List per-obs metadata files\n",
    "\n",
    "Per-observation (cell) metadata"
   ]
  },
  {
   "cell_type": "code",
   "execution_count": 9,
   "metadata": {},
   "outputs": [
    {
     "name": "stdout",
     "output_type": "stream",
     "text": [
      "(21, 2)\n"
     ]
    },
    {
     "data": {
      "text/html": [
       "<div>\n",
       "<style scoped>\n",
       "    .dataframe tbody tr th:only-of-type {\n",
       "        vertical-align: middle;\n",
       "    }\n",
       "\n",
       "    .dataframe tbody tr th {\n",
       "        vertical-align: top;\n",
       "    }\n",
       "\n",
       "    .dataframe thead th {\n",
       "        text-align: right;\n",
       "    }\n",
       "</style>\n",
       "<table border=\"1\" class=\"dataframe\">\n",
       "  <thead>\n",
       "    <tr style=\"text-align: right;\">\n",
       "      <th></th>\n",
       "      <th>organism</th>\n",
       "      <th>file_path</th>\n",
       "    </tr>\n",
       "  </thead>\n",
       "  <tbody>\n",
       "    <tr>\n",
       "      <th>0</th>\n",
       "      <td>Arabidopsis_thaliana</td>\n",
       "      <td>arc-ctc-scbasecamp/2025-02-25/metadata/GeneFul...</td>\n",
       "    </tr>\n",
       "    <tr>\n",
       "      <th>1</th>\n",
       "      <td>Bos_taurus</td>\n",
       "      <td>arc-ctc-scbasecamp/2025-02-25/metadata/GeneFul...</td>\n",
       "    </tr>\n",
       "    <tr>\n",
       "      <th>2</th>\n",
       "      <td>Caenorhabditis_elegans</td>\n",
       "      <td>arc-ctc-scbasecamp/2025-02-25/metadata/GeneFul...</td>\n",
       "    </tr>\n",
       "    <tr>\n",
       "      <th>3</th>\n",
       "      <td>Callithrix_jacchus</td>\n",
       "      <td>arc-ctc-scbasecamp/2025-02-25/metadata/GeneFul...</td>\n",
       "    </tr>\n",
       "    <tr>\n",
       "      <th>4</th>\n",
       "      <td>Danio_rerio</td>\n",
       "      <td>arc-ctc-scbasecamp/2025-02-25/metadata/GeneFul...</td>\n",
       "    </tr>\n",
       "  </tbody>\n",
       "</table>\n",
       "</div>"
      ],
      "text/plain": [
       "                 organism                                          file_path\n",
       "0    Arabidopsis_thaliana  arc-ctc-scbasecamp/2025-02-25/metadata/GeneFul...\n",
       "1              Bos_taurus  arc-ctc-scbasecamp/2025-02-25/metadata/GeneFul...\n",
       "2  Caenorhabditis_elegans  arc-ctc-scbasecamp/2025-02-25/metadata/GeneFul...\n",
       "3      Callithrix_jacchus  arc-ctc-scbasecamp/2025-02-25/metadata/GeneFul...\n",
       "4             Danio_rerio  arc-ctc-scbasecamp/2025-02-25/metadata/GeneFul..."
      ]
     },
     "execution_count": 9,
     "metadata": {},
     "output_type": "execute_result"
    }
   ],
   "source": [
    "## list files\n",
    "obs_pq_files = get_file_table(gcs_path, \"obs_metadata.parquet\")\n",
    "print(obs_pq_files.shape)\n",
    "obs_pq_files.head()"
   ]
  },
  {
   "cell_type": "markdown",
   "metadata": {},
   "source": [
    "### h5ad files \n",
    "\n",
    "* Contain count matrices and per-obs metadata"
   ]
  },
  {
   "cell_type": "code",
   "execution_count": 10,
   "metadata": {},
   "outputs": [
    {
     "data": {
      "text/plain": [
       "'gs://arc-ctc-scbasecamp/2025-02-25/h5ad/GeneFull_Ex50pAS'"
      ]
     },
     "execution_count": 10,
     "metadata": {},
     "output_type": "execute_result"
    }
   ],
   "source": [
    "## set the path\n",
    "gcs_path = os.path.join(gcs_base_path, \"h5ad\", feature_type)\n",
    "gcs_path"
   ]
  },
  {
   "cell_type": "code",
   "execution_count": 11,
   "metadata": {},
   "outputs": [
    {
     "name": "stdout",
     "output_type": "stream",
     "text": [
      "(30387, 2)\n"
     ]
    },
    {
     "data": {
      "text/html": [
       "<div>\n",
       "<style scoped>\n",
       "    .dataframe tbody tr th:only-of-type {\n",
       "        vertical-align: middle;\n",
       "    }\n",
       "\n",
       "    .dataframe tbody tr th {\n",
       "        vertical-align: top;\n",
       "    }\n",
       "\n",
       "    .dataframe thead th {\n",
       "        text-align: right;\n",
       "    }\n",
       "</style>\n",
       "<table border=\"1\" class=\"dataframe\">\n",
       "  <thead>\n",
       "    <tr style=\"text-align: right;\">\n",
       "      <th></th>\n",
       "      <th>organism</th>\n",
       "      <th>file_path</th>\n",
       "    </tr>\n",
       "  </thead>\n",
       "  <tbody>\n",
       "    <tr>\n",
       "      <th>0</th>\n",
       "      <td>Arabidopsis_thaliana</td>\n",
       "      <td>arc-ctc-scbasecamp/2025-02-25/h5ad/GeneFull_Ex...</td>\n",
       "    </tr>\n",
       "    <tr>\n",
       "      <th>1</th>\n",
       "      <td>Arabidopsis_thaliana</td>\n",
       "      <td>arc-ctc-scbasecamp/2025-02-25/h5ad/GeneFull_Ex...</td>\n",
       "    </tr>\n",
       "    <tr>\n",
       "      <th>2</th>\n",
       "      <td>Arabidopsis_thaliana</td>\n",
       "      <td>arc-ctc-scbasecamp/2025-02-25/h5ad/GeneFull_Ex...</td>\n",
       "    </tr>\n",
       "    <tr>\n",
       "      <th>3</th>\n",
       "      <td>Arabidopsis_thaliana</td>\n",
       "      <td>arc-ctc-scbasecamp/2025-02-25/h5ad/GeneFull_Ex...</td>\n",
       "    </tr>\n",
       "    <tr>\n",
       "      <th>4</th>\n",
       "      <td>Arabidopsis_thaliana</td>\n",
       "      <td>arc-ctc-scbasecamp/2025-02-25/h5ad/GeneFull_Ex...</td>\n",
       "    </tr>\n",
       "  </tbody>\n",
       "</table>\n",
       "</div>"
      ],
      "text/plain": [
       "               organism                                          file_path\n",
       "0  Arabidopsis_thaliana  arc-ctc-scbasecamp/2025-02-25/h5ad/GeneFull_Ex...\n",
       "1  Arabidopsis_thaliana  arc-ctc-scbasecamp/2025-02-25/h5ad/GeneFull_Ex...\n",
       "2  Arabidopsis_thaliana  arc-ctc-scbasecamp/2025-02-25/h5ad/GeneFull_Ex...\n",
       "3  Arabidopsis_thaliana  arc-ctc-scbasecamp/2025-02-25/h5ad/GeneFull_Ex...\n",
       "4  Arabidopsis_thaliana  arc-ctc-scbasecamp/2025-02-25/h5ad/GeneFull_Ex..."
      ]
     },
     "execution_count": 11,
     "metadata": {},
     "output_type": "execute_result"
    }
   ],
   "source": [
    "## list files\n",
    "h5ad_files = get_file_table(gcs_path, endswith=\".h5ad\")\n",
    "print(h5ad_files.shape)\n",
    "h5ad_files.head()"
   ]
  },
  {
   "cell_type": "markdown",
   "metadata": {},
   "source": [
    "## Explore the per-sample metadata"
   ]
  },
  {
   "cell_type": "markdown",
   "metadata": {},
   "source": [
    "#### Just human samples"
   ]
  },
  {
   "cell_type": "code",
   "execution_count": 12,
   "metadata": {},
   "outputs": [
    {
     "data": {
      "text/plain": [
       "'arc-ctc-scbasecamp/2025-02-25/metadata/GeneFull_Ex50pAS/Homo_sapiens/sample_metadata.parquet'"
      ]
     },
     "execution_count": 12,
     "metadata": {},
     "output_type": "execute_result"
    }
   ],
   "source": [
    "## get the per-sample metadata file path\n",
    "infile = sample_pq_files[sample_pq_files[\"organism\"] == \"Homo_sapiens\"][\"file_path\"].values[0]\n",
    "infile"
   ]
  },
  {
   "cell_type": "code",
   "execution_count": 13,
   "metadata": {},
   "outputs": [
    {
     "name": "stdout",
     "output_type": "stream",
     "text": [
      "(16077, 14)\n"
     ]
    },
    {
     "data": {
      "text/html": [
       "<div>\n",
       "<style scoped>\n",
       "    .dataframe tbody tr th:only-of-type {\n",
       "        vertical-align: middle;\n",
       "    }\n",
       "\n",
       "    .dataframe tbody tr th {\n",
       "        vertical-align: top;\n",
       "    }\n",
       "\n",
       "    .dataframe thead th {\n",
       "        text-align: right;\n",
       "    }\n",
       "</style>\n",
       "<table border=\"1\" class=\"dataframe\">\n",
       "  <thead>\n",
       "    <tr style=\"text-align: right;\">\n",
       "      <th></th>\n",
       "      <th>entrez_id</th>\n",
       "      <th>srx_accession</th>\n",
       "      <th>file_path</th>\n",
       "      <th>obs_count</th>\n",
       "      <th>lib_prep</th>\n",
       "      <th>tech_10x</th>\n",
       "      <th>cell_prep</th>\n",
       "      <th>organism</th>\n",
       "      <th>tissue</th>\n",
       "      <th>disease</th>\n",
       "      <th>perturbation</th>\n",
       "      <th>cell_line</th>\n",
       "      <th>czi_collection_id</th>\n",
       "      <th>czi_collection_name</th>\n",
       "    </tr>\n",
       "  </thead>\n",
       "  <tbody>\n",
       "    <tr>\n",
       "      <th>0</th>\n",
       "      <td>29110018</td>\n",
       "      <td>ERX11148735</td>\n",
       "      <td>gs://arc-ctc-scbasecamp/2025-02-25/h5ad/GeneFu...</td>\n",
       "      <td>747</td>\n",
       "      <td>10x_Genomics</td>\n",
       "      <td>3_prime_gex</td>\n",
       "      <td>single_cell</td>\n",
       "      <td>Homo sapiens</td>\n",
       "      <td>skin of body</td>\n",
       "      <td>normal</td>\n",
       "      <td>surplus skin from breast reconstruction surgery</td>\n",
       "      <td>not applicable</td>\n",
       "      <td>73f82ac8-15cc-4fcd-87f8-5683723fce7f</td>\n",
       "      <td>Developmental cell programs are co-opted in in...</td>\n",
       "    </tr>\n",
       "    <tr>\n",
       "      <th>1</th>\n",
       "      <td>29110027</td>\n",
       "      <td>ERX11148744</td>\n",
       "      <td>gs://arc-ctc-scbasecamp/2025-02-25/h5ad/GeneFu...</td>\n",
       "      <td>2379</td>\n",
       "      <td>10x_Genomics</td>\n",
       "      <td>3_prime_gex</td>\n",
       "      <td>single_cell</td>\n",
       "      <td>Homo sapiens</td>\n",
       "      <td>skin of body</td>\n",
       "      <td>normal</td>\n",
       "      <td>treated with dispase II and collagenase for ce...</td>\n",
       "      <td>keratinocyte CD49f-</td>\n",
       "      <td>73f82ac8-15cc-4fcd-87f8-5683723fce7f</td>\n",
       "      <td>Developmental cell programs are co-opted in in...</td>\n",
       "    </tr>\n",
       "  </tbody>\n",
       "</table>\n",
       "</div>"
      ],
      "text/plain": [
       "   entrez_id srx_accession                                          file_path  \\\n",
       "0   29110018   ERX11148735  gs://arc-ctc-scbasecamp/2025-02-25/h5ad/GeneFu...   \n",
       "1   29110027   ERX11148744  gs://arc-ctc-scbasecamp/2025-02-25/h5ad/GeneFu...   \n",
       "\n",
       "   obs_count      lib_prep     tech_10x    cell_prep      organism  \\\n",
       "0        747  10x_Genomics  3_prime_gex  single_cell  Homo sapiens   \n",
       "1       2379  10x_Genomics  3_prime_gex  single_cell  Homo sapiens   \n",
       "\n",
       "         tissue disease                                       perturbation  \\\n",
       "0  skin of body  normal    surplus skin from breast reconstruction surgery   \n",
       "1  skin of body  normal  treated with dispase II and collagenase for ce...   \n",
       "\n",
       "             cell_line                     czi_collection_id  \\\n",
       "0       not applicable  73f82ac8-15cc-4fcd-87f8-5683723fce7f   \n",
       "1  keratinocyte CD49f-  73f82ac8-15cc-4fcd-87f8-5683723fce7f   \n",
       "\n",
       "                                 czi_collection_name  \n",
       "0  Developmental cell programs are co-opted in in...  \n",
       "1  Developmental cell programs are co-opted in in...  "
      ]
     },
     "execution_count": 13,
     "metadata": {},
     "output_type": "execute_result"
    }
   ],
   "source": [
    "## load the metadata\n",
    "sample_metadata = ds.dataset(infile, filesystem=fs, format=\"parquet\").to_table().to_pandas()\n",
    "print(sample_metadata.shape)\n",
    "sample_metadata.head(2)"
   ]
  },
  {
   "cell_type": "code",
   "execution_count": 14,
   "metadata": {},
   "outputs": [
    {
     "data": {
      "text/html": [
       "<div>\n",
       "<style scoped>\n",
       "    .dataframe tbody tr th:only-of-type {\n",
       "        vertical-align: middle;\n",
       "    }\n",
       "\n",
       "    .dataframe tbody tr th {\n",
       "        vertical-align: top;\n",
       "    }\n",
       "\n",
       "    .dataframe thead th {\n",
       "        text-align: right;\n",
       "    }\n",
       "</style>\n",
       "<table border=\"1\" class=\"dataframe\">\n",
       "  <thead>\n",
       "    <tr style=\"text-align: right;\">\n",
       "      <th></th>\n",
       "      <th>entrez_id</th>\n",
       "      <th>srx_accession</th>\n",
       "      <th>file_path</th>\n",
       "      <th>obs_count</th>\n",
       "      <th>lib_prep</th>\n",
       "      <th>tech_10x</th>\n",
       "      <th>cell_prep</th>\n",
       "      <th>organism</th>\n",
       "      <th>tissue</th>\n",
       "      <th>disease</th>\n",
       "      <th>perturbation</th>\n",
       "      <th>cell_line</th>\n",
       "      <th>czi_collection_id</th>\n",
       "      <th>czi_collection_name</th>\n",
       "    </tr>\n",
       "  </thead>\n",
       "  <tbody>\n",
       "    <tr>\n",
       "      <th>16075</th>\n",
       "      <td>37011694</td>\n",
       "      <td>SRX27443008</td>\n",
       "      <td>gs://arc-ctc-scbasecamp/2025-02-25/h5ad/GeneFu...</td>\n",
       "      <td>9024</td>\n",
       "      <td>10x_Genomics</td>\n",
       "      <td>3_prime_gex</td>\n",
       "      <td>single_cell</td>\n",
       "      <td>Homo sapiens</td>\n",
       "      <td>blood</td>\n",
       "      <td>severe fever with thrombocytopenia syndrome</td>\n",
       "      <td>unsure</td>\n",
       "      <td>not applicable</td>\n",
       "      <td>None</td>\n",
       "      <td>None</td>\n",
       "    </tr>\n",
       "    <tr>\n",
       "      <th>16076</th>\n",
       "      <td>37050686</td>\n",
       "      <td>SRX27477190</td>\n",
       "      <td>gs://arc-ctc-scbasecamp/2025-02-25/h5ad/GeneFu...</td>\n",
       "      <td>10872</td>\n",
       "      <td>10x_Genomics</td>\n",
       "      <td>3_prime_gex</td>\n",
       "      <td>single_cell</td>\n",
       "      <td>Homo sapiens</td>\n",
       "      <td>brain</td>\n",
       "      <td>glioblastoma</td>\n",
       "      <td>transgenic expression of POU5F1 (Oct4) and SOX2</td>\n",
       "      <td>GBM1A (patient-derived neurospheres)</td>\n",
       "      <td>None</td>\n",
       "      <td>None</td>\n",
       "    </tr>\n",
       "  </tbody>\n",
       "</table>\n",
       "</div>"
      ],
      "text/plain": [
       "       entrez_id srx_accession  \\\n",
       "16075   37011694   SRX27443008   \n",
       "16076   37050686   SRX27477190   \n",
       "\n",
       "                                               file_path  obs_count  \\\n",
       "16075  gs://arc-ctc-scbasecamp/2025-02-25/h5ad/GeneFu...       9024   \n",
       "16076  gs://arc-ctc-scbasecamp/2025-02-25/h5ad/GeneFu...      10872   \n",
       "\n",
       "           lib_prep     tech_10x    cell_prep      organism tissue  \\\n",
       "16075  10x_Genomics  3_prime_gex  single_cell  Homo sapiens  blood   \n",
       "16076  10x_Genomics  3_prime_gex  single_cell  Homo sapiens  brain   \n",
       "\n",
       "                                           disease  \\\n",
       "16075  severe fever with thrombocytopenia syndrome   \n",
       "16076                                 glioblastoma   \n",
       "\n",
       "                                          perturbation  \\\n",
       "16075                                           unsure   \n",
       "16076  transgenic expression of POU5F1 (Oct4) and SOX2   \n",
       "\n",
       "                                  cell_line czi_collection_id  \\\n",
       "16075                        not applicable              None   \n",
       "16076  GBM1A (patient-derived neurospheres)              None   \n",
       "\n",
       "      czi_collection_name  \n",
       "16075                None  \n",
       "16076                None  "
      ]
     },
     "execution_count": 14,
     "metadata": {},
     "output_type": "execute_result"
    }
   ],
   "source": [
    "sample_metadata.tail(2)"
   ]
  },
  {
   "cell_type": "code",
   "execution_count": 15,
   "metadata": {},
   "outputs": [],
   "source": [
    "df = sample_metadata"
   ]
  },
  {
   "cell_type": "code",
   "execution_count": 16,
   "metadata": {},
   "outputs": [
    {
     "data": {
      "text/plain": [
       "np.int64(14431)"
      ]
     },
     "execution_count": 16,
     "metadata": {},
     "output_type": "execute_result"
    }
   ],
   "source": [
    "df['srx_accession'].str.startswith('SRX').sum()"
   ]
  },
  {
   "cell_type": "code",
   "execution_count": 17,
   "metadata": {},
   "outputs": [
    {
     "data": {
      "text/plain": [
       "np.int64(1646)"
      ]
     },
     "execution_count": 17,
     "metadata": {},
     "output_type": "execute_result"
    }
   ],
   "source": [
    "df['srx_accession'].str.startswith('ERX').sum()"
   ]
  },
  {
   "cell_type": "code",
   "execution_count": 18,
   "metadata": {},
   "outputs": [
    {
     "name": "stdout",
     "output_type": "stream",
     "text": [
      "   entrez_id srx_accession\n",
      "0   29110018   ERX11148735\n",
      "1   29110027   ERX11148744\n"
     ]
    }
   ],
   "source": [
    "print(df[['entrez_id', 'srx_accession']].head(2))"
   ]
  },
  {
   "cell_type": "code",
   "execution_count": 19,
   "metadata": {},
   "outputs": [
    {
     "data": {
      "text/plain": [
       "organism\n",
       "Homo sapiens    16077\n",
       "Name: count, dtype: int64"
      ]
     },
     "execution_count": 19,
     "metadata": {},
     "output_type": "execute_result"
    }
   ],
   "source": [
    "## All human?\n",
    "sample_metadata[\"organism\"].value_counts()"
   ]
  },
  {
   "cell_type": "code",
   "execution_count": 20,
   "metadata": {},
   "outputs": [
    {
     "data": {
      "text/plain": [
       "tech_10x\n",
       "3_prime_gex          10851\n",
       "5_prime_gex           3746\n",
       "vdj                    437\n",
       "multiome               366\n",
       "not_applicable         250\n",
       "feature_barcoding      230\n",
       "other                  168\n",
       "cellplex                19\n",
       "flex                     6\n",
       "atac                     4\n",
       "Name: count, dtype: int64"
      ]
     },
     "execution_count": 20,
     "metadata": {},
     "output_type": "execute_result"
    }
   ],
   "source": [
    "## 10X library prep methods\n",
    "sample_metadata[\"tech_10x\"].value_counts()"
   ]
  },
  {
   "cell_type": "code",
   "execution_count": 21,
   "metadata": {},
   "outputs": [
    {
     "data": {
      "text/plain": [
       "cell_prep\n",
       "single_cell       14661\n",
       "single_nucleus     1393\n",
       "unsure               22\n",
       "not_applicable        1\n",
       "Name: count, dtype: int64"
      ]
     },
     "execution_count": 21,
     "metadata": {},
     "output_type": "execute_result"
    }
   ],
   "source": [
    "## cell prep method\n",
    "sample_metadata[\"cell_prep\"].value_counts()"
   ]
  },
  {
   "cell_type": "code",
   "execution_count": 4,
   "metadata": {},
   "outputs": [
    {
     "name": "stdout",
     "output_type": "stream",
     "text": [
      "\u001b[92mNCBI_API_KEY is set\u001b[0m\n",
      "\u001b[92mOPENAI_API_KEY is set\u001b[0m\n",
      "\u001b[92mGOOGLE_SEARCH_API_KEY is set\u001b[0m\n",
      "\u001b[92mGOOGLE_SEARCH_CSE_ID is set\u001b[0m\n"
     ]
    }
   ],
   "source": [
    "from dotenv import load_dotenv\n",
    "import os\n",
    "\n",
    "load_dotenv()\n",
    "\n",
    "def print_green(text):\n",
    "    print(f\"\\033[92m{text}\\033[0m\")\n",
    "\n",
    "def print_red(text):\n",
    "    print(f\"\\033[91m{text}\\033[0m\")\n",
    "\n",
    "if os.getenv(\"NCBI_API_KEY\"):\n",
    "    print_green(\"NCBI_API_KEY is set\")\n",
    "else:\n",
    "    print_red(\"NCBI_API_KEY is not set\")\n",
    "\n",
    "if os.getenv(\"OPENAI_API_KEY\"):\n",
    "    print_green(\"OPENAI_API_KEY is set\")\n",
    "else:\n",
    "    print_red(\"OPENAI_API_KEY is not set\")\n",
    "\n",
    "if os.getenv(\"GOOGLE_SEARCH_API_KEY\"):\n",
    "    print_green(\"GOOGLE_SEARCH_API_KEY is set\")\n",
    "else:\n",
    "    print_red(\"GOOGLE_SEARCH_API_KEY is not set\")\n",
    "\n",
    "if os.getenv(\"GOOGLE_SEARCH_CSE_ID\"):\n",
    "    print_green(\"GOOGLE_SEARCH_CSE_ID is set\")\n",
    "else:\n",
    "    print_red(\"GOOGLE_SEARCH_CSE_ID is not set\")\n"
   ]
  },
  {
   "cell_type": "markdown",
   "metadata": {},
   "source": [
    "# Get GEO/ArrayExpress datasets for each"
   ]
  },
  {
   "cell_type": "code",
   "execution_count": 5,
   "metadata": {},
   "outputs": [],
   "source": [
    "# !pip install biopython"
   ]
  },
  {
   "cell_type": "code",
   "execution_count": 3,
   "metadata": {},
   "outputs": [],
   "source": [
    "import pandas as pd\n",
    "\n",
    "result_df = pd.read_csv(\"result_df.csv\")\n",
    "sdf = pd.read_csv(\"study_df.csv\")"
   ]
  },
  {
   "cell_type": "code",
   "execution_count": null,
   "metadata": {},
   "outputs": [
    {
     "data": {
      "text/plain": [
       "1665"
      ]
     },
     "execution_count": 7,
     "metadata": {},
     "output_type": "execute_result"
    }
   ],
   "source": [
    "result_df['sra_id'].nunique()"
   ]
  },
  {
   "cell_type": "code",
   "execution_count": 10,
   "metadata": {},
   "outputs": [],
   "source": [
    "result_df.rename(columns={'sra_id': 'srp_id'}, inplace=True)"
   ]
  },
  {
   "cell_type": "code",
   "execution_count": 11,
   "metadata": {},
   "outputs": [],
   "source": [
    "study_df = result_df[['srp_id']].drop_duplicates()"
   ]
  },
  {
   "cell_type": "code",
   "execution_count": 12,
   "metadata": {},
   "outputs": [],
   "source": [
    "study_df.reset_index(drop=True, inplace=True)"
   ]
  },
  {
   "cell_type": "code",
   "execution_count": 14,
   "metadata": {},
   "outputs": [
    {
     "data": {
      "text/plain": [
       "array(['10x_Genomics'], dtype=object)"
      ]
     },
     "execution_count": 14,
     "metadata": {},
     "output_type": "execute_result"
    }
   ],
   "source": [
    "result_df['lib_prep'].unique()"
   ]
  },
  {
   "cell_type": "code",
   "execution_count": 15,
   "metadata": {},
   "outputs": [
    {
     "data": {
      "text/plain": [
       "array(['3_prime_gex', 'other', 'not_applicable', '5_prime_gex', 'vdj',\n",
       "       'multiome', 'feature_barcoding', 'cellplex', 'flex', 'atac'],\n",
       "      dtype=object)"
      ]
     },
     "execution_count": 15,
     "metadata": {},
     "output_type": "execute_result"
    }
   ],
   "source": [
    "result_df['tech_10x'].unique()"
   ]
  },
  {
   "cell_type": "markdown",
   "metadata": {},
   "source": [
    "## Get all PRJ and GSE / EMTAB IDs"
   ]
  },
  {
   "cell_type": "code",
   "execution_count": 17,
   "metadata": {},
   "outputs": [],
   "source": [
    "sra_ids = study_df['srp_id'].tolist()"
   ]
  },
  {
   "cell_type": "code",
   "execution_count": 18,
   "metadata": {},
   "outputs": [
    {
     "name": "stderr",
     "output_type": "stream",
     "text": [
      "2025-03-16 19:49:40,539 - sra_batch_processor - INFO - Processing 1665 SRA IDs\n"
     ]
    },
    {
     "data": {
      "application/vnd.jupyter.widget-view+json": {
       "model_id": "0f06f6f8744c408abb9d2620637cf434",
       "version_major": 2,
       "version_minor": 0
      },
      "text/plain": [
       "Processing SRA IDs:   0%|          | 0/1665 [00:00<?, ?it/s]"
      ]
     },
     "metadata": {},
     "output_type": "display_data"
    },
    {
     "name": "stderr",
     "output_type": "stream",
     "text": [
      "2025-03-16 19:49:40,553 - sra_id_converter - INFO - Processing 1665 unique SRA IDs out of 1665 total\n",
      "2025-03-16 19:49:40,557 - sra_id_converter - INFO - Loaded 1665 cached results from my_large_cache.json\n",
      "2025-03-16 19:49:40,558 - sra_id_converter - INFO - Found 1665 IDs in cache/known mappings, 0 remaining to process\n",
      "2025-03-16 19:49:40,570 - sra_id_converter - INFO - Updated cache file my_large_cache.json with 1665 results\n",
      "2025-03-16 19:49:40,572 - sra_batch_processor - INFO - Processing completed in 0.03 seconds\n",
      "2025-03-16 19:49:40,574 - sra_batch_processor - INFO - Summary:\n",
      "2025-03-16 19:49:40,574 - sra_batch_processor - INFO -   Total SRA IDs processed: 1665\n",
      "2025-03-16 19:49:40,575 - sra_batch_processor - INFO -   BioProject IDs found: 1665 (100.0%)\n",
      "2025-03-16 19:49:40,575 - sra_batch_processor - INFO -   GEO/ArrayExpress IDs found: 1540 (92.5%)\n"
     ]
    }
   ],
   "source": [
    "from sra_batch_processor import process_sra_ids, results_to_dataframe\n",
    "import pandas as pd\n",
    "\n",
    "\n",
    "results = process_sra_ids(\n",
    "    sra_ids=sra_ids,\n",
    "    batch_size=50,  # Process 20 IDs at a time\n",
    "    max_workers=3,  # Use 3 parallel workers\n",
    "    delay_between_batches=3.0,  # Wait 3 seconds between batches\n",
    "    cache_file=\"my_large_cache.json\"  # Cache results in this file\n",
    ")\n"
   ]
  },
  {
   "cell_type": "code",
   "execution_count": 20,
   "metadata": {},
   "outputs": [
    {
     "data": {
      "text/plain": [
       "1665"
      ]
     },
     "execution_count": 20,
     "metadata": {},
     "output_type": "execute_result"
    }
   ],
   "source": [
    "len(results)"
   ]
  },
  {
   "cell_type": "code",
   "execution_count": 21,
   "metadata": {},
   "outputs": [
    {
     "data": {
      "text/plain": [
       "{'ERP149679': {'bioproject_id': 'PRJEB64504', 'geo_id': 'E-MTAB-8142'},\n",
       " 'ERP144781': {'bioproject_id': 'PRJEB59723', 'geo_id': 'E-MTAB-12650'},\n",
       " 'ERP123138': {'bioproject_id': 'PRJEB39602', 'geo_id': ''},\n",
       " 'ERP156277': {'bioproject_id': 'PRJEB71477', 'geo_id': 'E-MTAB-13085'},\n",
       " 'ERP151533': {'bioproject_id': 'PRJEB66480', 'geo_id': 'E-MTAB-13382'},\n",
       " 'ERP160803': {'bioproject_id': 'PRJEB76244', 'geo_id': 'E-MTAB-11528'},\n",
       " 'ERP158366': {'bioproject_id': 'PRJEB73595', 'geo_id': 'E-MTAB-13874'},\n",
       " 'SRP402417': {'bioproject_id': 'PRJNA890219', 'geo_id': 'GSE215403'},\n",
       " 'ERP136281': {'bioproject_id': 'PRJEB51634', 'geo_id': 'E-MTAB-11536'},\n",
       " 'SRP324458': {'bioproject_id': 'PRJNA738600', 'geo_id': 'GSE178360'},\n",
       " 'SRP364677': {'bioproject_id': 'PRJNA816172', 'geo_id': 'GSE198623'},\n",
       " 'ERP136992': {'bioproject_id': 'PRJEB52292', 'geo_id': ''},\n",
       " 'SRP329496': {'bioproject_id': 'PRJNA749041', 'geo_id': 'GSE180661'},\n",
       " 'SRP273096': {'bioproject_id': 'PRJNA647809', 'geo_id': 'GSE154795'},\n",
       " 'SRP510712': {'bioproject_id': 'PRJNA1117936', 'geo_id': 'GSE268630'},\n",
       " 'SRP308561': {'bioproject_id': 'PRJNA705464', 'geo_id': ''},\n",
       " 'SRP306446': {'bioproject_id': 'PRJNA701930', 'geo_id': 'GSE166766'},\n",
       " 'SRP309720': {'bioproject_id': 'PRJNA707445', 'geo_id': 'GSE168453'},\n",
       " 'SRP310949': {'bioproject_id': 'PRJNA714963', 'geo_id': 'GSE169047'},\n",
       " 'SRP288163': {'bioproject_id': 'PRJNA670674', 'geo_id': 'GSE159812'},\n",
       " 'SRP314456': {'bioproject_id': 'PRJNA721338', 'geo_id': 'GSE171890'},\n",
       " 'SRP323939': {'bioproject_id': 'PRJNA737368', 'geo_id': 'GSE178101'},\n",
       " 'SRP324752': {'bioproject_id': 'PRJNA739470', 'geo_id': 'GSE178519'},\n",
       " 'SRP373380': {'bioproject_id': 'PRJNA834732', 'geo_id': 'GSE202109'},\n",
       " 'SRP329970': {'bioproject_id': 'PRJNA749859', 'geo_id': 'GSE180878'},\n",
       " 'SRP329506': {'bioproject_id': 'PRJNA749050', 'geo_id': 'GSE180665'},\n",
       " 'SRP339827': {'bioproject_id': 'PRJNA768274', 'geo_id': 'GSE185222'},\n",
       " 'SRP339818': {'bioproject_id': 'PRJNA768275', 'geo_id': 'GSE185224'},\n",
       " 'SRP394197': {'bioproject_id': 'PRJNA872112', 'geo_id': 'GSE211783'},\n",
       " 'SRP394297': {'bioproject_id': 'PRJNA873051', 'geo_id': 'GSE211956'},\n",
       " 'SRP352824': {'bioproject_id': 'PRJNA793009', 'geo_id': 'GSE192740'},\n",
       " 'SRP359840': {'bioproject_id': 'PRJNA807049', 'geo_id': 'GSE196735'},\n",
       " 'SRP356866': {'bioproject_id': 'PRJNA800746', 'geo_id': 'GSE195460'},\n",
       " 'SRP358668': {'bioproject_id': 'PRJNA803994', 'geo_id': 'GSE196235'},\n",
       " 'SRP372831': {'bioproject_id': 'PRJNA827827', 'geo_id': 'GSE251695'},\n",
       " 'SRP373879': {'bioproject_id': 'PRJNA835596', 'geo_id': 'GSE202352'},\n",
       " 'SRP376828': {'bioproject_id': 'PRJNA841957', 'geo_id': 'GSE204683'},\n",
       " 'SRP300090': {'bioproject_id': 'PRJNA689306', 'geo_id': 'GSE164157'},\n",
       " 'SRP295708': {'bioproject_id': 'PRJNA682432', 'geo_id': 'GSE162631'},\n",
       " 'SRP301923': {'bioproject_id': 'PRJNA692423', 'geo_id': 'GSE164898'},\n",
       " 'SRP300494': {'bioproject_id': 'PRJNA689805', 'geo_id': 'GSE164291'},\n",
       " 'SRP327758': {'bioproject_id': 'PRJNA672851', 'geo_id': 'GSE160269'},\n",
       " 'SRP190819': {'bioproject_id': 'PRJNA530780', 'geo_id': 'GSE129308'},\n",
       " 'SRP395406': {'bioproject_id': 'PRJNA563828', 'geo_id': 'GSE136831'},\n",
       " 'SRP403256': {'bioproject_id': 'PRJNA891720', 'geo_id': 'GSE216019'},\n",
       " 'SRP300271': {'bioproject_id': 'PRJNA689610', 'geo_id': 'GSE164241'},\n",
       " 'SRP422509': {'bioproject_id': 'PRJNA934594', 'geo_id': 'GSE224995'},\n",
       " 'SRP422247': {'bioproject_id': 'PRJNA934272', 'geo_id': 'GSE225158'},\n",
       " 'SRP424526': {'bioproject_id': 'PRJNA938514', 'geo_id': 'GSE226108'},\n",
       " 'SRP080991': {'bioproject_id': 'PRJNA337935', 'geo_id': 'GSE85241'},\n",
       " 'SRP445956': {'bioproject_id': 'PRJNA987581', 'geo_id': 'GSE235760'},\n",
       " 'SRP472215': {'bioproject_id': 'PRJNA1040894', 'geo_id': 'GSE247905'},\n",
       " 'SRP472229': {'bioproject_id': 'PRJNA1040901', 'geo_id': 'GSE247910'},\n",
       " 'SRP472217': {'bioproject_id': 'PRJNA1040891', 'geo_id': 'GSE247904'},\n",
       " 'SRP472225': {'bioproject_id': 'PRJNA1040902', 'geo_id': 'GSE247916'},\n",
       " 'SRP472231': {'bioproject_id': 'PRJNA1040900', 'geo_id': 'GSE247911'},\n",
       " 'SRP472230': {'bioproject_id': 'PRJNA1040896', 'geo_id': 'GSE247908'},\n",
       " 'SRP472232': {'bioproject_id': 'PRJNA1040893', 'geo_id': 'GSE247906'},\n",
       " 'SRP472233': {'bioproject_id': 'PRJNA1040897', 'geo_id': 'GSE247907'},\n",
       " 'SRP472242': {'bioproject_id': 'PRJNA1040898', 'geo_id': 'GSE247913'},\n",
       " 'SRP472238': {'bioproject_id': 'PRJNA1040899', 'geo_id': 'GSE247912'},\n",
       " 'SRP472235': {'bioproject_id': 'PRJNA1040895', 'geo_id': 'GSE247909'},\n",
       " 'SRP472241': {'bioproject_id': 'PRJNA1040903', 'geo_id': 'GSE247915'},\n",
       " 'SRP472243': {'bioproject_id': 'PRJNA1040904', 'geo_id': 'GSE247914'},\n",
       " 'SRP472368': {'bioproject_id': 'PRJNA1040889', 'geo_id': 'GSE247901'},\n",
       " 'SRP472369': {'bioproject_id': 'PRJNA1040890', 'geo_id': 'GSE247902'},\n",
       " 'SRP472370': {'bioproject_id': 'PRJNA1040892', 'geo_id': 'GSE247903'},\n",
       " 'SRP475078': {'bioproject_id': 'PRJNA1047003', 'geo_id': 'GSE249005'},\n",
       " 'SRP491444': {'bioproject_id': 'PRJNA847631', 'geo_id': ''},\n",
       " 'SRP498620': {'bioproject_id': 'PRJNA1093393', 'geo_id': ''},\n",
       " 'SRP492825': {'bioproject_id': 'PRJNA1082689', 'geo_id': 'GSE260685'},\n",
       " 'SRP505235': {'bioproject_id': 'PRJNA1106903', 'geo_id': ''},\n",
       " 'SRP325476': {'bioproject_id': 'PRJNA741134', 'geo_id': ''},\n",
       " 'SRP147554': {'bioproject_id': 'PRJNA471694', 'geo_id': 'GSE114530'},\n",
       " 'SRP183081': {'bioproject_id': 'PRJNA518129', 'geo_id': 'GSE125970'},\n",
       " 'SRP183443': {'bioproject_id': 'PRJNA520832', 'geo_id': 'GSE126030'},\n",
       " 'SRP336897': {'bioproject_id': 'PRJNA761224', 'geo_id': 'GSE186368'},\n",
       " 'SRP199727': {'bioproject_id': 'PRJNA545232', 'geo_id': 'GSE131882'},\n",
       " 'SRP197355': {'bioproject_id': 'PRJNA542149', 'geo_id': 'GSE130973'},\n",
       " 'SRP214806': {'bioproject_id': 'PRJNA554845', 'geo_id': 'GSE134355'},\n",
       " 'SRP216273': {'bioproject_id': 'PRJNA556461', 'geo_id': 'GSE134809'},\n",
       " 'SRP217333': {'bioproject_id': 'PRJNA558555', 'geo_id': 'GSE135356'},\n",
       " 'SRP218543': {'bioproject_id': 'PRJNA560492', 'geo_id': 'GSE135893'},\n",
       " 'SRP218652': {'bioproject_id': 'PRJNA560646', 'geo_id': 'GSE135922'},\n",
       " 'SRP227039': {'bioproject_id': 'PRJNA579593', 'geo_id': ''},\n",
       " 'SRP222001': {'bioproject_id': 'PRJNA565928', 'geo_id': 'GSE137537'},\n",
       " 'SRP229265': {'bioproject_id': 'PRJNA588461', 'geo_id': ''},\n",
       " 'SRP214324': {'bioproject_id': 'PRJNA554141', 'geo_id': 'GSE134174'},\n",
       " 'SRP227166': {'bioproject_id': 'PRJNA579895', 'geo_id': 'GSE139448'},\n",
       " 'SRP247592': {'bioproject_id': 'PRJNA605194', 'geo_id': 'GSE144870'},\n",
       " 'SRP255187': {'bioproject_id': 'PRJNA623002', 'geo_id': 'GSE148073'},\n",
       " 'SRP318321': {'bioproject_id': 'PRJNA727024', 'geo_id': ''},\n",
       " 'SRP264987': {'bioproject_id': 'PRJNA635415', 'geo_id': 'GSE151302'},\n",
       " 'SRP266480': {'bioproject_id': 'PRJNA638142', 'geo_id': 'GSE152042'},\n",
       " 'SRP277811': {'bioproject_id': 'PRJNA657567', 'geo_id': 'GSE156341'},\n",
       " 'SRP278523': {'bioproject_id': 'PRJNA658799', 'geo_id': 'GSE156703'},\n",
       " 'SRP285688': {'bioproject_id': 'PRJNA666217', 'geo_id': 'GSE158702'},\n",
       " 'SRP318241': {'bioproject_id': 'PRJNA726991', 'geo_id': ''},\n",
       " 'SRP288732': {'bioproject_id': 'PRJNA672288', 'geo_id': 'GSE160189'},\n",
       " 'SRP291712': {'bioproject_id': 'PRJNA675538', 'geo_id': 'GSE161089'},\n",
       " 'SRP293783': {'bioproject_id': 'PRJNA680293', 'geo_id': 'GSE161918'},\n",
       " 'SRP292407': {'bioproject_id': 'PRJNA677823', 'geo_id': 'GSE161266'},\n",
       " 'SRP394685': {'bioproject_id': 'PRJNA874603', 'geo_id': 'GSE212217'},\n",
       " 'SRP395034': {'bioproject_id': 'PRJNA875320', 'geo_id': 'GSE212396'},\n",
       " 'SRP394875': {'bioproject_id': 'PRJNA874949', 'geo_id': 'GSE212309'},\n",
       " 'SRP395089': {'bioproject_id': 'PRJNA875446', 'geo_id': 'GSE212447'},\n",
       " 'SRP395208': {'bioproject_id': 'PRJNA875647', 'geo_id': 'GSE212505'},\n",
       " 'SRP395248': {'bioproject_id': 'PRJNA875907', 'geo_id': 'GSE212527'},\n",
       " 'SRP346713': {'bioproject_id': 'PRJNA781454', 'geo_id': ''},\n",
       " 'SRP327497': {'bioproject_id': 'PRJNA744851', 'geo_id': ''},\n",
       " 'SRP316398': {'bioproject_id': 'PRJNA725222', 'geo_id': ''},\n",
       " 'SRP349751': {'bioproject_id': 'PRJNA786266', 'geo_id': ''},\n",
       " 'SRP371601': {'bioproject_id': 'PRJNA830541', 'geo_id': 'GSE200075'},\n",
       " 'SRP357307': {'bioproject_id': 'PRJNA800176', 'geo_id': 'GSE227562'},\n",
       " 'SRP356296': {'bioproject_id': 'PRJNA777934', 'geo_id': 'GSE195673'},\n",
       " 'SRP374837': {'bioproject_id': 'PRJNA837343', 'geo_id': 'GSE202813'},\n",
       " 'SRP362101': {'bioproject_id': 'PRJNA811717', 'geo_id': ''},\n",
       " 'SRP371799': {'bioproject_id': 'PRJNA830914', 'geo_id': 'GSE201348'},\n",
       " 'SRP371759': {'bioproject_id': 'PRJNA830880', 'geo_id': 'GSE201327'},\n",
       " 'SRP372089': {'bioproject_id': 'PRJNA831684', 'geo_id': 'GSE201425'},\n",
       " 'SRP370005': {'bioproject_id': 'PRJNA826269', 'geo_id': ''},\n",
       " 'SRP372346': {'bioproject_id': 'PRJNA832265', 'geo_id': 'GSE201586'},\n",
       " 'SRP315131': {'bioproject_id': 'PRJNA722510', 'geo_id': 'GSE172241'},\n",
       " 'SRP372385': {'bioproject_id': 'PRJNA832323', 'geo_id': 'GSE201620'},\n",
       " 'SRP374021': {'bioproject_id': 'PRJNA835824', 'geo_id': 'GSE202379'},\n",
       " 'SRP376907': {'bioproject_id': 'PRJNA841984', 'geo_id': 'GSE204702'},\n",
       " 'SRP372296': {'bioproject_id': 'PRJNA832138', 'geo_id': 'GSE201534'},\n",
       " 'SRP373617': {'bioproject_id': 'PRJNA835055', 'geo_id': 'GSE202210'},\n",
       " 'SRP378686': {'bioproject_id': 'PRJNA846149', 'geo_id': ''},\n",
       " 'SRP377072': {'bioproject_id': 'PRJNA842351', 'geo_id': 'GSE204796'},\n",
       " 'SRP380180': {'bioproject_id': 'PRJNA842511', 'geo_id': 'GSE202731'},\n",
       " 'SRP297436': {'bioproject_id': 'PRJNA683899', 'geo_id': 'GSE162950'},\n",
       " 'SRP384683': {'bioproject_id': 'PRJNA855228', 'geo_id': 'GSE207393'},\n",
       " 'SRP378943': {'bioproject_id': 'PRJNA843856', 'geo_id': ''},\n",
       " 'SRP382202': {'bioproject_id': 'PRJNA849915', 'geo_id': 'GSE206256'},\n",
       " 'SRP385601': {'bioproject_id': 'PRJNA857062', 'geo_id': 'GSE207784'},\n",
       " 'SRP383633': {'bioproject_id': 'PRJNA853056', 'geo_id': 'GSE206962'},\n",
       " 'SRP379861': {'bioproject_id': 'PRJNA848753', 'geo_id': 'GSE205977'},\n",
       " 'SRP382068': {'bioproject_id': 'PRJNA849954', 'geo_id': 'GSE206283'},\n",
       " 'SRP383945': {'bioproject_id': 'PRJNA853580', 'geo_id': 'GSE207083'},\n",
       " 'SRP385908': {'bioproject_id': 'PRJNA857688', 'geo_id': 'GSE207921'},\n",
       " 'SRP388791': {'bioproject_id': 'PRJNA863599', 'geo_id': 'GSE210063'},\n",
       " 'SRP389703': {'bioproject_id': 'PRJNA865721', 'geo_id': 'GSE210433'},\n",
       " 'SRP386348': {'bioproject_id': 'PRJNA858410', 'geo_id': 'GSE208113'},\n",
       " 'SRP388199': {'bioproject_id': 'PRJNA862452', 'geo_id': 'GSE209781'},\n",
       " 'SRP273176': {'bioproject_id': 'PRJNA647723', 'geo_id': 'GSE154873'},\n",
       " 'SRP386097': {'bioproject_id': 'PRJNA858040', 'geo_id': 'GSE208034'},\n",
       " 'SRP386415': {'bioproject_id': 'PRJNA858773', 'geo_id': 'GSE208195'},\n",
       " 'SRP386035': {'bioproject_id': 'PRJNA857925', 'geo_id': 'GSE207993'},\n",
       " 'SRP391069': {'bioproject_id': 'PRJNA868718', 'geo_id': 'GSE211033'},\n",
       " 'SRP392501': {'bioproject_id': 'PRJNA869964', 'geo_id': 'GSE211362'},\n",
       " 'SRP351151': {'bioproject_id': 'PRJNA789649', 'geo_id': 'GSE191089'},\n",
       " 'SRP279733': {'bioproject_id': 'PRJNA660958', 'geo_id': 'GSE157329'},\n",
       " 'SRP398405': {'bioproject_id': 'PRJNA882770', 'geo_id': 'GSE213849'},\n",
       " 'SRP396410': {'bioproject_id': 'PRJNA878700', 'geo_id': 'GSE212996'},\n",
       " 'SRP399377': {'bioproject_id': 'PRJNA883741', 'geo_id': 'GSE214085'},\n",
       " 'SRP396436': {'bioproject_id': 'PRJNA878783', 'geo_id': 'GSE213015'},\n",
       " 'SRP399879': {'bioproject_id': 'PRJNA884704', 'geo_id': 'GSE214283'},\n",
       " 'SRP396819': {'bioproject_id': 'PRJNA879876', 'geo_id': ''},\n",
       " 'SRP400591': {'bioproject_id': 'PRJNA883006', 'geo_id': ''},\n",
       " 'SRP401181': {'bioproject_id': 'PRJNA887414', 'geo_id': 'GSE214865'},\n",
       " 'SRP400574': {'bioproject_id': 'PRJNA886085', 'geo_id': 'GSE214607'},\n",
       " 'SRP395334': {'bioproject_id': 'PRJNA876108', 'geo_id': 'GSE212578'},\n",
       " 'SRP396295': {'bioproject_id': 'PRJNA878527', 'geo_id': 'GSE212966'},\n",
       " 'SRP407977': {'bioproject_id': 'PRJNA901627', 'geo_id': 'GSE218170'},\n",
       " 'SRP405840': {'bioproject_id': 'PRJNA896889', 'geo_id': ''},\n",
       " 'SRP406264': {'bioproject_id': 'PRJNA898259', 'geo_id': 'GSE217243'},\n",
       " 'SRP404040': {'bioproject_id': 'PRJNA893211', 'geo_id': 'GSE216357'},\n",
       " 'SRP403062': {'bioproject_id': 'PRJNA891311', 'geo_id': 'GSE215932'},\n",
       " 'SRP403959': {'bioproject_id': 'PRJNA892990', 'geo_id': 'GSE216329'},\n",
       " 'SRP405677': {'bioproject_id': 'PRJNA896552', 'geo_id': 'GSE216999'},\n",
       " 'SRP402962': {'bioproject_id': 'PRJNA890914', 'geo_id': ''},\n",
       " 'SRP401484': {'bioproject_id': 'PRJNA888034', 'geo_id': 'GSE214985'},\n",
       " 'SRP403074': {'bioproject_id': 'PRJNA891323', 'geo_id': 'GSE215936'},\n",
       " 'SRP405204': {'bioproject_id': 'PRJNA895710', 'geo_id': 'GSE216860'},\n",
       " 'SRP410707': {'bioproject_id': 'PRJNA907025', 'geo_id': 'GSE219098'},\n",
       " 'SRP409169': {'bioproject_id': 'PRJNA902028', 'geo_id': 'GSE252762'},\n",
       " 'SRP411475': {'bioproject_id': 'PRJNA908876', 'geo_id': 'GSE220155'},\n",
       " 'SRP408310': {'bioproject_id': 'PRJNA902397', 'geo_id': 'GSE218139'},\n",
       " 'SRP412642': {'bioproject_id': 'PRJNA911330', 'geo_id': 'GSE220790'},\n",
       " 'SRP407861': {'bioproject_id': 'PRJNA901465', 'geo_id': 'GSE217956'},\n",
       " 'SRP413084': {'bioproject_id': 'PRJNA912187', 'geo_id': 'GSE220969'},\n",
       " 'SRP412622': {'bioproject_id': 'PRJNA911302', 'geo_id': 'GSE220774'},\n",
       " 'SRP409339': {'bioproject_id': 'PRJNA904499', 'geo_id': 'GSE218607'},\n",
       " 'SRP414514': {'bioproject_id': 'PRJNA915073', 'geo_id': 'GSE221603'},\n",
       " 'SRP413248': {'bioproject_id': 'PRJNA912653', 'geo_id': 'GSE221042'},\n",
       " 'SRP414286': {'bioproject_id': 'PRJNA914686', 'geo_id': 'GSE221493'},\n",
       " 'SRP413460': {'bioproject_id': 'PRJNA913127', 'geo_id': 'GSE221156'},\n",
       " 'SRP414502': {'bioproject_id': 'PRJNA915049', 'geo_id': 'GSE221592'},\n",
       " 'SRP418693': {'bioproject_id': 'PRJNA926522', 'geo_id': 'GSE223488'},\n",
       " 'SRP415359': {'bioproject_id': 'PRJNA917076', 'geo_id': ''},\n",
       " 'SRP404930': {'bioproject_id': 'PRJNA895063', 'geo_id': 'GSE216731'},\n",
       " 'SRP417917': {'bioproject_id': 'PRJNA924798', 'geo_id': 'GSE223071'},\n",
       " 'SRP418928': {'bioproject_id': 'PRJNA927026', 'geo_id': 'GSE223646'},\n",
       " 'SRP417871': {'bioproject_id': 'PRJNA924565', 'geo_id': ''},\n",
       " 'SRP416060': {'bioproject_id': 'PRJNA918697', 'geo_id': 'GSE222258'},\n",
       " 'SRP421890': {'bioproject_id': 'PRJNA933637', 'geo_id': 'GSE225063'},\n",
       " 'SRP420643': {'bioproject_id': 'PRJNA930689', 'geo_id': 'GSE224346'},\n",
       " 'SRP423705': {'bioproject_id': 'PRJNA937185', 'geo_id': 'GSE225700'},\n",
       " 'SRP424973': {'bioproject_id': 'PRJNA939636', 'geo_id': 'GSE226314'},\n",
       " 'SRP424836': {'bioproject_id': 'PRJNA939185', 'geo_id': 'GSE226223'},\n",
       " 'SRP403105': {'bioproject_id': 'PRJNA889434', 'geo_id': 'GSE215253'},\n",
       " 'SRP427899': {'bioproject_id': 'PRJNA945854', 'geo_id': 'GSE227136'},\n",
       " 'SRP428212': {'bioproject_id': 'PRJNA946651', 'geo_id': 'GSE227690'},\n",
       " 'SRP429730': {'bioproject_id': 'PRJNA949575', 'geo_id': 'GSE228370'},\n",
       " 'SRP428193': {'bioproject_id': 'PRJNA946652', 'geo_id': 'GSE227691'},\n",
       " 'SRP429447': {'bioproject_id': 'PRJNA949104', 'geo_id': 'GSE228236'},\n",
       " 'SRP427959': {'bioproject_id': 'PRJNA945949', 'geo_id': 'GSE227635'},\n",
       " 'SRP429598': {'bioproject_id': 'PRJNA949247', 'geo_id': 'GSE228315'},\n",
       " 'SRP431469': {'bioproject_id': 'PRJNA953326', 'geo_id': 'GSE229166'},\n",
       " 'SRP430649': {'bioproject_id': 'PRJNA943240', 'geo_id': 'GSE229232'},\n",
       " 'SRP430003': {'bioproject_id': 'PRJNA950062', 'geo_id': 'GSE228501'},\n",
       " 'SRP430301': {'bioproject_id': 'PRJNA950922', 'geo_id': 'GSE228643'},\n",
       " 'SRP429829': {'bioproject_id': 'PRJNA949674', 'geo_id': 'GSE228428'},\n",
       " 'SRP431173': {'bioproject_id': 'PRJNA952558', 'geo_id': 'GSE229008'},\n",
       " 'SRP438830': {'bioproject_id': 'PRJNA974831', 'geo_id': 'GSE233046'},\n",
       " 'SRP432678': {'bioproject_id': 'PRJNA955723', 'geo_id': 'GSE229733'},\n",
       " 'SRP434418': {'bioproject_id': 'PRJNA961775', 'geo_id': 'GSE230568'},\n",
       " 'SRP434381': {'bioproject_id': 'PRJNA961689', 'geo_id': 'GSE230519'},\n",
       " 'SRP434747': {'bioproject_id': 'PRJNA962178', 'geo_id': 'GSE230689'},\n",
       " 'SRP431612': {'bioproject_id': 'PRJNA953640', 'geo_id': 'GSE229253'},\n",
       " 'SRP434658': {'bioproject_id': 'PRJNA962064', 'geo_id': 'GSE230647'},\n",
       " 'SRP434727': {'bioproject_id': 'PRJNA962012', 'geo_id': 'GSE230617'},\n",
       " 'SRP435639': {'bioproject_id': 'PRJNA966248', 'geo_id': 'GSE231535'},\n",
       " 'SRP436792': {'bioproject_id': 'PRJNA971080', 'geo_id': ''},\n",
       " 'SRP435804': {'bioproject_id': 'PRJNA966983', 'geo_id': 'GSE231559'},\n",
       " 'SRP438272': {'bioproject_id': 'PRJNA973717', 'geo_id': ''},\n",
       " 'SRP437503': {'bioproject_id': 'PRJNA972126', 'geo_id': 'GSE232462'},\n",
       " 'SRP437778': {'bioproject_id': 'PRJNA972735', 'geo_id': 'GSE232567'},\n",
       " 'SRP440965': {'bioproject_id': 'PRJNA979258', 'geo_id': 'GSE234069'},\n",
       " 'SRP441262': {'bioproject_id': 'PRJNA980249', 'geo_id': 'GSE234181'},\n",
       " 'SRP439507': {'bioproject_id': 'PRJNA976204', 'geo_id': 'GSE233405'},\n",
       " 'SRP441439': {'bioproject_id': 'PRJNA980643', 'geo_id': 'GSE234261'},\n",
       " 'SRP440242': {'bioproject_id': 'PRJNA977691', 'geo_id': 'GSE233747'},\n",
       " 'SRP440702': {'bioproject_id': 'PRJNA978586', 'geo_id': 'GSE233923'},\n",
       " 'SRP445031': {'bioproject_id': 'PRJNA985695', 'geo_id': 'GSE235326'},\n",
       " 'SRP451212': {'bioproject_id': 'PRJNA998068', 'geo_id': 'GSE238163'},\n",
       " 'SRP450520': {'bioproject_id': 'PRJNA996597', 'geo_id': 'GSE237780'},\n",
       " 'SRP446370': {'bioproject_id': 'PRJNA988828', 'geo_id': 'GSE239584'},\n",
       " 'SRP451048': {'bioproject_id': 'PRJNA997957', 'geo_id': 'GSE238090'},\n",
       " 'SRP445875': {'bioproject_id': 'PRJNA987621', 'geo_id': 'GSE235787'},\n",
       " 'SRP446349': {'bioproject_id': 'PRJNA988514', 'geo_id': 'GSE236057'},\n",
       " 'SRP451705': {'bioproject_id': 'PRJNA998768', 'geo_id': 'GSE239293'},\n",
       " 'SRP452514': {'bioproject_id': 'PRJNA1000909', 'geo_id': 'GSE239750'},\n",
       " 'SRP452618': {'bioproject_id': 'PRJNA1001003', 'geo_id': 'GSE239799'},\n",
       " 'SRP452657': {'bioproject_id': 'PRJNA1000978', 'geo_id': 'GSE239795'},\n",
       " 'SRP451234': {'bioproject_id': 'PRJNA998016', 'geo_id': 'GSE238137'},\n",
       " 'SRP451597': {'bioproject_id': 'PRJNA998754', 'geo_id': 'GSE239283'},\n",
       " 'SRP456468': {'bioproject_id': 'PRJNA1008269', 'geo_id': 'GSE241492'},\n",
       " 'SRP456201': {'bioproject_id': 'PRJNA1007704', 'geo_id': 'GSE241338'},\n",
       " 'SRP453051': {'bioproject_id': 'PRJNA1001405', 'geo_id': 'GSE239931'},\n",
       " 'SRP451406': {'bioproject_id': 'PRJNA998387', 'geo_id': 'GSE238221'},\n",
       " 'SRP461721': {'bioproject_id': 'PRJNA1018898', 'geo_id': 'GSE243545'},\n",
       " 'SRP458873': {'bioproject_id': 'PRJNA1013554', 'geo_id': 'GSE242477'},\n",
       " 'SRP459955': {'bioproject_id': 'PRJNA1015645', 'geo_id': 'GSE242972'},\n",
       " 'SRP458079': {'bioproject_id': 'PRJNA1011955', 'geo_id': 'GSE242197'},\n",
       " 'SRP462115': {'bioproject_id': 'PRJNA1019314', 'geo_id': 'GSE243639'},\n",
       " 'SRP457072': {'bioproject_id': 'PRJNA1009409', 'geo_id': 'GSE241723'},\n",
       " 'SRP458720': {'bioproject_id': 'PRJNA1013241', 'geo_id': ''},\n",
       " 'SRP467115': {'bioproject_id': 'PRJNA1029592', 'geo_id': 'GSE245703'},\n",
       " 'SRP464402': {'bioproject_id': 'PRJNA1023622', 'geo_id': 'GSE244583'},\n",
       " 'SRP467631': {'bioproject_id': 'PRJNA1030397', 'geo_id': 'GSE246717'},\n",
       " 'SRP464940': {'bioproject_id': 'PRJNA1024976', 'geo_id': 'GSE244832'},\n",
       " 'SRP463067': {'bioproject_id': 'PRJNA1020881', 'geo_id': 'GSE244005'},\n",
       " 'SRP465475': {'bioproject_id': 'PRJNA1026574', 'geo_id': 'GSE244987'},\n",
       " 'SRP462916': {'bioproject_id': 'PRJNA1020588', 'geo_id': 'GSE243927'},\n",
       " 'SRP463295': {'bioproject_id': 'PRJNA1021137', 'geo_id': 'GSE244028'},\n",
       " 'SRP467558': {'bioproject_id': 'PRJNA1030352', 'geo_id': 'GSE245891'},\n",
       " 'SRP472565': {'bioproject_id': 'PRJNA1041779', 'geo_id': 'GSE248105'},\n",
       " 'SRP471823': {'bioproject_id': 'PRJNA1040176', 'geo_id': 'GSE247692'},\n",
       " 'SRP475748': {'bioproject_id': 'PRJNA1048516', 'geo_id': 'GSE249319'},\n",
       " 'SRP474150': {'bioproject_id': 'PRJNA1045032', 'geo_id': 'GSE248609'},\n",
       " 'SRP476596': {'bioproject_id': 'PRJNA1050162', 'geo_id': 'GSE249669'},\n",
       " 'SRP475734': {'bioproject_id': 'PRJNA1048509', 'geo_id': 'GSE249316'},\n",
       " 'SRP474474': {'bioproject_id': 'PRJNA1045667', 'geo_id': 'GSE248728'},\n",
       " 'SRP476753': {'bioproject_id': 'PRJNA1050294', 'geo_id': 'GSE249762'},\n",
       " 'SRP474727': {'bioproject_id': 'PRJNA1046116', 'geo_id': 'GSE248856'},\n",
       " 'SRP479490': {'bioproject_id': 'PRJNA1055415', 'geo_id': 'GSE253013'},\n",
       " 'SRP476540': {'bioproject_id': 'PRJNA1049392', 'geo_id': ''},\n",
       " 'SRP448864': {'bioproject_id': 'PRJNA994068', 'geo_id': 'GSE237148'},\n",
       " 'SRP477759': {'bioproject_id': 'PRJNA1051986', 'geo_id': 'GSE250077'},\n",
       " 'SRP451163': {'bioproject_id': 'PRJNA997981', 'geo_id': 'GSE238107'},\n",
       " 'SRP483676': {'bioproject_id': 'PRJNA1064602', 'geo_id': ''},\n",
       " 'SRP479829': {'bioproject_id': 'PRJNA1056277', 'geo_id': 'GSE251990'},\n",
       " 'SRP485933': {'bioproject_id': 'PRJNA1069012', 'geo_id': 'GSE254205'},\n",
       " 'SRP481760': {'bioproject_id': 'PRJNA1061111', 'geo_id': 'GSE252522'},\n",
       " 'SRP482409': {'bioproject_id': 'PRJNA1062285', 'geo_id': 'GSE252701'},\n",
       " 'SRP483556': {'bioproject_id': 'PRJNA1064411', 'geo_id': 'GSE253198'},\n",
       " 'SRP484768': {'bioproject_id': 'PRJNA1066801', 'geo_id': 'GSE253702'},\n",
       " 'SRP479491': {'bioproject_id': 'PRJNA1055491', 'geo_id': 'GSE251813'},\n",
       " 'SRP485970': {'bioproject_id': 'PRJNA1069102', 'geo_id': 'GSE254266'},\n",
       " 'SRP486994': {'bioproject_id': 'PRJNA1071273', 'geo_id': 'GSE262439'},\n",
       " 'SRP487772': {'bioproject_id': 'PRJNA1072628', 'geo_id': 'GSE254917'},\n",
       " 'SRP489753': {'bioproject_id': 'PRJNA1076500', 'geo_id': 'GSE255772'},\n",
       " 'SRP486932': {'bioproject_id': 'PRJNA1071184', 'geo_id': 'GSE254645'},\n",
       " 'SRP488758': {'bioproject_id': 'PRJNA1074351', 'geo_id': 'GSE255282'},\n",
       " 'SRP485785': {'bioproject_id': 'PRJNA1068611', 'geo_id': 'GSE254127'},\n",
       " 'SRP489824': {'bioproject_id': 'PRJNA1075826', 'geo_id': 'GSE255646'},\n",
       " 'SRP487454': {'bioproject_id': 'PRJNA1072001', 'geo_id': 'GSE254817'},\n",
       " 'SRP493492': {'bioproject_id': 'PRJNA1084083', 'geo_id': 'GSE260944'},\n",
       " 'SRP489943': {'bioproject_id': 'PRJNA1076942', 'geo_id': 'GSE255895'},\n",
       " 'SRP492325': {'bioproject_id': 'PRJNA1081819', 'geo_id': 'GSE260461'},\n",
       " 'SRP439378': {'bioproject_id': 'PRJNA975835', 'geo_id': 'GSE233304'},\n",
       " 'SRP494027': {'bioproject_id': 'PRJNA1085376', 'geo_id': 'GSE261140'},\n",
       " 'SRP493138': {'bioproject_id': 'PRJNA1083421', 'geo_id': 'GSE260763'},\n",
       " 'SRP493493': {'bioproject_id': 'PRJNA1084084', 'geo_id': 'GSE260943'},\n",
       " 'SRP496439': {'bioproject_id': 'PRJNA1089573', 'geo_id': 'GSE261917'},\n",
       " 'SRP504049': {'bioproject_id': 'PRJNA1104652', 'geo_id': 'GSE274185'},\n",
       " 'SRP496487': {'bioproject_id': 'PRJNA1089625', 'geo_id': 'GSE261957'},\n",
       " 'SRP499321': {'bioproject_id': 'PRJNA1095450', 'geo_id': ''},\n",
       " 'SRP496700': {'bioproject_id': 'PRJNA1090081', 'geo_id': 'GSE266500'},\n",
       " 'SRP500042': {'bioproject_id': 'PRJNA1096712', 'geo_id': 'GSE263326'},\n",
       " 'SRP505777': {'bioproject_id': 'PRJNA1107958', 'geo_id': 'GSE266616'},\n",
       " 'SRP505677': {'bioproject_id': 'PRJNA1107509', 'geo_id': 'GSE266526'},\n",
       " 'SRP510596': {'bioproject_id': 'PRJNA1117889', 'geo_id': ''},\n",
       " 'SRP506004': {'bioproject_id': 'PRJNA1108329', 'geo_id': 'GSE266789'},\n",
       " 'SRP508424': {'bioproject_id': 'PRJNA1112886', 'geo_id': 'GSE267791'},\n",
       " 'SRP512429': {'bioproject_id': 'PRJNA1121237', 'geo_id': 'GSE269335'},\n",
       " 'SRP509449': {'bioproject_id': 'PRJNA1115130', 'geo_id': 'GSE268210'},\n",
       " 'SRP514714': {'bioproject_id': 'PRJNA1125490', 'geo_id': 'GSE270235'},\n",
       " 'SRP514864': {'bioproject_id': 'PRJNA1125893', 'geo_id': 'GSE270258'},\n",
       " 'SRP512257': {'bioproject_id': 'PRJNA1120858', 'geo_id': 'GSE269269'},\n",
       " 'SRP518233': {'bioproject_id': 'PRJNA1132302', 'geo_id': ''},\n",
       " 'SRP518988': {'bioproject_id': 'PRJNA1133168', 'geo_id': 'GSE271789'},\n",
       " 'SRP521306': {'bioproject_id': 'PRJNA1138630', 'geo_id': 'GSE272734'},\n",
       " 'SRP519626': {'bioproject_id': 'PRJNA1135250', 'geo_id': 'GSE272171'},\n",
       " 'SRP520454': {'bioproject_id': 'PRJNA1136831', 'geo_id': 'GSE272409'},\n",
       " 'SRP520558': {'bioproject_id': 'PRJNA1136930', 'geo_id': 'GSE272470'},\n",
       " 'SRP521343': {'bioproject_id': 'PRJNA1138682', 'geo_id': 'GSE272760'},\n",
       " 'SRP518819': {'bioproject_id': 'PRJNA1133674', 'geo_id': 'GSE271814'},\n",
       " 'SRP519415': {'bioproject_id': 'PRJNA1134791', 'geo_id': 'GSE272070'},\n",
       " 'SRP527159': {'bioproject_id': 'PRJNA1149320', 'geo_id': 'GSE279945'},\n",
       " 'SRP531929': {'bioproject_id': 'PRJNA1159373', 'geo_id': 'GSE276902'},\n",
       " 'SRP526907': {'bioproject_id': 'PRJNA1149034', 'geo_id': 'GSE275063'},\n",
       " 'SRP536316': {'bioproject_id': 'PRJNA1168183', 'geo_id': ''},\n",
       " 'SRP524125': {'bioproject_id': 'PRJNA1144126', 'geo_id': 'GSE273937'},\n",
       " 'SRP521454': {'bioproject_id': 'PRJNA1138789', 'geo_id': 'GSE272816'},\n",
       " 'SRP532584': {'bioproject_id': 'PRJNA1160882', 'geo_id': 'GSE277159'},\n",
       " 'SRP531204': {'bioproject_id': 'PRJNA1157910', 'geo_id': ''},\n",
       " 'SRP535250': {'bioproject_id': 'PRJNA1165770', 'geo_id': 'GSE278154'},\n",
       " 'SRP541858': {'bioproject_id': 'PRJNA1179452', 'geo_id': 'GSE280584'},\n",
       " 'SRP537773': {'bioproject_id': 'PRJNA1171406', 'geo_id': 'GSE279219'},\n",
       " 'SRP541770': {'bioproject_id': 'PRJNA1179366', 'geo_id': 'GSE280537'},\n",
       " 'SRP538254': {'bioproject_id': 'PRJNA1172313', 'geo_id': 'GSE279374'},\n",
       " 'SRP539159': {'bioproject_id': 'PRJNA1174126', 'geo_id': 'GSE279710'},\n",
       " 'SRP503580': {'bioproject_id': 'PRJNA1103754', 'geo_id': 'GSE264658'},\n",
       " 'SRP546011': {'bioproject_id': 'PRJNA1187619', 'geo_id': 'GSE282230'},\n",
       " 'SRP544836': {'bioproject_id': 'PRJNA1185434', 'geo_id': ''},\n",
       " 'SRP551380': {'bioproject_id': 'PRJNA1198103', 'geo_id': 'GSE284262'},\n",
       " 'SRP548300': {'bioproject_id': 'PRJNA1191968', 'geo_id': 'GSE283543'},\n",
       " 'SRP552438': {'bioproject_id': 'PRJNA1200031', 'geo_id': 'GSE284677'},\n",
       " 'SRP542360': {'bioproject_id': 'PRJNA1180503', 'geo_id': 'GSE280767'},\n",
       " 'SRP556552': {'bioproject_id': 'PRJNA1209070', 'geo_id': 'GSE286399'},\n",
       " 'SRP304183': {'bioproject_id': 'PRJNA698642', 'geo_id': ''},\n",
       " 'SRP313370': {'bioproject_id': 'PRJNA719587', 'geo_id': 'GSE198927'},\n",
       " 'SRP314975': {'bioproject_id': 'PRJNA721827', 'geo_id': ''},\n",
       " 'SRP315862': {'bioproject_id': 'PRJNA723765', 'geo_id': 'GSE208438'},\n",
       " 'SRP327412': {'bioproject_id': 'PRJNA744567', 'geo_id': ''},\n",
       " 'SRP322174': {'bioproject_id': 'PRJNA734283', 'geo_id': ''},\n",
       " 'SRP332548': {'bioproject_id': 'PRJNA754520', 'geo_id': 'GSE183068'},\n",
       " 'SRP335806': {'bioproject_id': 'PRJNA760795', 'geo_id': ''},\n",
       " 'SRP339106': {'bioproject_id': 'PRJNA767017', 'geo_id': ''},\n",
       " 'SRP343969': {'bioproject_id': 'PRJNA773987', 'geo_id': ''},\n",
       " 'SRP356459': {'bioproject_id': 'PRJNA800024', 'geo_id': 'GSE256490'},\n",
       " 'SRP346629': {'bioproject_id': 'PRJNA781289', 'geo_id': ''},\n",
       " 'SRP355356': {'bioproject_id': 'PRJNA797897', 'geo_id': ''},\n",
       " 'SRP333820': {'bioproject_id': 'PRJNA757179', 'geo_id': ''},\n",
       " 'SRP363780': {'bioproject_id': 'PRJNA815659', 'geo_id': ''},\n",
       " 'SRP364812': {'bioproject_id': 'PRJNA817521', 'geo_id': ''},\n",
       " 'SRP367740': {'bioproject_id': 'PRJNA823755', 'geo_id': 'GSE200257'},\n",
       " 'SRP371347': {'bioproject_id': 'PRJNA828562', 'geo_id': 'GSE201153'},\n",
       " 'SRP369370': {'bioproject_id': 'PRJNA819476', 'geo_id': 'GSE199378'},\n",
       " 'SRP367911': {'bioproject_id': 'PRJNA824119', 'geo_id': 'GSE200342'},\n",
       " 'SRP167344': {'bioproject_id': 'PRJNA501889', 'geo_id': 'GSE121926'},\n",
       " 'SRP370516': {'bioproject_id': 'PRJNA827153', 'geo_id': 'GSE200896'},\n",
       " 'SRP371573': {'bioproject_id': 'PRJNA830510', 'geo_id': 'GSE201256'},\n",
       " 'SRP370866': {'bioproject_id': 'PRJNA827791', 'geo_id': 'GSE200972'},\n",
       " 'SRP371247': {'bioproject_id': 'PRJNA828379', 'geo_id': ''},\n",
       " 'SRP371757': {'bioproject_id': 'PRJNA830879', 'geo_id': 'GSE201328'},\n",
       " 'SRP372144': {'bioproject_id': 'PRJNA831830', 'geo_id': 'GSE201463'},\n",
       " 'SRP362865': {'bioproject_id': 'PRJNA813439', 'geo_id': 'GSE198033'},\n",
       " 'SRP372910': {'bioproject_id': 'PRJNA833479', 'geo_id': 'GSE201925'},\n",
       " 'SRP327335': {'bioproject_id': 'PRJNA744463', 'geo_id': 'GSE179640'},\n",
       " 'SRP373669': {'bioproject_id': 'PRJNA835125', 'geo_id': 'GSE202253'},\n",
       " 'SRP373806': {'bioproject_id': 'PRJNA835426', 'geo_id': 'GSE202308'},\n",
       " 'SRP373952': {'bioproject_id': 'PRJNA835807', 'geo_id': 'GSE202374'},\n",
       " 'SRP374217': {'bioproject_id': 'PRJNA836327', 'geo_id': 'GSE202497'},\n",
       " 'SRP374703': {'bioproject_id': 'PRJNA837192', 'geo_id': 'GSE202735'},\n",
       " 'SRP373874': {'bioproject_id': 'PRJNA835590', 'geo_id': ''},\n",
       " 'SRP375118': {'bioproject_id': 'PRJNA837899', 'geo_id': 'GSE202964'},\n",
       " 'SRP375140': {'bioproject_id': 'PRJNA837932', 'geo_id': ''},\n",
       " 'SRP375377': {'bioproject_id': 'PRJNA838573', 'geo_id': 'GSE203098'},\n",
       " 'SRP298147': {'bioproject_id': 'PRJNA685757', 'geo_id': 'GSE163323'},\n",
       " 'SRP375728': {'bioproject_id': 'PRJNA839063', 'geo_id': 'GSE203201'},\n",
       " 'SRP375834': {'bioproject_id': 'PRJNA839337', 'geo_id': 'GSE203262'},\n",
       " 'SRP393509': {'bioproject_id': 'PRJNA842850', 'geo_id': 'GSE203274'},\n",
       " 'SRP376111': {'bioproject_id': 'PRJNA839719', 'geo_id': 'GSE203380'},\n",
       " 'SRP376375': {'bioproject_id': 'PRJNA841015', 'geo_id': 'GSE203499'},\n",
       " 'SRP376155': {'bioproject_id': 'PRJNA839742', 'geo_id': 'GSE203394'},\n",
       " 'SRP376151': {'bioproject_id': 'PRJNA839716', 'geo_id': 'GSE203384'},\n",
       " 'SRP376429': {'bioproject_id': 'PRJNA841230', 'geo_id': 'GSE203530'},\n",
       " 'SRP376488': {'bioproject_id': 'PRJNA841361', 'geo_id': 'GSE203548'},\n",
       " 'SRP376883': {'bioproject_id': 'PRJNA842012', 'geo_id': 'GSE204723'},\n",
       " 'SRP377006': {'bioproject_id': 'PRJNA842268', 'geo_id': 'GSE204779'},\n",
       " 'SRP376930': {'bioproject_id': 'PRJNA842095', 'geo_id': 'GSE204756'},\n",
       " 'SRP377314': {'bioproject_id': 'PRJNA842769', 'geo_id': 'GSE204959'},\n",
       " 'SRP377657': {'bioproject_id': 'PRJNA843725', 'geo_id': 'GSE205095'},\n",
       " 'SRP378451': {'bioproject_id': 'PRJNA845793', 'geo_id': 'GSE205472'},\n",
       " 'SRP378917': {'bioproject_id': 'PRJNA846707', 'geo_id': 'GSE205607'},\n",
       " 'SRP378923': {'bioproject_id': 'PRJNA846618', 'geo_id': 'GSE205589'},\n",
       " 'SRP378915': {'bioproject_id': 'PRJNA846708', 'geo_id': 'GSE205606'},\n",
       " 'SRP378951': {'bioproject_id': 'PRJNA846759', 'geo_id': 'GSE205641'},\n",
       " 'SRP379185': {'bioproject_id': 'PRJNA847215', 'geo_id': 'GSE205704'},\n",
       " 'SRP379971': {'bioproject_id': 'PRJNA848814', 'geo_id': 'GSE206030'},\n",
       " 'SRP382724': {'bioproject_id': 'PRJNA851065', 'geo_id': 'GSE206490'},\n",
       " 'SRP382827': {'bioproject_id': 'PRJNA851108', 'geo_id': 'GSE206507'},\n",
       " 'SRP383126': {'bioproject_id': 'PRJNA851787', 'geo_id': 'GSE206696'},\n",
       " 'SRP383130': {'bioproject_id': 'PRJNA851794', 'geo_id': 'GSE206710'},\n",
       " 'SRP383236': {'bioproject_id': 'PRJNA851960', 'geo_id': 'GSE206744'},\n",
       " 'SRP383134': {'bioproject_id': 'PRJNA851809', 'geo_id': 'GSE206712'},\n",
       " 'SRP383484': {'bioproject_id': 'PRJNA852576', 'geo_id': 'GSE206897'},\n",
       " 'SRP384009': {'bioproject_id': 'PRJNA853749', 'geo_id': 'GSE207104'},\n",
       " 'SRP384033': {'bioproject_id': 'PRJNA853776', 'geo_id': 'GSE207130'},\n",
       " 'SRP384528': {'bioproject_id': 'PRJNA854897', 'geo_id': 'GSE207335'},\n",
       " 'SRP384530': {'bioproject_id': 'PRJNA854898', 'geo_id': 'GSE207336'},\n",
       " 'SRP384790': {'bioproject_id': 'PRJNA855464', 'geo_id': 'GSE207431'},\n",
       " 'SRP385336': {'bioproject_id': 'PRJNA855895', 'geo_id': 'GSE207475'},\n",
       " 'SRP385643': {'bioproject_id': 'PRJNA857105', 'geo_id': 'GSE207809'},\n",
       " 'SRP385689': {'bioproject_id': 'PRJNA857282', 'geo_id': 'GSE207817'},\n",
       " 'SRP385396': {'bioproject_id': 'PRJNA856676', 'geo_id': 'GSE207679'},\n",
       " 'SRP385937': {'bioproject_id': 'PRJNA857717', 'geo_id': 'GSE207935'},\n",
       " 'SRP386117': {'bioproject_id': 'PRJNA858102', 'geo_id': 'GSE208074'},\n",
       " 'SRP386774': {'bioproject_id': 'PRJNA859437', 'geo_id': 'GSE208337'},\n",
       " 'SRP386638': {'bioproject_id': 'PRJNA859143', 'geo_id': 'GSE208294'},\n",
       " 'SRP386469': {'bioproject_id': 'PRJNA847159', 'geo_id': 'GSE208235'},\n",
       " 'SRP386652': {'bioproject_id': 'PRJNA859178', 'geo_id': 'GSE208317'},\n",
       " 'SRP386851': {'bioproject_id': 'PRJNA859683', 'geo_id': 'GSE208360'},\n",
       " 'SRP386865': {'bioproject_id': 'PRJNA859692', 'geo_id': 'GSE208369'},\n",
       " 'SRP387298': {'bioproject_id': 'PRJNA860589', 'geo_id': 'GSE208672'},\n",
       " 'SRP387142': {'bioproject_id': 'PRJNA860172', 'geo_id': 'GSE208585'},\n",
       " 'SRP387842': {'bioproject_id': 'PRJNA861849', 'geo_id': ''},\n",
       " 'SRP388264': {'bioproject_id': 'PRJNA862542', 'geo_id': 'GSE209832'},\n",
       " 'SRP370877': {'bioproject_id': 'PRJNA827805', 'geo_id': 'GSE200984'},\n",
       " 'SRP388776': {'bioproject_id': 'PRJNA863583', 'geo_id': 'GSE210059'},\n",
       " 'SRP388757': {'bioproject_id': 'PRJNA863562', 'geo_id': 'GSE210040'},\n",
       " 'SRP388799': {'bioproject_id': 'PRJNA863606', 'geo_id': 'GSE210066'},\n",
       " 'SRP389163': {'bioproject_id': 'PRJNA864822', 'geo_id': 'GSE210248'},\n",
       " 'SRP389087': {'bioproject_id': 'PRJNA864758', 'geo_id': 'GSE210199'},\n",
       " 'SRP389538': {'bioproject_id': 'PRJNA865372', 'geo_id': 'GSE210358'},\n",
       " 'SRP389702': {'bioproject_id': 'PRJNA865722', 'geo_id': 'GSE210432'},\n",
       " 'SRP389902': {'bioproject_id': 'PRJNA865940', 'geo_id': 'GSE210513'},\n",
       " 'SRP390276': {'bioproject_id': 'PRJNA866858', 'geo_id': 'GSE210664'},\n",
       " 'SRP390431': {'bioproject_id': 'PRJNA867308', 'geo_id': 'GSE210720'},\n",
       " 'SRP390726': {'bioproject_id': 'PRJNA867689', 'geo_id': 'GSE210833'},\n",
       " 'SRP390477': {'bioproject_id': 'PRJNA867386', 'geo_id': 'GSE210762'},\n",
       " 'SRP390916': {'bioproject_id': 'PRJNA868350', 'geo_id': 'GSE210943'},\n",
       " 'SRP338074': {'bioproject_id': 'PRJNA764926', 'geo_id': 'GSE184384'},\n",
       " 'SRP391126': {'bioproject_id': 'PRJNA868764', 'geo_id': 'GSE211068'},\n",
       " 'SRP391136': {'bioproject_id': 'PRJNA868183', 'geo_id': 'GSE210889'},\n",
       " 'SRP392542': {'bioproject_id': 'PRJNA870091', 'geo_id': 'GSE211388'},\n",
       " 'SRP392541': {'bioproject_id': 'PRJNA870102', 'geo_id': 'GSE211400'},\n",
       " 'SRP392890': {'bioproject_id': 'PRJNA870906', 'geo_id': 'GSE211560'},\n",
       " 'SRP392758': {'bioproject_id': 'PRJNA870575', 'geo_id': 'GSE211504'},\n",
       " 'SRP393060': {'bioproject_id': 'PRJNA871229', 'geo_id': 'GSE211630'},\n",
       " 'SRP394282': {'bioproject_id': 'PRJNA873072', 'geo_id': 'GSE211970'},\n",
       " 'SRP395344': {'bioproject_id': 'PRJNA876121', 'geo_id': 'GSE212584'},\n",
       " 'SRP395345': {'bioproject_id': 'PRJNA876116', 'geo_id': 'GSE212582'},\n",
       " 'SRP395828': {'bioproject_id': 'PRJNA877120', 'geo_id': 'GSE212740'},\n",
       " 'SRP395735': {'bioproject_id': 'PRJNA876946', 'geo_id': 'GSE212721'},\n",
       " 'SRP396213': {'bioproject_id': 'PRJNA877840', 'geo_id': 'GSE212896'},\n",
       " 'SRP396537': {'bioproject_id': 'PRJNA879051', 'geo_id': 'GSE213069'},\n",
       " 'SRP399711': {'bioproject_id': 'PRJNA884396', 'geo_id': 'GSE212964'},\n",
       " 'SRP396596': {'bioproject_id': 'PRJNA879091', 'geo_id': 'GSE213096'},\n",
       " 'SRP397145': {'bioproject_id': 'PRJNA880601', 'geo_id': 'GSE213364'},\n",
       " 'SRP396978': {'bioproject_id': 'PRJNA880327', 'geo_id': 'GSE213282'},\n",
       " 'SRP397101': {'bioproject_id': 'PRJNA880567', 'geo_id': 'GSE213330'},\n",
       " 'SRP396898': {'bioproject_id': 'PRJNA880245', 'geo_id': 'GSE213243'},\n",
       " 'SRP397165': {'bioproject_id': 'PRJNA880366', 'geo_id': ''},\n",
       " 'SRP397681': {'bioproject_id': 'PRJNA881320', 'geo_id': 'GSE213544'},\n",
       " 'SRP397809': {'bioproject_id': 'PRJNA881605', 'geo_id': ''},\n",
       " 'SRP398119': {'bioproject_id': 'PRJNA882109', 'geo_id': 'GSE213712'},\n",
       " 'SRP398192': {'bioproject_id': 'PRJNA882355', 'geo_id': ''},\n",
       " 'SRP398559': {'bioproject_id': 'PRJNA882878', 'geo_id': 'GSE213897'},\n",
       " 'SRP398271': {'bioproject_id': 'PRJNA882458', 'geo_id': 'GSE213796'},\n",
       " 'SRP398279': {'bioproject_id': 'PRJNA882459', 'geo_id': 'GSE213798'},\n",
       " 'SRP398382': {'bioproject_id': 'PRJNA882668', 'geo_id': 'GSE213835'},\n",
       " 'SRP398542': {'bioproject_id': 'PRJNA882907', 'geo_id': 'GSE213902'},\n",
       " 'SRP399378': {'bioproject_id': 'PRJNA883744', 'geo_id': 'GSE214088'},\n",
       " 'SRP399715': {'bioproject_id': 'PRJNA884406', 'geo_id': 'GSE214231'},\n",
       " 'SRP400225': {'bioproject_id': 'PRJNA885416', 'geo_id': 'GSE214443'},\n",
       " 'SRP400136': {'bioproject_id': 'PRJNA885152', 'geo_id': 'GSE214411'},\n",
       " 'SRP400455': {'bioproject_id': 'PRJNA885836', 'geo_id': 'GSE214544'},\n",
       " 'SRP400489': {'bioproject_id': 'PRJNA885886', 'geo_id': 'GSE214572'},\n",
       " 'SRP400446': {'bioproject_id': 'PRJNA885827', 'geo_id': 'GSE214538'},\n",
       " 'SRP400812': {'bioproject_id': 'PRJNA886695', 'geo_id': 'GSE214695'},\n",
       " 'SRP400828': {'bioproject_id': 'PRJNA886701', 'geo_id': 'GSE214700'},\n",
       " 'SRP400928': {'bioproject_id': 'PRJNA883612', 'geo_id': ''},\n",
       " 'SRP401412': {'bioproject_id': 'PRJNA887819', 'geo_id': 'GSE214979'},\n",
       " 'SRP401134': {'bioproject_id': 'PRJNA887399', 'geo_id': 'GSE214852'},\n",
       " 'SRP401392': {'bioproject_id': 'PRJNA887814', 'geo_id': 'GSE214973'},\n",
       " 'SRP401417': {'bioproject_id': 'PRJNA887823', 'geo_id': 'GSE214982'},\n",
       " 'SRP402392': {'bioproject_id': 'PRJNA890190', 'geo_id': ''},\n",
       " 'SRP402721': {'bioproject_id': 'PRJNA890673', 'geo_id': 'GSE215825'},\n",
       " 'SRP403034': {'bioproject_id': 'PRJNA891259', 'geo_id': 'GSE215908'},\n",
       " 'SRP403033': {'bioproject_id': 'PRJNA891279', 'geo_id': 'GSE215914'},\n",
       " 'SRP403301': {'bioproject_id': 'PRJNA891766', 'geo_id': 'GSE216049'},\n",
       " 'SRP403214': {'bioproject_id': 'PRJNA891643', 'geo_id': 'GSE215981'},\n",
       " 'SRP404047': {'bioproject_id': 'PRJNA893221', 'geo_id': 'GSE216364'},\n",
       " 'SRP403709': {'bioproject_id': 'PRJNA892625', 'geo_id': 'GSE216225'},\n",
       " 'SRP404414': {'bioproject_id': 'PRJNA893695', 'geo_id': 'GSE216486'},\n",
       " 'SRP404360': {'bioproject_id': 'PRJNA894171', 'geo_id': 'GSE216534'},\n",
       " 'SRP405436': {'bioproject_id': 'PRJNA896111', 'geo_id': 'GSE216883'},\n",
       " 'SRP406272': {'bioproject_id': 'PRJNA898265', 'geo_id': 'GSE217245'},\n",
       " 'SRP406866': {'bioproject_id': 'PRJNA899508', 'geo_id': 'GSE217542'},\n",
       " 'SRP406906': {'bioproject_id': 'PRJNA899548', 'geo_id': 'GSE217561'},\n",
       " 'SRP407151': {'bioproject_id': 'PRJNA900150', 'geo_id': 'GSE217689'},\n",
       " 'SRP407515': {'bioproject_id': 'PRJNA900594', 'geo_id': 'GSE217812'},\n",
       " 'SRP407483': {'bioproject_id': 'PRJNA900553', 'geo_id': 'GSE217792'},\n",
       " 'SRP407939': {'bioproject_id': 'PRJNA901502', 'geo_id': 'GSE217976'},\n",
       " 'SRP408270': {'bioproject_id': 'PRJNA902375', 'geo_id': 'GSE218121'},\n",
       " 'SRP407710': {'bioproject_id': 'PRJNA901260', 'geo_id': ''},\n",
       " 'SRP408406': {'bioproject_id': 'PRJNA902698', 'geo_id': 'GSE218184'},\n",
       " 'SRP408606': {'bioproject_id': 'PRJNA903152', 'geo_id': 'GSE218314'},\n",
       " 'SRP408806': {'bioproject_id': 'PRJNA903479', 'geo_id': 'GSE218391'},\n",
       " 'SRP408802': {'bioproject_id': 'PRJNA903476', 'geo_id': 'GSE218390'},\n",
       " 'SRP409013': {'bioproject_id': 'PRJNA903917', 'geo_id': 'GSE218483'},\n",
       " 'SRP410851': {'bioproject_id': 'PRJNA907281', 'geo_id': 'GSE219158'},\n",
       " 'SRP410458': {'bioproject_id': 'PRJNA906519', 'geo_id': 'GSE218985'},\n",
       " 'SRP411192': {'bioproject_id': 'PRJNA907949', 'geo_id': 'GSE219280'},\n",
       " 'SRP331229': {'bioproject_id': 'PRJNA752347', 'geo_id': 'GSE181518'},\n",
       " 'SRP411630': {'bioproject_id': 'PRJNA909218', 'geo_id': 'GSE220189'},\n",
       " 'SRP411685': {'bioproject_id': 'PRJNA909289', 'geo_id': 'GSE220243'},\n",
       " 'SRP411465': {'bioproject_id': 'PRJNA908874', 'geo_id': 'GSE220154'},\n",
       " 'SRP412289': {'bioproject_id': 'PRJNA910592', 'geo_id': 'GSE220651'},\n",
       " 'SRP412213': {'bioproject_id': 'PRJNA910525', 'geo_id': 'GSE220611'},\n",
       " 'SRP411831': {'bioproject_id': 'PRJNA909630', 'geo_id': 'GSE220313'},\n",
       " 'SRP354146': {'bioproject_id': 'PRJNA795794', 'geo_id': 'GSE193321'},\n",
       " 'SRP412170': {'bioproject_id': 'PRJNA910476', 'geo_id': 'GSE220589'},\n",
       " 'SRP412211': {'bioproject_id': 'PRJNA910519', 'geo_id': 'GSE220606'},\n",
       " 'SRP413881': {'bioproject_id': 'PRJNA913893', 'geo_id': 'GSE221316'},\n",
       " 'SRP414328': {'bioproject_id': 'PRJNA913849', 'geo_id': 'GSE221297'},\n",
       " 'SRP414678': {'bioproject_id': 'PRJNA915376', 'geo_id': 'GSE221687'},\n",
       " 'SRP413921': {'bioproject_id': 'PRJNA913903', 'geo_id': 'GSE221321'},\n",
       " 'SRP415300': {'bioproject_id': 'PRJNA916500', 'geo_id': 'GSE221853'},\n",
       " 'SRP415453': {'bioproject_id': 'PRJNA917304', 'geo_id': 'GSE222007'},\n",
       " 'SRP415461': {'bioproject_id': 'PRJNA917312', 'geo_id': 'GSE222011'},\n",
       " 'SRP415402': {'bioproject_id': 'PRJNA917198', 'geo_id': 'GSE221988'},\n",
       " 'SRP415509': {'bioproject_id': 'PRJNA917457', 'geo_id': ''},\n",
       " 'SRP416180': {'bioproject_id': 'PRJNA919013', 'geo_id': 'GSE222315'},\n",
       " 'SRP416129': {'bioproject_id': 'PRJNA917036', 'geo_id': ''},\n",
       " 'SRP416473': {'bioproject_id': 'PRJNA921859', 'geo_id': 'GSE222389'},\n",
       " 'SRP417034': {'bioproject_id': 'PRJNA922959', 'geo_id': 'GSE222649'},\n",
       " 'SRP417853': {'bioproject_id': 'PRJNA924727', 'geo_id': 'GSE223026'},\n",
       " 'SRP417861': {'bioproject_id': 'PRJNA924690', 'geo_id': 'GSE223003'},\n",
       " 'SRP418246': {'bioproject_id': 'PRJNA925441', 'geo_id': 'GSE223236'},\n",
       " 'SRP417900': {'bioproject_id': 'PRJNA924787', 'geo_id': 'GSE223063'},\n",
       " 'SRP418438': {'bioproject_id': 'PRJNA925840', 'geo_id': 'GSE223339'},\n",
       " 'SRP418184': {'bioproject_id': 'PRJNA925212', 'geo_id': 'GSE223204'},\n",
       " 'SRP418890': {'bioproject_id': 'PRJNA926918', 'geo_id': 'GSE223581'},\n",
       " 'SRP418692': {'bioproject_id': 'PRJNA926524', 'geo_id': 'GSE223484'},\n",
       " 'SRP326165': {'bioproject_id': 'PRJNA742428', 'geo_id': 'GSE179159'},\n",
       " 'SRP418860': {'bioproject_id': 'PRJNA926947', 'geo_id': 'GSE223599'},\n",
       " 'SRP418986': {'bioproject_id': 'PRJNA927260', 'geo_id': 'GSE223672'},\n",
       " 'SRP419124': {'bioproject_id': 'PRJNA927330', 'geo_id': 'GSE223713'},\n",
       " 'SRP419294': {'bioproject_id': 'PRJNA928450', 'geo_id': 'GSE223815'},\n",
       " 'SRP420086': {'bioproject_id': 'PRJNA929533', 'geo_id': 'GSE224081'},\n",
       " 'SRP420503': {'bioproject_id': 'PRJNA930443', 'geo_id': 'GSE224273'},\n",
       " 'SRP420635': {'bioproject_id': 'PRJNA930669', 'geo_id': 'GSE224334'},\n",
       " 'SRP420331': {'bioproject_id': 'PRJNA930004', 'geo_id': 'GSE224172'},\n",
       " 'SRP420474': {'bioproject_id': 'PRJNA930401', 'geo_id': 'GSE224252'},\n",
       " 'SRP420341': {'bioproject_id': 'PRJNA930041', 'geo_id': 'GSE224193'},\n",
       " 'SRP421766': {'bioproject_id': 'PRJNA933230', 'geo_id': 'GSE224986'},\n",
       " 'SRP422525': {'bioproject_id': 'PRJNA934551', 'geo_id': 'GSE224893'},\n",
       " 'SRP421323': {'bioproject_id': 'PRJNA932226', 'geo_id': 'GSE224700'},\n",
       " 'SRP422567': {'bioproject_id': 'PRJNA934540', 'geo_id': 'GSE224941'},\n",
       " 'SRP422515': {'bioproject_id': 'PRJNA934590', 'geo_id': 'GSE225021'},\n",
       " 'SRP422733': {'bioproject_id': 'PRJNA935325', 'geo_id': 'GSE225352'},\n",
       " 'SRP422545': {'bioproject_id': 'PRJNA934917', 'geo_id': 'GSE225301'},\n",
       " 'SRP423002': {'bioproject_id': 'PRJNA934888', 'geo_id': 'GSE225275'},\n",
       " 'SRP424411': {'bioproject_id': 'PRJNA938085', 'geo_id': 'GSE226163'},\n",
       " 'SRP424044': {'bioproject_id': 'PRJNA937851', 'geo_id': 'GSE225893'},\n",
       " 'SRP424506': {'bioproject_id': 'PRJNA938479', 'geo_id': 'GSE226077'},\n",
       " 'SRP424805': {'bioproject_id': 'PRJNA939207', 'geo_id': 'GSE226228'},\n",
       " 'SRP425053': {'bioproject_id': 'PRJNA939837', 'geo_id': 'GSE226346'},\n",
       " 'SRP425594': {'bioproject_id': 'PRJNA940797', 'geo_id': 'GSE226606'},\n",
       " 'SRP425418': {'bioproject_id': 'PRJNA940428', 'geo_id': 'GSE226488'},\n",
       " 'SRP425237': {'bioproject_id': 'PRJNA940071', 'geo_id': 'GSE226365'},\n",
       " 'SRP425922': {'bioproject_id': 'PRJNA941312', 'geo_id': 'GSE226740'},\n",
       " 'SRP426752': {'bioproject_id': 'PRJNA943421', 'geo_id': 'GSE227151'},\n",
       " 'SRP426842': {'bioproject_id': 'PRJNA943498', 'geo_id': 'GSE227166'},\n",
       " 'SRP427159': {'bioproject_id': 'PRJNA944221', 'geo_id': 'GSE227244'},\n",
       " 'SRP427497': {'bioproject_id': 'PRJNA945042', 'geo_id': 'GSE227435'},\n",
       " 'SRP427906': {'bioproject_id': 'PRJNA945866', 'geo_id': 'GSE227586'},\n",
       " 'SRP428061': {'bioproject_id': 'PRJNA946289', 'geo_id': 'GSE227656'},\n",
       " 'SRP428332': {'bioproject_id': 'PRJNA946811', 'geo_id': 'GSE227781'},\n",
       " 'SRP428435': {'bioproject_id': 'PRJNA941866', 'geo_id': 'GSE226841'},\n",
       " 'SRP428526': {'bioproject_id': 'PRJNA947256', 'geo_id': 'GSE227903'},\n",
       " 'SRP428458': {'bioproject_id': 'PRJNA947155', 'geo_id': 'GSE227833'},\n",
       " 'SRP428772': {'bioproject_id': 'PRJNA947544', 'geo_id': 'GSE227942'},\n",
       " 'SRP350142': {'bioproject_id': 'PRJNA787622', 'geo_id': 'GSE190597'},\n",
       " 'SRP429603': {'bioproject_id': 'PRJNA949265', 'geo_id': 'GSE228322'},\n",
       " 'SRP429127': {'bioproject_id': 'PRJNA948395', 'geo_id': 'GSE228148'},\n",
       " 'SRP429995': {'bioproject_id': 'PRJNA950063', 'geo_id': 'GSE228499'},\n",
       " 'SRP429994': {'bioproject_id': 'PRJNA950061', 'geo_id': 'GSE228498'},\n",
       " 'SRP430225': {'bioproject_id': 'PRJNA950399', 'geo_id': 'GSE228585'},\n",
       " 'SRP430879': {'bioproject_id': 'PRJNA952244', 'geo_id': 'GSE228957'},\n",
       " 'SRP444292': {'bioproject_id': 'PRJNA984257', 'geo_id': 'GSE235050'},\n",
       " 'SRP430506': {'bioproject_id': 'PRJNA951431', 'geo_id': 'GSE228759'},\n",
       " 'SRP431539': {'bioproject_id': 'PRJNA953399', 'geo_id': 'GSE229202'},\n",
       " 'SRP431862': {'bioproject_id': 'PRJNA954049', 'geo_id': 'GSE229353'},\n",
       " 'SRP432017': {'bioproject_id': 'PRJNA954371', 'geo_id': 'GSE229402'},\n",
       " 'SRP431966': {'bioproject_id': 'PRJNA954318', 'geo_id': 'GSE229379'},\n",
       " 'SRP432464': {'bioproject_id': 'PRJNA955186', 'geo_id': 'GSE229626'},\n",
       " 'SRP432635': {'bioproject_id': 'PRJNA955672', 'geo_id': 'GSE229711'},\n",
       " 'SRP432396': {'bioproject_id': 'PRJNA955027', 'geo_id': 'GSE229578'},\n",
       " 'SRP432473': {'bioproject_id': 'PRJNA955181', 'geo_id': 'GSE229617'},\n",
       " 'SRP432975': {'bioproject_id': 'PRJNA956475', 'geo_id': 'GSE229858'},\n",
       " 'SRP434107': {'bioproject_id': 'PRJNA961060', 'geo_id': ''},\n",
       " 'SRP433791': {'bioproject_id': 'PRJNA958179', 'geo_id': 'GSE230276'},\n",
       " 'SRP434133': {'bioproject_id': 'PRJNA961074', 'geo_id': 'GSE230403'},\n",
       " 'SRP434650': {'bioproject_id': 'PRJNA962028', 'geo_id': 'GSE230629'},\n",
       " 'SRP435367': {'bioproject_id': 'PRJNA964598', 'geo_id': 'GSE231370'},\n",
       " 'SRP434915': {'bioproject_id': 'PRJNA962589', 'geo_id': 'GSE230808'},\n",
       " 'SRP434994': {'bioproject_id': 'PRJNA962821', 'geo_id': 'GSE230842'},\n",
       " 'SRP435632': {'bioproject_id': 'PRJNA966204', 'geo_id': 'GSE231523'},\n",
       " 'SRP436074': {'bioproject_id': 'PRJNA967120', 'geo_id': 'GSE231585'},\n",
       " 'SRP435568': {'bioproject_id': 'PRJNA966122', 'geo_id': 'GSE231484'},\n",
       " 'SRP435645': {'bioproject_id': 'PRJNA966751', 'geo_id': 'GSE254188'},\n",
       " 'SRP340289': {'bioproject_id': 'PRJNA769136', 'geo_id': 'GSE185472'},\n",
       " 'SRP376674': {'bioproject_id': 'PRJNA841584', 'geo_id': 'GSE203608'},\n",
       " 'SRP435775': {'bioproject_id': 'PRJNA966992', 'geo_id': 'GSE231607'},\n",
       " 'SRP436542': {'bioproject_id': 'PRJNA970371', 'geo_id': 'GSE231993'},\n",
       " 'SRP436533': {'bioproject_id': 'PRJNA970370', 'geo_id': 'GSE231989'},\n",
       " 'SRP436716': {'bioproject_id': 'PRJNA970826', 'geo_id': 'GSE232107'},\n",
       " 'SRP437461': {'bioproject_id': 'PRJNA971996', 'geo_id': 'GSE232444'},\n",
       " 'SRP437299': {'bioproject_id': 'PRJNA971733', 'geo_id': 'GSE232361'},\n",
       " 'SRP437538': {'bioproject_id': 'PRJNA972288', 'geo_id': 'GSE232477'},\n",
       " 'SRP438280': {'bioproject_id': 'PRJNA973725', 'geo_id': 'GSE232766'},\n",
       " 'SRP374961': {'bioproject_id': 'PRJNA837596', 'geo_id': 'GSE202886'},\n",
       " 'SRP438541': {'bioproject_id': 'PRJNA974049', 'geo_id': 'GSE232839'},\n",
       " 'SRP438493': {'bioproject_id': 'PRJNA974027', 'geo_id': 'GSE232822'},\n",
       " 'SRP439227': {'bioproject_id': 'PRJNA975506', 'geo_id': 'GSE233230'},\n",
       " 'SRP438944': {'bioproject_id': 'PRJNA975101', 'geo_id': 'GSE233130'},\n",
       " 'SRP439226': {'bioproject_id': 'PRJNA975613', 'geo_id': 'GSE233276'},\n",
       " 'SRP439752': {'bioproject_id': 'PRJNA976623', 'geo_id': 'GSE233532'},\n",
       " 'SRP439649': {'bioproject_id': 'PRJNA976273', 'geo_id': 'GSE233439'},\n",
       " 'SRP439615': {'bioproject_id': 'PRJNA976052', 'geo_id': 'GSE233338'},\n",
       " 'SRP439570': {'bioproject_id': 'PRJNA976061', 'geo_id': 'GSE233290'},\n",
       " 'SRP439623': {'bioproject_id': 'PRJNA976394', 'geo_id': 'GSE233506'},\n",
       " 'SRP439775': {'bioproject_id': 'PRJNA976668', 'geo_id': 'GSE233567'},\n",
       " 'SRP440304': {'bioproject_id': 'PRJNA977878', 'geo_id': 'GSE233766'},\n",
       " 'SRP440824': {'bioproject_id': 'PRJNA979107', 'geo_id': 'GSE233962'},\n",
       " 'SRP440966': {'bioproject_id': 'PRJNA979233', 'geo_id': 'GSE234046'},\n",
       " 'SRP441702': {'bioproject_id': 'PRJNA981185', 'geo_id': 'GSE234402'},\n",
       " 'SRP441663': {'bioproject_id': 'PRJNA981124', 'geo_id': 'GSE234359'},\n",
       " 'SRP443074': {'bioproject_id': 'PRJNA983213', 'geo_id': 'GSE234785'},\n",
       " 'SRP443155': {'bioproject_id': 'PRJNA983286', 'geo_id': 'GSE234817'},\n",
       " 'SRP442924': {'bioproject_id': 'PRJNA982814', 'geo_id': 'GSE234720'},\n",
       " 'SRP442401': {'bioproject_id': 'PRJNA982101', 'geo_id': 'GSE234592'},\n",
       " 'SRP443229': {'bioproject_id': 'PRJNA983305', 'geo_id': 'GSE234832'},\n",
       " 'SRP444204': {'bioproject_id': 'PRJNA984298', 'geo_id': 'GSE235079'},\n",
       " 'SRP444805': {'bioproject_id': 'PRJNA983239', 'geo_id': 'GSE234790'},\n",
       " 'SRP444844': {'bioproject_id': 'PRJNA985573', 'geo_id': 'GSE235168'},\n",
       " 'SRP445410': {'bioproject_id': 'PRJNA986538', 'geo_id': 'GSE235604'},\n",
       " 'SRP445037': {'bioproject_id': 'PRJNA985623', 'geo_id': 'GSE235263'},\n",
       " 'SRP445303': {'bioproject_id': 'PRJNA986429', 'geo_id': 'GSE235534'},\n",
       " 'SRP445433': {'bioproject_id': 'PRJNA986510', 'geo_id': 'GSE235582'},\n",
       " 'SRP446175': {'bioproject_id': 'PRJNA988035', 'geo_id': 'GSE235917'},\n",
       " 'SRP445885': {'bioproject_id': 'PRJNA987727', 'geo_id': 'GSE235866'},\n",
       " 'SRP446134': {'bioproject_id': 'PRJNA988047', 'geo_id': 'GSE235927'},\n",
       " 'SRP446189': {'bioproject_id': 'PRJNA988028', 'geo_id': 'GSE235914'},\n",
       " 'SRP445891': {'bioproject_id': 'PRJNA987618', 'geo_id': 'GSE235782'},\n",
       " 'SRP446618': {'bioproject_id': 'PRJNA989171', 'geo_id': 'GSE236177'},\n",
       " 'SRP446490': {'bioproject_id': 'PRJNA989030', 'geo_id': 'GSE236099'},\n",
       " 'SRP446578': {'bioproject_id': 'PRJNA988887', 'geo_id': 'GSE236097'},\n",
       " 'SRP414553': {'bioproject_id': 'PRJNA915123', 'geo_id': 'GSE221648'},\n",
       " 'SRP447936': {'bioproject_id': 'PRJNA973959', 'geo_id': 'GSE232787'},\n",
       " 'SRP447730': {'bioproject_id': 'PRJNA992114', 'geo_id': 'GSE236738'},\n",
       " 'SRP448300': {'bioproject_id': 'PRJNA992565', 'geo_id': 'GSE236880'},\n",
       " 'SRP449942': {'bioproject_id': 'PRJNA995768', 'geo_id': 'GSE237579'},\n",
       " 'SRP447946': {'bioproject_id': 'PRJNA992414', 'geo_id': 'GSE236773'},\n",
       " 'SRP449308': {'bioproject_id': 'PRJNA994456', 'geo_id': 'GSE237239'},\n",
       " 'SRP450224': {'bioproject_id': 'PRJNA996138', 'geo_id': 'GSE237673'},\n",
       " 'SRP450516': {'bioproject_id': 'PRJNA996357', 'geo_id': ''},\n",
       " 'SRP450152': {'bioproject_id': 'PRJNA996053', 'geo_id': 'GSE237622'},\n",
       " 'SRP451149': {'bioproject_id': 'PRJNA997992', 'geo_id': 'GSE238120'},\n",
       " 'SRP451331': {'bioproject_id': 'PRJNA998373', 'geo_id': 'GSE238206'},\n",
       " 'SRP451486': {'bioproject_id': 'PRJNA998714', 'geo_id': 'GSE238274'},\n",
       " 'SRP451503': {'bioproject_id': 'PRJNA998715', 'geo_id': 'GSE238275'},\n",
       " 'SRP451415': {'bioproject_id': 'PRJNA998383', 'geo_id': 'GSE238219'},\n",
       " 'SRP452080': {'bioproject_id': 'PRJNA999735', 'geo_id': 'GSE239592'},\n",
       " 'SRP452470': {'bioproject_id': 'PRJNA1000449', 'geo_id': 'GSE239626'},\n",
       " 'SRP452097': {'bioproject_id': 'PRJNA999691', 'geo_id': 'GSE239556'},\n",
       " 'SRP447794': {'bioproject_id': 'PRJNA956545', 'geo_id': ''},\n",
       " 'SRP452969': {'bioproject_id': 'PRJNA1001340', 'geo_id': 'GSE239887'},\n",
       " 'SRP453254': {'bioproject_id': 'PRJNA1001914', 'geo_id': 'GSE240009'},\n",
       " 'SRP454227': {'bioproject_id': 'PRJNA1003807', 'geo_id': 'GSE240441'},\n",
       " 'SRP454026': {'bioproject_id': 'PRJNA1003439', 'geo_id': 'GSE240358'},\n",
       " 'SRP455161': {'bioproject_id': 'PRJNA1005589', 'geo_id': 'GSE240858'},\n",
       " 'SRP455833': {'bioproject_id': 'PRJNA1006744', 'geo_id': 'GSE241221'},\n",
       " 'SRP455741': {'bioproject_id': 'PRJNA1004232', 'geo_id': ''},\n",
       " 'SRP455668': {'bioproject_id': 'PRJNA1006396', 'geo_id': 'GSE241096'},\n",
       " 'SRP455809': {'bioproject_id': 'PRJNA1006691', 'geo_id': 'GSE241183'},\n",
       " 'SRP456463': {'bioproject_id': 'PRJNA1008111', 'geo_id': 'GSE241417'},\n",
       " 'SRP456173': {'bioproject_id': 'PRJNA1007731', 'geo_id': 'GSE241348'},\n",
       " 'SRP456823': {'bioproject_id': 'PRJNA1008689', 'geo_id': 'GSE241556'},\n",
       " 'SRP456493': {'bioproject_id': 'PRJNA1008166', 'geo_id': 'GSE241441'},\n",
       " 'SRP456494': {'bioproject_id': 'PRJNA1008178', 'geo_id': 'GSE241453'},\n",
       " 'SRP456549': {'bioproject_id': 'PRJNA1008237', 'geo_id': 'GSE241468'},\n",
       " 'SRP456555': {'bioproject_id': 'PRJNA1008353', 'geo_id': 'GSE241499'},\n",
       " 'SRP457292': {'bioproject_id': 'PRJNA1010190', 'geo_id': 'GSE241825'},\n",
       " 'SRP457656': {'bioproject_id': 'PRJNA1010939', 'geo_id': 'GSE241996'},\n",
       " 'SRP457633': {'bioproject_id': 'PRJNA1010942', 'geo_id': 'GSE241999'},\n",
       " 'SRP458159': {'bioproject_id': 'PRJNA1012313', 'geo_id': 'GSE242230'},\n",
       " 'SRP458897': {'bioproject_id': 'PRJNA1013334', 'geo_id': 'GSE242382'},\n",
       " 'SRP459465': {'bioproject_id': 'PRJNA1014735', 'geo_id': 'GSE242790'},\n",
       " 'SRP459391': {'bioproject_id': 'PRJNA1014491', 'geo_id': 'GSE242777'},\n",
       " 'SRP459051': {'bioproject_id': 'PRJNA1013808', 'geo_id': 'GSE242524'},\n",
       " 'SRP460012': {'bioproject_id': 'PRJNA1015716', 'geo_id': 'GSE243005'},\n",
       " 'SRP459776': {'bioproject_id': 'PRJNA1015241', 'geo_id': 'GSE242894'},\n",
       " 'SRP459768': {'bioproject_id': 'PRJNA1015267', 'geo_id': 'GSE242909'},\n",
       " 'SRP460490': {'bioproject_id': 'PRJNA1017130', 'geo_id': ''},\n",
       " 'SRP460350': {'bioproject_id': 'PRJNA1016367', 'geo_id': 'GSE243101'},\n",
       " 'SRP462540': {'bioproject_id': 'PRJNA1019891', 'geo_id': ''},\n",
       " 'SRP460781': {'bioproject_id': 'PRJNA1017828', 'geo_id': 'GSE243325'},\n",
       " 'SRP461346': {'bioproject_id': 'PRJNA1018432', 'geo_id': 'GSE243401'},\n",
       " 'SRP461730': {'bioproject_id': 'PRJNA1018947', 'geo_id': 'GSE243572'},\n",
       " 'SRP462891': {'bioproject_id': 'PRJNA1020551', 'geo_id': 'GSE243905'},\n",
       " 'SRP462866': {'bioproject_id': 'PRJNA1020454', 'geo_id': ''},\n",
       " 'SRP463257': {'bioproject_id': 'PRJNA1021142', 'geo_id': 'GSE244031'},\n",
       " 'SRP463802': {'bioproject_id': 'PRJNA1022135', 'geo_id': 'GSE244297'},\n",
       " 'ERP160830': {'bioproject_id': 'PRJEB76272', 'geo_id': 'E-MTAB-14140'},\n",
       " 'ERP160008': {'bioproject_id': 'PRJEB75429', 'geo_id': 'E-MTAB-13687'},\n",
       " 'ERP148386': {'bioproject_id': 'PRJEB63232', 'geo_id': 'E-MTAB-13071'},\n",
       " 'ERP161688': {'bioproject_id': 'PRJEB77211', 'geo_id': 'E-MTAB-14220'},\n",
       " 'ERP163054': {'bioproject_id': 'PRJEB78818', 'geo_id': 'E-MTAB-14339'},\n",
       " 'ERP164644': {'bioproject_id': 'PRJEB80689', 'geo_id': 'E-MTAB-14482'},\n",
       " 'ERP165377': {'bioproject_id': 'PRJEB81542', 'geo_id': 'E-MTAB-12303'},\n",
       " 'SRP434039': {'bioproject_id': 'PRJNA960863', 'geo_id': 'GSE230375'},\n",
       " 'SRP463473': {'bioproject_id': 'PRJNA1020590', 'geo_id': 'GSE243929'},\n",
       " 'SRP464741': {'bioproject_id': 'PRJNA1024473', 'geo_id': 'GSE244739'},\n",
       " 'SRP465489': {'bioproject_id': 'PRJNA1026558', 'geo_id': 'GSE244981'},\n",
       " 'SRP464822': {'bioproject_id': 'PRJNA1024502', 'geo_id': 'GSE244756'},\n",
       " 'SRP466048': {'bioproject_id': 'PRJNA1027455', 'geo_id': 'GSE245241'},\n",
       " 'SRP466424': {'bioproject_id': 'PRJNA1028306', 'geo_id': 'GSE245416'},\n",
       " 'SRP466799': {'bioproject_id': 'PRJNA1029000', 'geo_id': 'GSE245561'},\n",
       " 'SRP467626': {'bioproject_id': 'PRJNA1030389', 'geo_id': 'GSE245920'},\n",
       " 'SRP467578': {'bioproject_id': 'PRJNA1030366', 'geo_id': 'GSE245906'},\n",
       " 'SRP466895': {'bioproject_id': 'PRJNA1029188', 'geo_id': 'GSE245627'},\n",
       " 'SRP467128': {'bioproject_id': 'PRJNA1029625', 'geo_id': 'GSE245719'},\n",
       " 'SRP468426': {'bioproject_id': 'PRJNA1032112', 'geo_id': 'GSE246242'},\n",
       " 'SRP468191': {'bioproject_id': 'PRJNA1031681', 'geo_id': 'GSE246155'},\n",
       " 'SRP468635': {'bioproject_id': 'PRJNA1032579', 'geo_id': 'GSE246342'},\n",
       " 'SRP469159': {'bioproject_id': 'PRJNA1033657', 'geo_id': ''},\n",
       " 'SRP469469': {'bioproject_id': 'PRJNA1034080', 'geo_id': 'GSE246662'},\n",
       " 'SRP468872': {'bioproject_id': 'PRJNA1032006', 'geo_id': 'GSE246183'},\n",
       " 'SRP469850': {'bioproject_id': 'PRJNA1034982', 'geo_id': 'GSE246842'},\n",
       " 'SRP468911': {'bioproject_id': 'PRJNA1032958', 'geo_id': 'GSE246456'},\n",
       " 'SRP470595': {'bioproject_id': 'PRJNA1036676', 'geo_id': 'GSE247238'},\n",
       " 'SRP470067': {'bioproject_id': 'PRJNA1035433', 'geo_id': 'GSE246960'},\n",
       " 'SRP470438': {'bioproject_id': 'PRJNA1036218', 'geo_id': 'GSE247098'},\n",
       " 'SRP471264': {'bioproject_id': 'PRJNA1038765', 'geo_id': 'GSE247488'},\n",
       " 'SRP470913': {'bioproject_id': 'PRJNA1037108', 'geo_id': 'GSE247322'},\n",
       " 'SRP471277': {'bioproject_id': 'PRJNA1037702', 'geo_id': 'GSE247380'},\n",
       " 'SRP471241': {'bioproject_id': 'PRJNA1038742', 'geo_id': 'GSE247468'},\n",
       " 'SRP471765': {'bioproject_id': 'PRJNA1040177', 'geo_id': 'GSE247690'},\n",
       " 'SRP473056': {'bioproject_id': 'PRJNA1043114', 'geo_id': 'GSE248256'},\n",
       " 'SRP472352': {'bioproject_id': 'PRJNA1041313', 'geo_id': 'GSE247962'},\n",
       " 'SRP457312': {'bioproject_id': 'PRJNA1010235', 'geo_id': 'GSE263356'},\n",
       " 'SRP473707': {'bioproject_id': 'PRJNA1044045', 'geo_id': 'GSE248450'},\n",
       " 'SRP473103': {'bioproject_id': 'PRJNA1043200', 'geo_id': 'GSE248311'},\n",
       " 'SRP474000': {'bioproject_id': 'PRJNA1044765', 'geo_id': 'GSE248549'},\n",
       " 'SRP474582': {'bioproject_id': 'PRJNA1045728', 'geo_id': 'GSE248762'},\n",
       " 'SRP430338': {'bioproject_id': 'PRJNA950957', 'geo_id': 'GSE228638'},\n",
       " 'SRP474023': {'bioproject_id': 'PRJNA1044775', 'geo_id': 'GSE248556'},\n",
       " 'SRP475087': {'bioproject_id': 'PRJNA1047004', 'geo_id': 'GSE249006'},\n",
       " 'SRP475035': {'bioproject_id': 'PRJNA1046489', 'geo_id': 'GSE248941'},\n",
       " 'SRP475413': {'bioproject_id': 'PRJNA1047678', 'geo_id': 'GSE249209'},\n",
       " 'SRP475655': {'bioproject_id': 'PRJNA1048387', 'geo_id': 'GSE249263'},\n",
       " 'SRP474880': {'bioproject_id': 'PRJNA1046433', 'geo_id': 'GSE248907'},\n",
       " 'SRP475373': {'bioproject_id': 'PRJNA867016', 'geo_id': 'GSE210681'},\n",
       " 'SRP475810': {'bioproject_id': 'PRJNA1048434', 'geo_id': 'GSE249279'},\n",
       " 'SRP475959': {'bioproject_id': 'PRJNA1048866', 'geo_id': 'GSE249361'},\n",
       " 'SRP475793': {'bioproject_id': 'PRJNA1048421', 'geo_id': 'GSE249276'},\n",
       " 'SRP476158': {'bioproject_id': 'PRJNA1049373', 'geo_id': ''},\n",
       " 'SRP476138': {'bioproject_id': 'PRJNA1049361', 'geo_id': 'GSE250159'},\n",
       " 'SRP476406': {'bioproject_id': 'PRJNA1049768', 'geo_id': 'GSE249584'},\n",
       " 'SRP477379': {'bioproject_id': 'PRJNA1049421', 'geo_id': 'GSE249513'},\n",
       " 'SRP477552': {'bioproject_id': 'PRJNA1051533', 'geo_id': 'GSE249974'},\n",
       " 'SRP477861': {'bioproject_id': 'PRJNA1052110', 'geo_id': 'GSE250148'},\n",
       " 'SRP478130': {'bioproject_id': 'PRJNA1052724', 'geo_id': 'GSE250242'},\n",
       " 'SRP478473': {'bioproject_id': 'PRJNA1053783', 'geo_id': 'GSE250378'},\n",
       " 'SRP478715': {'bioproject_id': 'PRJNA1054118', 'geo_id': 'GSE250469'},\n",
       " 'SRP477992': {'bioproject_id': 'PRJNA1052638', 'geo_id': 'GSE250189'},\n",
       " 'SRP478294': {'bioproject_id': 'PRJNA1053388', 'geo_id': 'GSE250341'},\n",
       " 'SRP479267': {'bioproject_id': 'PRJNA1055142', 'geo_id': 'GSE251730'},\n",
       " 'SRP479264': {'bioproject_id': 'PRJNA1055110', 'geo_id': 'GSE251718'},\n",
       " 'SRP480371': {'bioproject_id': 'PRJNA1057833', 'geo_id': 'GSE252126'},\n",
       " 'SRP481010': {'bioproject_id': 'PRJNA1060258', 'geo_id': 'GSE252344'},\n",
       " 'SRP479642': {'bioproject_id': 'PRJNA1055891', 'geo_id': 'GSE251892'},\n",
       " 'SRP480173': {'bioproject_id': 'PRJNA1057240', 'geo_id': 'GSE252061'},\n",
       " 'SRP483806': {'bioproject_id': 'PRJNA1064951', 'geo_id': 'GSE253279'},\n",
       " 'SRP483918': {'bioproject_id': 'PRJNA1065290', 'geo_id': 'GSE253320'},\n",
       " 'SRP483982': {'bioproject_id': 'PRJNA1065394', 'geo_id': 'GSE253355'},\n",
       " 'SRP425535': {'bioproject_id': 'PRJNA940792', 'geo_id': 'GSE226600'},\n",
       " 'SRP485269': {'bioproject_id': 'PRJNA1067646', 'geo_id': 'GSE253903'},\n",
       " 'SRP484795': {'bioproject_id': 'PRJNA1066790', 'geo_id': 'GSE253698'},\n",
       " 'SRP485293': {'bioproject_id': 'PRJNA1067709', 'geo_id': 'GSE253936'},\n",
       " 'SRP485810': {'bioproject_id': 'PRJNA1068756', 'geo_id': 'GSE254176'},\n",
       " 'SRP486096': {'bioproject_id': 'PRJNA1069616', 'geo_id': 'GSE254282'},\n",
       " 'SRP486476': {'bioproject_id': 'PRJNA1070571', 'geo_id': 'GSE254435'},\n",
       " 'SRP486985': {'bioproject_id': 'PRJNA1071263', 'geo_id': 'GSE254657'},\n",
       " 'SRP487516': {'bioproject_id': 'PRJNA1072098', 'geo_id': 'GSE254857'},\n",
       " 'SRP488620': {'bioproject_id': 'PRJNA1074249', 'geo_id': 'GSE255245'},\n",
       " 'SRP487691': {'bioproject_id': 'PRJNA1072238', 'geo_id': 'GSE254890'},\n",
       " 'SRP488257': {'bioproject_id': 'PRJNA1073532', 'geo_id': 'GSE255107'},\n",
       " 'SRP488191': {'bioproject_id': 'PRJNA1073528', 'geo_id': ''},\n",
       " 'SRP489126': {'bioproject_id': 'PRJNA1075064', 'geo_id': 'GSE255460'},\n",
       " 'SRP489241': {'bioproject_id': 'PRJNA1075317', 'geo_id': 'GSE255538'},\n",
       " 'SRP489278': {'bioproject_id': 'PRJNA1075424', 'geo_id': 'GSE255549'},\n",
       " 'SRP489238': {'bioproject_id': 'PRJNA1075314', 'geo_id': 'GSE255536'},\n",
       " 'SRP491598': {'bioproject_id': 'PRJNA1080204', 'geo_id': 'GSE257547'},\n",
       " 'SRP491592': {'bioproject_id': 'PRJNA1080196', 'geo_id': 'GSE257542'},\n",
       " 'SRP491414': {'bioproject_id': 'PRJNA1079787', 'geo_id': 'GSE256494'},\n",
       " 'SRP492860': {'bioproject_id': 'PRJNA1082735', 'geo_id': 'GSE260709'},\n",
       " 'SRP492800': {'bioproject_id': 'PRJNA1082635', 'geo_id': 'GSE260658'},\n",
       " 'SRP492865': {'bioproject_id': 'PRJNA1082742', 'geo_id': 'GSE260711'},\n",
       " 'SRP493689': {'bioproject_id': 'PRJNA1084820', 'geo_id': 'GSE261012'},\n",
       " 'SRP494610': {'bioproject_id': 'PRJNA1086544', 'geo_id': 'GSE261353'},\n",
       " 'SRP493594': {'bioproject_id': 'PRJNA1084723', 'geo_id': 'GSE260953'},\n",
       " 'SRP494461': {'bioproject_id': 'PRJNA1086393', 'geo_id': 'GSE261283'},\n",
       " 'SRP493696': {'bioproject_id': 'PRJNA1084840', 'geo_id': 'GSE261025'},\n",
       " 'SRP495935': {'bioproject_id': 'PRJNA1088821', 'geo_id': 'GSE262072'},\n",
       " 'SRP495941': {'bioproject_id': 'PRJNA1088841', 'geo_id': 'GSE261774'},\n",
       " 'SRP496519': {'bioproject_id': 'PRJNA1089646', 'geo_id': 'GSE261966'},\n",
       " 'SRP496525': {'bioproject_id': 'PRJNA1089645', 'geo_id': 'GSE261967'},\n",
       " 'SRP496079': {'bioproject_id': 'PRJNA1089136', 'geo_id': 'GSE261811'},\n",
       " 'SRP495475': {'bioproject_id': 'PRJNA1088458', 'geo_id': 'GSE261706'},\n",
       " 'SRP495533': {'bioproject_id': 'PRJNA1088548', 'geo_id': 'GSE261751'},\n",
       " 'SRP496657': {'bioproject_id': 'PRJNA1089984', 'geo_id': 'GSE261983'},\n",
       " 'SRP498293': {'bioproject_id': 'PRJNA1092659', 'geo_id': 'GSE262624'},\n",
       " 'SRP401308': {'bioproject_id': 'PRJNA887733', 'geo_id': 'GSE214916'},\n",
       " 'SRP498483': {'bioproject_id': 'PRJNA1093115', 'geo_id': 'GSE262749'},\n",
       " 'SRP498406': {'bioproject_id': 'PRJNA1092996', 'geo_id': 'GSE262686'},\n",
       " 'SRP499226': {'bioproject_id': 'PRJNA1095379', 'geo_id': ''},\n",
       " 'SRP499374': {'bioproject_id': 'PRJNA1095460', 'geo_id': 'GSE263018'},\n",
       " 'SRP499031': {'bioproject_id': 'PRJNA989235', 'geo_id': 'GSE236197'},\n",
       " 'SRP499922': {'bioproject_id': 'PRJNA1096623', 'geo_id': 'GSE263282'},\n",
       " 'SRP499879': {'bioproject_id': 'PRJNA1096305', 'geo_id': ''},\n",
       " 'ERP120555': {'bioproject_id': 'PRJEB37248', 'geo_id': 'E-MTAB-8894'},\n",
       " 'SRP500865': {'bioproject_id': 'PRJNA1098863', 'geo_id': 'GSE263728'},\n",
       " 'SRP499814': {'bioproject_id': 'PRJNA1096320', 'geo_id': 'GSE263230'},\n",
       " 'SRP500076': {'bioproject_id': 'PRJNA1096957', 'geo_id': 'GSE263372'},\n",
       " 'SRP500020': {'bioproject_id': 'PRJNA1096664', 'geo_id': 'GSE263300'},\n",
       " 'SRP501169': {'bioproject_id': 'PRJNA1099153', 'geo_id': 'GSE263747'},\n",
       " 'SRP501509': {'bioproject_id': 'PRJNA1099671', 'geo_id': 'GSE263881'},\n",
       " 'SRP501253': {'bioproject_id': 'PRJNA1099256', 'geo_id': 'GSE263796'},\n",
       " 'SRP501855': {'bioproject_id': 'PRJNA1100550', 'geo_id': 'GSE264012'},\n",
       " 'SRP501230': {'bioproject_id': 'PRJNA1099238', 'geo_id': 'GSE263784'},\n",
       " 'SRP502175': {'bioproject_id': 'PRJNA1100946', 'geo_id': 'GSE264080'},\n",
       " 'SRP502901': {'bioproject_id': 'PRJNA1102355', 'geo_id': 'GSE264407'},\n",
       " 'SRP503172': {'bioproject_id': 'PRJNA1102889', 'geo_id': 'GSE264518'},\n",
       " 'SRP503154': {'bioproject_id': 'PRJNA1102874', 'geo_id': 'GSE264508'},\n",
       " 'SRP503019': {'bioproject_id': 'PRJNA1102697', 'geo_id': 'GSE264489'},\n",
       " 'SRP503541': {'bioproject_id': 'PRJNA1103675', 'geo_id': 'GSE264624'},\n",
       " 'SRP503403': {'bioproject_id': 'PRJNA1103190', 'geo_id': 'GSE264587'},\n",
       " 'SRP504059': {'bioproject_id': 'PRJNA1104626', 'geo_id': 'GSE265887'},\n",
       " 'SRP505006': {'bioproject_id': 'PRJNA1106513', 'geo_id': 'GSE266291'},\n",
       " 'SRP505103': {'bioproject_id': 'PRJNA1106741', 'geo_id': 'GSE266319'},\n",
       " 'SRP505580': {'bioproject_id': 'PRJNA1107552', 'geo_id': 'GSE266541'},\n",
       " 'SRP505979': {'bioproject_id': 'PRJNA1108287', 'geo_id': 'GSE266696'},\n",
       " 'SRP506021': {'bioproject_id': 'PRJNA1108233', 'geo_id': 'GSE266667'},\n",
       " 'SRP505935': {'bioproject_id': 'PRJNA1108263', 'geo_id': 'GSE266682'},\n",
       " 'SRP506006': {'bioproject_id': 'PRJNA1108330', 'geo_id': 'GSE266788'},\n",
       " 'SRP506436': {'bioproject_id': 'PRJNA1109290', 'geo_id': 'GSE266985'},\n",
       " 'SRP506243': {'bioproject_id': 'PRJNA1108740', 'geo_id': 'GSE266934'},\n",
       " 'SRP507307': {'bioproject_id': 'PRJNA1111016', 'geo_id': 'GSE267302'},\n",
       " 'SRP507504': {'bioproject_id': 'PRJNA1110840', 'geo_id': ''},\n",
       " 'SRP506864': {'bioproject_id': 'PRJNA996892', 'geo_id': 'GSE237826'},\n",
       " 'SRP508577': {'bioproject_id': 'PRJNA1113342', 'geo_id': 'GSE267837'},\n",
       " 'SRP509475': {'bioproject_id': 'PRJNA1115212', 'geo_id': 'GSE268231'},\n",
       " 'SRP508226': {'bioproject_id': 'PRJNA1112449', 'geo_id': 'GSE267718'},\n",
       " 'SRP509178': {'bioproject_id': 'PRJNA1114656', 'geo_id': 'GSE268094'},\n",
       " 'SRP508970': {'bioproject_id': 'PRJNA1114000', 'geo_id': 'GSE267988'},\n",
       " 'SRP511491': {'bioproject_id': 'PRJNA1119469', 'geo_id': 'GSE268929'},\n",
       " 'SRP510272': {'bioproject_id': 'PRJNA1117416', 'geo_id': 'GSE268462'},\n",
       " 'SRP510235': {'bioproject_id': 'PRJNA1117378', 'geo_id': 'GSE268436'},\n",
       " 'SRP510236': {'bioproject_id': 'PRJNA1117352', 'geo_id': 'GSE268426'},\n",
       " 'SRP511508': {'bioproject_id': 'PRJNA1119636', 'geo_id': 'GSE268990'},\n",
       " 'SRP511484': {'bioproject_id': 'PRJNA1119530', 'geo_id': 'GSE268973'},\n",
       " 'SRP512064': {'bioproject_id': 'PRJNA1120490', 'geo_id': 'GSE269194'},\n",
       " 'SRP511942': {'bioproject_id': 'PRJNA1120357', 'geo_id': 'GSE269125'},\n",
       " 'SRP511813': {'bioproject_id': 'PRJNA1033389', 'geo_id': ''},\n",
       " 'SRP513269': {'bioproject_id': 'PRJNA1122596', 'geo_id': 'GSE269596'},\n",
       " 'SRP514630': {'bioproject_id': 'PRJNA1125368', 'geo_id': 'GSE270170'},\n",
       " 'SRP515731': {'bioproject_id': 'PRJNA1127657', 'geo_id': 'GSE270667'},\n",
       " 'SRP514981': {'bioproject_id': 'PRJNA1126154', 'geo_id': 'GSE270296'},\n",
       " 'SRP516110': {'bioproject_id': 'PRJNA1128170', 'geo_id': 'GSE270788'},\n",
       " 'SRP516845': {'bioproject_id': 'PRJNA1129535', 'geo_id': 'GSE271065'},\n",
       " 'SRP516785': {'bioproject_id': 'PRJNA1129444', 'geo_id': 'GSE271028'},\n",
       " 'SRP517866': {'bioproject_id': 'PRJNA1131355', 'geo_id': 'GSE271413'},\n",
       " 'SRP516985': {'bioproject_id': 'PRJNA1126143', 'geo_id': 'GSE270292'},\n",
       " 'SRP516215': {'bioproject_id': 'PRJNA1128537', 'geo_id': 'GSE270807'},\n",
       " 'SRP517019': {'bioproject_id': 'PRJNA1129864', 'geo_id': 'GSE271107'},\n",
       " 'SRP518234': {'bioproject_id': 'PRJNA1132300', 'geo_id': 'GSE271618'},\n",
       " 'SRP519065': {'bioproject_id': 'PRJNA1134114', 'geo_id': 'GSE271915'},\n",
       " 'SRP520022': {'bioproject_id': 'PRJNA1136035', 'geo_id': 'GSE272294'},\n",
       " 'SRP519697': {'bioproject_id': 'PRJNA1135255', 'geo_id': 'GSE272174'},\n",
       " 'SRP519733': {'bioproject_id': 'PRJNA1135481', 'geo_id': 'GSE272189'},\n",
       " 'SRP432133': {'bioproject_id': 'PRJNA954688', 'geo_id': 'GSE229457'},\n",
       " 'SRP520575': {'bioproject_id': 'PRJNA1136955', 'geo_id': 'GSE272481'},\n",
       " 'SRP521065': {'bioproject_id': 'PRJNA1137951', 'geo_id': 'GSE272457'},\n",
       " 'SRP521307': {'bioproject_id': 'PRJNA1138631', 'geo_id': 'GSE272735'},\n",
       " 'SRP468586': {'bioproject_id': 'PRJNA1032559', 'geo_id': 'GSE246315'},\n",
       " 'SRP521357': {'bioproject_id': 'PRJNA1138692', 'geo_id': 'GSE272763'},\n",
       " 'SRP526956': {'bioproject_id': 'PRJNA1149089', 'geo_id': 'GSE275092'},\n",
       " 'SRP526487': {'bioproject_id': 'PRJNA1148073', 'geo_id': 'GSE274801'},\n",
       " 'SRP523598': {'bioproject_id': 'PRJNA1142915', 'geo_id': 'GSE273718'},\n",
       " 'SRP523311': {'bioproject_id': 'PRJNA1142407', 'geo_id': 'GSE273559'},\n",
       " 'SRP488781': {'bioproject_id': 'PRJNA1074390', 'geo_id': 'GSE255296'},\n",
       " 'SRP524624': {'bioproject_id': 'PRJNA1145015', 'geo_id': 'GSE274133'},\n",
       " 'SRP528624': {'bioproject_id': 'PRJNA1152491', 'geo_id': 'GSE275650'},\n",
       " 'SRP529072': {'bioproject_id': 'PRJNA1153275', 'geo_id': 'GSE275846'},\n",
       " 'ERP125914': {'bioproject_id': 'PRJEB42051', 'geo_id': 'E-MTAB-9916'},\n",
       " 'SRP531862': {'bioproject_id': 'PRJNA1159203', 'geo_id': 'GSE276838'},\n",
       " 'SRP531277': {'bioproject_id': 'PRJNA1158224', 'geo_id': 'GSE276609'},\n",
       " 'SRP532620': {'bioproject_id': 'PRJNA1160890', 'geo_id': 'GSE277165'},\n",
       " 'SRP531705': {'bioproject_id': 'PRJNA1158868', 'geo_id': 'GSE276789'},\n",
       " 'SRP535012': {'bioproject_id': 'PRJNA1165751', 'geo_id': 'GSE278136'},\n",
       " 'SRP537501': {'bioproject_id': 'PRJNA1171004', 'geo_id': 'GSE279162'},\n",
       " 'SRP534171': {'bioproject_id': 'PRJNA1164162', 'geo_id': ''},\n",
       " 'SRP535874': {'bioproject_id': 'PRJNA1151215', 'geo_id': ''},\n",
       " 'SRP535113': {'bioproject_id': 'PRJNA1165790', 'geo_id': 'GSE278165'},\n",
       " 'SRP439822': {'bioproject_id': 'PRJNA976679', 'geo_id': 'GSE233574'},\n",
       " 'SRP539147': {'bioproject_id': 'PRJNA1174146', 'geo_id': 'GSE279721'},\n",
       " 'SRP540640': {'bioproject_id': 'PRJNA1177414', 'geo_id': 'GSE280232'},\n",
       " 'SRP538955': {'bioproject_id': 'PRJNA1173739', 'geo_id': 'GSE279630'},\n",
       " 'SRP541648': {'bioproject_id': 'PRJNA1178711', 'geo_id': 'GSE280502'},\n",
       " 'SRP543156': {'bioproject_id': 'PRJNA1181917', 'geo_id': 'GSE281069'},\n",
       " 'SRP546369': {'bioproject_id': 'PRJNA1188459', 'geo_id': 'GSE282369'},\n",
       " 'SRP544817': {'bioproject_id': 'PRJNA1185392', 'geo_id': 'GSE281736'},\n",
       " 'SRP544504': {'bioproject_id': 'PRJNA1184782', 'geo_id': 'GSE281603'},\n",
       " 'SRP546252': {'bioproject_id': 'PRJNA1188170', 'geo_id': 'GSE282350'},\n",
       " 'SRP545691': {'bioproject_id': 'PRJNA1187214', 'geo_id': 'GSE282112'},\n",
       " 'SRP554139': {'bioproject_id': 'PRJNA1203673', 'geo_id': 'GSE285461'},\n",
       " 'SRP555835': {'bioproject_id': 'PRJNA1207551', 'geo_id': 'GSE286054'},\n",
       " 'SRP552346': {'bioproject_id': 'PRJNA1200047', 'geo_id': 'GSE284689'},\n",
       " 'SRP551479': {'bioproject_id': 'PRJNA1198370', 'geo_id': 'GSE284297'},\n",
       " 'SRP549331': {'bioproject_id': 'PRJNA1194028', 'geo_id': 'GSE283473'},\n",
       " 'SRP558677': {'bioproject_id': 'PRJNA1213711', 'geo_id': 'GSE287541'},\n",
       " 'SRP558999': {'bioproject_id': 'PRJNA1214196', 'geo_id': 'GSE287652'},\n",
       " 'SRP556036': {'bioproject_id': 'PRJNA1207972', 'geo_id': 'GSE286120'},\n",
       " 'SRP557068': {'bioproject_id': 'PRJNA1209977', 'geo_id': 'GSE286688'},\n",
       " 'ERP142777': {'bioproject_id': 'PRJEB57777', 'geo_id': 'E-MTAB-12397'},\n",
       " 'ERP142724': {'bioproject_id': 'PRJEB57735', 'geo_id': 'E-MTAB-12339'},\n",
       " 'ERP143260': {'bioproject_id': 'PRJEB58196', 'geo_id': 'E-MTAB-12412'},\n",
       " 'ERP144792': {'bioproject_id': 'PRJEB59734', 'geo_id': 'E-MTAB-12584'},\n",
       " 'ERP145496': {'bioproject_id': 'PRJEB60435', 'geo_id': 'E-MTAB-12651'},\n",
       " 'ERP144924': {'bioproject_id': 'PRJEB59879', 'geo_id': 'E-MTAB-12591'},\n",
       " 'ERP144969': {'bioproject_id': 'PRJEB59922', 'geo_id': 'E-MTAB-12619'},\n",
       " 'ERP145399': {'bioproject_id': 'PRJEB60344', 'geo_id': 'E-MTAB-12743'},\n",
       " 'ERP146275': {'bioproject_id': 'PRJEB61178', 'geo_id': 'E-MTAB-12833'},\n",
       " 'ERP146640': {'bioproject_id': 'PRJEB61547', 'geo_id': 'E-MTAB-11522'},\n",
       " 'ERP148525': {'bioproject_id': 'PRJEB63362', 'geo_id': 'E-MTAB-13067'},\n",
       " 'ERP147272': {'bioproject_id': 'PRJEB62188', 'geo_id': 'E-MTAB-12924'},\n",
       " 'ERP131216': {'bioproject_id': 'PRJEB46982', 'geo_id': 'E-MTAB-10855'},\n",
       " 'ERP148411': {'bioproject_id': 'PRJEB63257', 'geo_id': 'E-MTAB-13070'},\n",
       " 'ERP148297': {'bioproject_id': 'PRJEB63146', 'geo_id': 'E-MTAB-13066'},\n",
       " 'ERP148486': {'bioproject_id': 'PRJEB63326', 'geo_id': 'E-MTAB-13064'},\n",
       " 'ERP149257': {'bioproject_id': 'PRJEB64127', 'geo_id': 'E-MTAB-8410'},\n",
       " 'ERP133451': {'bioproject_id': 'PRJEB49006', 'geo_id': 'E-MTAB-11174'},\n",
       " 'ERP148792': {'bioproject_id': 'PRJEB63642', 'geo_id': 'E-MTAB-13123'},\n",
       " 'ERP148767': {'bioproject_id': 'PRJEB63615', 'geo_id': 'E-MTAB-13124'},\n",
       " 'ERP148556': {'bioproject_id': 'PRJEB63391', 'geo_id': 'E-MTAB-13050'},\n",
       " 'ERP149652': {'bioproject_id': 'PRJEB64480', 'geo_id': ''},\n",
       " 'ERP150934': {'bioproject_id': 'PRJEB65846', 'geo_id': 'E-MTAB-13321'},\n",
       " 'ERP150952': {'bioproject_id': 'PRJEB65861', 'geo_id': 'E-MTAB-13324'},\n",
       " 'ERP150455': {'bioproject_id': 'PRJEB65326', 'geo_id': 'E-MTAB-13275'},\n",
       " 'ERP153272': {'bioproject_id': 'PRJEB68315', 'geo_id': 'E-MTAB-13526'},\n",
       " 'ERP152892': {'bioproject_id': 'PRJEB67888', 'geo_id': 'E-MTAB-13502'},\n",
       " 'ERP152793': {'bioproject_id': 'PRJEB67784', 'geo_id': 'E-MTAB-13427'},\n",
       " 'ERP152888': {'bioproject_id': 'PRJEB67884', 'geo_id': 'E-MTAB-13500'},\n",
       " 'ERP156718': {'bioproject_id': 'PRJEB71931', 'geo_id': 'E-MTAB-13710'},\n",
       " 'ERP156726': {'bioproject_id': 'PRJEB71939', 'geo_id': 'E-MTAB-13629'},\n",
       " 'ERP156820': {'bioproject_id': 'PRJEB72028', 'geo_id': 'E-MTAB-13664'},\n",
       " 'ERP156764': {'bioproject_id': 'PRJEB71978', 'geo_id': 'E-MTAB-13711'},\n",
       " 'ERP159371': {'bioproject_id': 'PRJEB74742', 'geo_id': 'E-MTAB-13721'},\n",
       " 'ERP157687': {'bioproject_id': 'PRJEB72888', 'geo_id': ''},\n",
       " 'ERP159291': {'bioproject_id': 'PRJEB74645', 'geo_id': ''},\n",
       " 'ERP158531': {'bioproject_id': 'PRJEB73795', 'geo_id': 'E-MTAB-13896'},\n",
       " 'ERP159632': {'bioproject_id': 'PRJEB75028', 'geo_id': ''},\n",
       " 'ERP159972': {'bioproject_id': 'PRJEB75396', 'geo_id': 'E-MTAB-14047'},\n",
       " 'ERP124605': {'bioproject_id': 'PRJEB40898', 'geo_id': 'E-MTAB-9689'},\n",
       " 'ERP123534': {'bioproject_id': 'PRJEB39956', 'geo_id': 'E-MTAB-9468'},\n",
       " 'ERP125482': {'bioproject_id': 'PRJEB41669', 'geo_id': 'E-MTAB-9840'},\n",
       " 'ERP125637': {'bioproject_id': 'PRJEB41802', 'geo_id': 'E-MTAB-9861'},\n",
       " 'ERP125682': {'bioproject_id': 'PRJEB41844', 'geo_id': 'E-MTAB-9233'},\n",
       " 'ERP125690': {'bioproject_id': 'PRJEB41852', 'geo_id': 'E-MTAB-9890'},\n",
       " 'ERP125913': {'bioproject_id': 'PRJEB42050', 'geo_id': 'E-MTAB-9922'},\n",
       " 'ERP127673': {'bioproject_id': 'PRJEB43688', 'geo_id': 'E-MTAB-10220'},\n",
       " ...}"
      ]
     },
     "execution_count": 21,
     "metadata": {},
     "output_type": "execute_result"
    }
   ],
   "source": [
    "results"
   ]
  },
  {
   "cell_type": "code",
   "execution_count": 26,
   "metadata": {},
   "outputs": [],
   "source": [
    "sdf = pd.DataFrame([\n",
    "    {'sra_id': sra_id, 'prj_id': info['bioproject_id'], 'gse_id': info['geo_id']}\n",
    "    for sra_id, info in results.items()\n",
    "])"
   ]
  },
  {
   "cell_type": "code",
   "execution_count": null,
   "metadata": {},
   "outputs": [],
   "source": [
    "import numpy as np\n",
    "sdf.replace({'': np.nan}, inplace=True)"
   ]
  },
  {
   "cell_type": "code",
   "execution_count": 31,
   "metadata": {},
   "outputs": [
    {
     "data": {
      "text/plain": [
       "np.int64(125)"
      ]
     },
     "execution_count": 31,
     "metadata": {},
     "output_type": "execute_result"
    }
   ],
   "source": [
    "sdf['gse_id'].isnull().sum()"
   ]
  },
  {
   "cell_type": "code",
   "execution_count": null,
   "metadata": {},
   "outputs": [],
   "source": [
    "sdf.head()"
   ]
  },
  {
   "cell_type": "code",
   "execution_count": 33,
   "metadata": {},
   "outputs": [],
   "source": [
    "sdf.to_csv(\"study_df.csv\", index=False)"
   ]
  },
  {
   "cell_type": "markdown",
   "metadata": {},
   "source": [
    "## Get all GSMs from SRX"
   ]
  },
  {
   "cell_type": "code",
   "execution_count": 34,
   "metadata": {},
   "outputs": [],
   "source": [
    "srx_list = result_df.loc[result_df['srx_accession'].str.startswith('SRX'), 'srx_accession'].to_list()"
   ]
  },
  {
   "cell_type": "code",
   "execution_count": null,
   "metadata": {},
   "outputs": [],
   "source": [
    "# Import the function\n",
    "from srx_to_gsm_standalone import batch_srx_to_gsm\n",
    "\n",
    "\n",
    "# Process in batches of 200\n",
    "srx2gsm = batch_srx_to_gsm(srx_list, batch_size=200, api_key=os.getenv(\"NCBI_API_KEY\"))\n"
   ]
  },
  {
   "cell_type": "code",
   "execution_count": 38,
   "metadata": {},
   "outputs": [
    {
     "data": {
      "text/plain": [
       "np.int64(1744)"
      ]
     },
     "execution_count": 38,
     "metadata": {},
     "output_type": "execute_result"
    }
   ],
   "source": [
    "srx2gsm['experiment_alias'].isnull().sum()"
   ]
  },
  {
   "cell_type": "code",
   "execution_count": 44,
   "metadata": {},
   "outputs": [],
   "source": [
    "srx2gsm.rename(columns={'experiment_accession': 'srx_accession', 'experiment_alias': 'gsm_id'}, inplace=True)"
   ]
  },
  {
   "cell_type": "code",
   "execution_count": 47,
   "metadata": {},
   "outputs": [],
   "source": [
    "result_df = result_df.merge(srx2gsm, on='srx_accession', how='left')"
   ]
  },
  {
   "cell_type": "code",
   "execution_count": 48,
   "metadata": {},
   "outputs": [],
   "source": [
    "result_df.to_csv(\"result_df.csv\", index=False)"
   ]
  },
  {
   "cell_type": "code",
   "execution_count": 49,
   "metadata": {},
   "outputs": [
    {
     "data": {
      "text/plain": [
       "1665"
      ]
     },
     "execution_count": 49,
     "metadata": {},
     "output_type": "execute_result"
    }
   ],
   "source": [
    "result_df['sra_id'].nunique()"
   ]
  },
  {
   "cell_type": "code",
   "execution_count": 13,
   "metadata": {},
   "outputs": [
    {
     "data": {
      "text/plain": [
       "array(['ERP149679', 'ERP144781', 'ERP123138', ..., 'SRP559437',\n",
       "       'SRP270870', 'SRP559980'], dtype=object)"
      ]
     },
     "execution_count": 13,
     "metadata": {},
     "output_type": "execute_result"
    }
   ],
   "source": [
    "result_df['sra_id'].unique()"
   ]
  },
  {
   "cell_type": "markdown",
   "metadata": {},
   "source": [
    "## Get SRA ID for all SRX"
   ]
  },
  {
   "cell_type": "code",
   "execution_count": 34,
   "metadata": {},
   "outputs": [
    {
     "data": {
      "text/plain": [
       "np.int64(0)"
      ]
     },
     "execution_count": 34,
     "metadata": {},
     "output_type": "execute_result"
    }
   ],
   "source": [
    "result_df['sra_id'].isnull().sum()"
   ]
  },
  {
   "cell_type": "code",
   "execution_count": 17,
   "metadata": {},
   "outputs": [],
   "source": [
    "from get_sra_id import get_sra_id, process_dataframe\n"
   ]
  },
  {
   "cell_type": "code",
   "execution_count": 18,
   "metadata": {},
   "outputs": [],
   "source": [
    "\n",
    "## Get study ID for a single accession\n",
    "sra_id = get_sra_id(\"ERX11148735\")  ## Returns \"ERP149679\""
   ]
  },
  {
   "cell_type": "code",
   "execution_count": null,
   "metadata": {},
   "outputs": [],
   "source": [
    "df_test_result = process_dataframe(df_test, accession_col='srx_accession', output_col='sra_id')"
   ]
  },
  {
   "cell_type": "code",
   "execution_count": null,
   "metadata": {},
   "outputs": [],
   "source": [
    "df_test_result"
   ]
  },
  {
   "cell_type": "code",
   "execution_count": 33,
   "metadata": {},
   "outputs": [
    {
     "data": {
      "text/plain": [
       "np.int64(450)"
      ]
     },
     "execution_count": 33,
     "metadata": {},
     "output_type": "execute_result"
    }
   ],
   "source": [
    "result_df['sra_id'].isnull().sum()"
   ]
  },
  {
   "cell_type": "code",
   "execution_count": 39,
   "metadata": {},
   "outputs": [],
   "source": [
    "rest = result_df.loc[result_df['sra_id'].isnull()].copy()"
   ]
  },
  {
   "cell_type": "code",
   "execution_count": 40,
   "metadata": {},
   "outputs": [
    {
     "name": "stderr",
     "output_type": "stream",
     "text": [
      "2025-03-13 22:00:59,654 - get_study_id - INFO - Getting study IDs for 450 NCBI accessions in batch mode\n"
     ]
    }
   ],
   "source": [
    "rest_df = process_dataframe(rest, accession_col='srx_accession', output_col='sra_id')"
   ]
  },
  {
   "cell_type": "code",
   "execution_count": 41,
   "metadata": {},
   "outputs": [],
   "source": [
    "mapping = dict(zip(rest_df['srx_accession'], rest_df['sra_id']))"
   ]
  },
  {
   "cell_type": "code",
   "execution_count": 42,
   "metadata": {},
   "outputs": [],
   "source": [
    "## apply the mapping, but only to the nulls\n",
    "result_df.loc[result_df['sra_id'].isnull(), 'sra_id'] = result_df['srx_accession'].map(mapping)"
   ]
  },
  {
   "cell_type": "code",
   "execution_count": 43,
   "metadata": {},
   "outputs": [
    {
     "data": {
      "text/plain": [
       "np.int64(0)"
      ]
     },
     "execution_count": 43,
     "metadata": {},
     "output_type": "execute_result"
    }
   ],
   "source": [
    "result_df['sra_id'].isnull().sum()"
   ]
  },
  {
   "cell_type": "code",
   "execution_count": 50,
   "metadata": {},
   "outputs": [
    {
     "data": {
      "text/plain": [
       "16077"
      ]
     },
     "execution_count": 50,
     "metadata": {},
     "output_type": "execute_result"
    }
   ],
   "source": [
    "result_df['srx_accession'].nunique()"
   ]
  },
  {
   "cell_type": "code",
   "execution_count": 48,
   "metadata": {},
   "outputs": [
    {
     "data": {
      "text/plain": [
       "298"
      ]
     },
     "execution_count": 48,
     "metadata": {},
     "output_type": "execute_result"
    }
   ],
   "source": [
    "result_df['sra_id'].nunique()"
   ]
  },
  {
   "cell_type": "code",
   "execution_count": 53,
   "metadata": {},
   "outputs": [
    {
     "data": {
      "text/plain": [
       "study_id\n",
       "SRP510712    400\n",
       "SRP439378    300\n",
       "SRP362101    300\n",
       "ERP136281    292\n",
       "SRP423586    250\n",
       "            ... \n",
       "ERP159291      1\n",
       "ERP158531      1\n",
       "ERP123534      1\n",
       "ERP125482      1\n",
       "ERP164644      1\n",
       "Name: count, Length: 298, dtype: int64"
      ]
     },
     "execution_count": 53,
     "metadata": {},
     "output_type": "execute_result"
    }
   ],
   "source": [
    "result_df['sra_id'].value_counts()"
   ]
  },
  {
   "cell_type": "code",
   "execution_count": 10,
   "metadata": {},
   "outputs": [
    {
     "data": {
      "text/plain": [
       "'SRP147554'"
      ]
     },
     "execution_count": 10,
     "metadata": {},
     "output_type": "execute_result"
    }
   ],
   "source": [
    "get_sra_id(\"SRX5126512\")  ## Returns \"ERP149679\""
   ]
  },
  {
   "cell_type": "code",
   "execution_count": 11,
   "metadata": {},
   "outputs": [
    {
     "data": {
      "text/plain": [
       "1783    SRP510712\n",
       "Name: study_id, dtype: object"
      ]
     },
     "execution_count": 11,
     "metadata": {},
     "output_type": "execute_result"
    }
   ],
   "source": [
    "result_df.loc[result_df['srx_accession'] == 'SRX5126512', 'sra_id']"
   ]
  },
  {
   "cell_type": "code",
   "execution_count": 44,
   "metadata": {},
   "outputs": [],
   "source": [
    "result_df.to_csv(\"result_df.csv\", index=False)"
   ]
  },
  {
   "cell_type": "markdown",
   "metadata": {},
   "source": [
    "## Get Publications for all studies"
   ]
  },
  {
   "cell_type": "code",
   "execution_count": 4,
   "metadata": {},
   "outputs": [],
   "source": [
    "sdf = pd.read_csv(\"study_df.csv\")"
   ]
  },
  {
   "cell_type": "code",
   "execution_count": 5,
   "metadata": {},
   "outputs": [
    {
     "data": {
      "text/html": [
       "<div>\n",
       "<style scoped>\n",
       "    .dataframe tbody tr th:only-of-type {\n",
       "        vertical-align: middle;\n",
       "    }\n",
       "\n",
       "    .dataframe tbody tr th {\n",
       "        vertical-align: top;\n",
       "    }\n",
       "\n",
       "    .dataframe thead th {\n",
       "        text-align: right;\n",
       "    }\n",
       "</style>\n",
       "<table border=\"1\" class=\"dataframe\">\n",
       "  <thead>\n",
       "    <tr style=\"text-align: right;\">\n",
       "      <th></th>\n",
       "      <th>sra_id</th>\n",
       "      <th>prj_id</th>\n",
       "      <th>gse_id</th>\n",
       "    </tr>\n",
       "  </thead>\n",
       "  <tbody>\n",
       "    <tr>\n",
       "      <th>0</th>\n",
       "      <td>ERP149679</td>\n",
       "      <td>PRJEB64504</td>\n",
       "      <td>E-MTAB-8142</td>\n",
       "    </tr>\n",
       "    <tr>\n",
       "      <th>1</th>\n",
       "      <td>ERP144781</td>\n",
       "      <td>PRJEB59723</td>\n",
       "      <td>E-MTAB-12650</td>\n",
       "    </tr>\n",
       "    <tr>\n",
       "      <th>2</th>\n",
       "      <td>ERP123138</td>\n",
       "      <td>PRJEB39602</td>\n",
       "      <td>NaN</td>\n",
       "    </tr>\n",
       "    <tr>\n",
       "      <th>3</th>\n",
       "      <td>ERP156277</td>\n",
       "      <td>PRJEB71477</td>\n",
       "      <td>E-MTAB-13085</td>\n",
       "    </tr>\n",
       "    <tr>\n",
       "      <th>4</th>\n",
       "      <td>ERP151533</td>\n",
       "      <td>PRJEB66480</td>\n",
       "      <td>E-MTAB-13382</td>\n",
       "    </tr>\n",
       "    <tr>\n",
       "      <th>...</th>\n",
       "      <td>...</td>\n",
       "      <td>...</td>\n",
       "      <td>...</td>\n",
       "    </tr>\n",
       "    <tr>\n",
       "      <th>1660</th>\n",
       "      <td>SRP557106</td>\n",
       "      <td>PRJNA1210001</td>\n",
       "      <td>NaN</td>\n",
       "    </tr>\n",
       "    <tr>\n",
       "      <th>1661</th>\n",
       "      <td>SRP557851</td>\n",
       "      <td>PRJNA1210535</td>\n",
       "      <td>GSE286911</td>\n",
       "    </tr>\n",
       "    <tr>\n",
       "      <th>1662</th>\n",
       "      <td>SRP559437</td>\n",
       "      <td>PRJNA1214776</td>\n",
       "      <td>GSE287827</td>\n",
       "    </tr>\n",
       "    <tr>\n",
       "      <th>1663</th>\n",
       "      <td>SRP270870</td>\n",
       "      <td>PRJNA644744</td>\n",
       "      <td>NaN</td>\n",
       "    </tr>\n",
       "    <tr>\n",
       "      <th>1664</th>\n",
       "      <td>SRP559980</td>\n",
       "      <td>PRJNA1215948</td>\n",
       "      <td>GSE288052</td>\n",
       "    </tr>\n",
       "  </tbody>\n",
       "</table>\n",
       "<p>1665 rows × 3 columns</p>\n",
       "</div>"
      ],
      "text/plain": [
       "         sra_id        prj_id        gse_id\n",
       "0     ERP149679    PRJEB64504   E-MTAB-8142\n",
       "1     ERP144781    PRJEB59723  E-MTAB-12650\n",
       "2     ERP123138    PRJEB39602           NaN\n",
       "3     ERP156277    PRJEB71477  E-MTAB-13085\n",
       "4     ERP151533    PRJEB66480  E-MTAB-13382\n",
       "...         ...           ...           ...\n",
       "1660  SRP557106  PRJNA1210001           NaN\n",
       "1661  SRP557851  PRJNA1210535     GSE286911\n",
       "1662  SRP559437  PRJNA1214776     GSE287827\n",
       "1663  SRP270870   PRJNA644744           NaN\n",
       "1664  SRP559980  PRJNA1215948     GSE288052\n",
       "\n",
       "[1665 rows x 3 columns]"
      ]
     },
     "execution_count": 5,
     "metadata": {},
     "output_type": "execute_result"
    }
   ],
   "source": [
    "sdf"
   ]
  },
  {
   "cell_type": "markdown",
   "metadata": {},
   "source": [
    "## Save to TileDB SQL Table"
   ]
  },
  {
   "cell_type": "code",
   "execution_count": 29,
   "metadata": {},
   "outputs": [],
   "source": [
    "import warnings\n",
    "warnings.filterwarnings(\"ignore\", category=UserWarning)\n",
    "import tiledb"
   ]
  },
  {
   "cell_type": "code",
   "execution_count": 9,
   "metadata": {},
   "outputs": [],
   "source": [
    "table_name = 'studies'\n",
    "# ensure unique table URI\n",
    "table_uri = os.path.join(\n",
    "    \"tiledb://Cellarity-analysis/s3://tiledb-analysis\",\n",
    "    f\"{table_name}\",\n",
    ")"
   ]
  },
  {
   "cell_type": "code",
   "execution_count": null,
   "metadata": {},
   "outputs": [],
   "source": [
    "sdf['gse_id'].fillna('', inplace=True)"
   ]
  },
  {
   "cell_type": "code",
   "execution_count": 20,
   "metadata": {},
   "outputs": [],
   "source": [
    "tiledb.from_pandas(table_uri, sdf)"
   ]
  },
  {
   "cell_type": "code",
   "execution_count": 32,
   "metadata": {},
   "outputs": [],
   "source": [
    "results_df = pd.read_csv(\"result_df.csv\")"
   ]
  },
  {
   "cell_type": "code",
   "execution_count": 33,
   "metadata": {},
   "outputs": [],
   "source": [
    "samples_table_name = 'samples'\n",
    "# ensure unique table URI\n",
    "samples_table_uri = os.path.join(\n",
    "    \"tiledb://Cellarity-analysis/s3://tiledb-analysis\",\n",
    "    f\"{samples_table_name}\",\n",
    ")"
   ]
  },
  {
   "cell_type": "code",
   "execution_count": 34,
   "metadata": {},
   "outputs": [],
   "source": [
    "results_df.fillna('', inplace=True)"
   ]
  },
  {
   "cell_type": "code",
   "execution_count": 36,
   "metadata": {},
   "outputs": [],
   "source": [
    "results_df.rename(columns={'study_id': 'sra_id'}, inplace=True)"
   ]
  },
  {
   "cell_type": "code",
   "execution_count": 38,
   "metadata": {},
   "outputs": [],
   "source": [
    "tiledb.from_pandas(samples_table_uri, results_df)"
   ]
  },
  {
   "cell_type": "code",
   "execution_count": 40,
   "metadata": {},
   "outputs": [],
   "source": [
    "samples = tiledb.open(samples_table_uri, \"r\")\n",
    "samples_df = samples.df[:]"
   ]
  },
  {
   "cell_type": "code",
   "execution_count": 39,
   "metadata": {},
   "outputs": [],
   "source": [
    "studies = tiledb.open(table_uri, \"r\")\n",
    "df = studies.df[:]"
   ]
  },
  {
   "cell_type": "code",
   "execution_count": 47,
   "metadata": {},
   "outputs": [
    {
     "data": {
      "text/plain": [
       "gse_id\n",
       "    125\n",
       "Name: count, dtype: int64"
      ]
     },
     "execution_count": 47,
     "metadata": {},
     "output_type": "execute_result"
    }
   ],
   "source": [
    "sdf['gse_id'].value_counts().head(1) # see number of NULL (i.e. '')"
   ]
  },
  {
   "cell_type": "code",
   "execution_count": 42,
   "metadata": {},
   "outputs": [
    {
     "data": {
      "text/html": [
       "<div>\n",
       "<style scoped>\n",
       "    .dataframe tbody tr th:only-of-type {\n",
       "        vertical-align: middle;\n",
       "    }\n",
       "\n",
       "    .dataframe tbody tr th {\n",
       "        vertical-align: top;\n",
       "    }\n",
       "\n",
       "    .dataframe thead th {\n",
       "        text-align: right;\n",
       "    }\n",
       "</style>\n",
       "<table border=\"1\" class=\"dataframe\">\n",
       "  <thead>\n",
       "    <tr style=\"text-align: right;\">\n",
       "      <th></th>\n",
       "      <th>sra_id</th>\n",
       "      <th>prj_id</th>\n",
       "      <th>gse_id</th>\n",
       "    </tr>\n",
       "  </thead>\n",
       "  <tbody>\n",
       "    <tr>\n",
       "      <th>0</th>\n",
       "      <td>ERP149679</td>\n",
       "      <td>PRJEB64504</td>\n",
       "      <td>E-MTAB-8142</td>\n",
       "    </tr>\n",
       "    <tr>\n",
       "      <th>1</th>\n",
       "      <td>ERP144781</td>\n",
       "      <td>PRJEB59723</td>\n",
       "      <td>E-MTAB-12650</td>\n",
       "    </tr>\n",
       "    <tr>\n",
       "      <th>2</th>\n",
       "      <td>ERP123138</td>\n",
       "      <td>PRJEB39602</td>\n",
       "      <td></td>\n",
       "    </tr>\n",
       "    <tr>\n",
       "      <th>3</th>\n",
       "      <td>ERP156277</td>\n",
       "      <td>PRJEB71477</td>\n",
       "      <td>E-MTAB-13085</td>\n",
       "    </tr>\n",
       "    <tr>\n",
       "      <th>4</th>\n",
       "      <td>ERP151533</td>\n",
       "      <td>PRJEB66480</td>\n",
       "      <td>E-MTAB-13382</td>\n",
       "    </tr>\n",
       "    <tr>\n",
       "      <th>...</th>\n",
       "      <td>...</td>\n",
       "      <td>...</td>\n",
       "      <td>...</td>\n",
       "    </tr>\n",
       "    <tr>\n",
       "      <th>1660</th>\n",
       "      <td>SRP557106</td>\n",
       "      <td>PRJNA1210001</td>\n",
       "      <td></td>\n",
       "    </tr>\n",
       "    <tr>\n",
       "      <th>1661</th>\n",
       "      <td>SRP557851</td>\n",
       "      <td>PRJNA1210535</td>\n",
       "      <td>GSE286911</td>\n",
       "    </tr>\n",
       "    <tr>\n",
       "      <th>1662</th>\n",
       "      <td>SRP559437</td>\n",
       "      <td>PRJNA1214776</td>\n",
       "      <td>GSE287827</td>\n",
       "    </tr>\n",
       "    <tr>\n",
       "      <th>1663</th>\n",
       "      <td>SRP270870</td>\n",
       "      <td>PRJNA644744</td>\n",
       "      <td></td>\n",
       "    </tr>\n",
       "    <tr>\n",
       "      <th>1664</th>\n",
       "      <td>SRP559980</td>\n",
       "      <td>PRJNA1215948</td>\n",
       "      <td>GSE288052</td>\n",
       "    </tr>\n",
       "  </tbody>\n",
       "</table>\n",
       "<p>1665 rows × 3 columns</p>\n",
       "</div>"
      ],
      "text/plain": [
       "         sra_id        prj_id        gse_id\n",
       "0     ERP149679    PRJEB64504   E-MTAB-8142\n",
       "1     ERP144781    PRJEB59723  E-MTAB-12650\n",
       "2     ERP123138    PRJEB39602              \n",
       "3     ERP156277    PRJEB71477  E-MTAB-13085\n",
       "4     ERP151533    PRJEB66480  E-MTAB-13382\n",
       "...         ...           ...           ...\n",
       "1660  SRP557106  PRJNA1210001              \n",
       "1661  SRP557851  PRJNA1210535     GSE286911\n",
       "1662  SRP559437  PRJNA1214776     GSE287827\n",
       "1663  SRP270870   PRJNA644744              \n",
       "1664  SRP559980  PRJNA1215948     GSE288052\n",
       "\n",
       "[1665 rows x 3 columns]"
      ]
     },
     "execution_count": 42,
     "metadata": {},
     "output_type": "execute_result"
    }
   ],
   "source": [
    "sdf"
   ]
  },
  {
   "cell_type": "markdown",
   "metadata": {},
   "source": [
    "# Load Studies and Samples Tables from TileDB"
   ]
  },
  {
   "cell_type": "code",
   "execution_count": 1,
   "metadata": {},
   "outputs": [],
   "source": [
    "import warnings\n",
    "warnings.filterwarnings(\"ignore\", category=UserWarning)\n",
    "import tiledb\n",
    "import os\n",
    "\n",
    "\n",
    "studies_table_name = 'studies'\n",
    "studies_table_uri = os.path.join(\n",
    "    \"tiledb://Cellarity-analysis/s3://tiledb-analysis\",\n",
    "    f\"{studies_table_name}\",\n",
    ")\n",
    "\n",
    "samples_table_name = 'samples'\n",
    "samples_table_uri = os.path.join(\n",
    "    \"tiledb://Cellarity-analysis/s3://tiledb-analysis\",\n",
    "    f\"{samples_table_name}\",\n",
    ")\n",
    "\n",
    "studies = tiledb.open(studies_table_uri, \"r\")\n",
    "studies_df = studies.df[:]\n",
    "\n",
    "samples = tiledb.open(samples_table_uri, \"r\")\n",
    "samples_df = samples.df[:]"
   ]
  },
  {
   "cell_type": "code",
   "execution_count": 2,
   "metadata": {},
   "outputs": [
    {
     "data": {
      "text/html": [
       "<div>\n",
       "<style scoped>\n",
       "    .dataframe tbody tr th:only-of-type {\n",
       "        vertical-align: middle;\n",
       "    }\n",
       "\n",
       "    .dataframe tbody tr th {\n",
       "        vertical-align: top;\n",
       "    }\n",
       "\n",
       "    .dataframe thead th {\n",
       "        text-align: right;\n",
       "    }\n",
       "</style>\n",
       "<table border=\"1\" class=\"dataframe\">\n",
       "  <thead>\n",
       "    <tr style=\"text-align: right;\">\n",
       "      <th></th>\n",
       "      <th>sra_id</th>\n",
       "      <th>prj_id</th>\n",
       "      <th>gse_id</th>\n",
       "    </tr>\n",
       "  </thead>\n",
       "  <tbody>\n",
       "    <tr>\n",
       "      <th>0</th>\n",
       "      <td>ERP149679</td>\n",
       "      <td>PRJEB64504</td>\n",
       "      <td>E-MTAB-8142</td>\n",
       "    </tr>\n",
       "  </tbody>\n",
       "</table>\n",
       "</div>"
      ],
      "text/plain": [
       "      sra_id      prj_id       gse_id\n",
       "0  ERP149679  PRJEB64504  E-MTAB-8142"
      ]
     },
     "execution_count": 2,
     "metadata": {},
     "output_type": "execute_result"
    }
   ],
   "source": [
    "studies_df.head(1)"
   ]
  },
  {
   "cell_type": "code",
   "execution_count": null,
   "metadata": {},
   "outputs": [
    {
     "data": {
      "text/html": [
       "<div>\n",
       "<style scoped>\n",
       "    .dataframe tbody tr th:only-of-type {\n",
       "        vertical-align: middle;\n",
       "    }\n",
       "\n",
       "    .dataframe tbody tr th {\n",
       "        vertical-align: top;\n",
       "    }\n",
       "\n",
       "    .dataframe thead th {\n",
       "        text-align: right;\n",
       "    }\n",
       "</style>\n",
       "<table border=\"1\" class=\"dataframe\">\n",
       "  <thead>\n",
       "    <tr style=\"text-align: right;\">\n",
       "      <th></th>\n",
       "      <th>entrez_id</th>\n",
       "      <th>srx_accession</th>\n",
       "      <th>file_path</th>\n",
       "      <th>obs_count</th>\n",
       "      <th>lib_prep</th>\n",
       "      <th>tech_10x</th>\n",
       "      <th>cell_prep</th>\n",
       "      <th>organism</th>\n",
       "      <th>tissue</th>\n",
       "      <th>disease</th>\n",
       "      <th>perturbation</th>\n",
       "      <th>cell_line</th>\n",
       "      <th>czi_collection_id</th>\n",
       "      <th>czi_collection_name</th>\n",
       "      <th>sra_id</th>\n",
       "      <th>gsm_id</th>\n",
       "    </tr>\n",
       "  </thead>\n",
       "  <tbody>\n",
       "    <tr>\n",
       "      <th>0</th>\n",
       "      <td>29110018</td>\n",
       "      <td>ERX11148735</td>\n",
       "      <td>gs://arc-ctc-scbasecamp/2025-02-25/h5ad/GeneFu...</td>\n",
       "      <td>747</td>\n",
       "      <td>10x_Genomics</td>\n",
       "      <td>3_prime_gex</td>\n",
       "      <td>single_cell</td>\n",
       "      <td>Homo sapiens</td>\n",
       "      <td>skin of body</td>\n",
       "      <td>normal</td>\n",
       "      <td>surplus skin from breast reconstruction surgery</td>\n",
       "      <td>not applicable</td>\n",
       "      <td>73f82ac8-15cc-4fcd-87f8-5683723fce7f</td>\n",
       "      <td>Developmental cell programs are co-opted in in...</td>\n",
       "      <td>ERP149679</td>\n",
       "      <td></td>\n",
       "    </tr>\n",
       "  </tbody>\n",
       "</table>\n",
       "</div>"
      ],
      "text/plain": [
       "   entrez_id srx_accession                                          file_path  \\\n",
       "0   29110018   ERX11148735  gs://arc-ctc-scbasecamp/2025-02-25/h5ad/GeneFu...   \n",
       "\n",
       "   obs_count      lib_prep     tech_10x    cell_prep      organism  \\\n",
       "0        747  10x_Genomics  3_prime_gex  single_cell  Homo sapiens   \n",
       "\n",
       "         tissue disease                                     perturbation  \\\n",
       "0  skin of body  normal  surplus skin from breast reconstruction surgery   \n",
       "\n",
       "        cell_line                     czi_collection_id  \\\n",
       "0  not applicable  73f82ac8-15cc-4fcd-87f8-5683723fce7f   \n",
       "\n",
       "                                 czi_collection_name     sra_id gsm_id  \n",
       "0  Developmental cell programs are co-opted in in...  ERP149679         "
      ]
     },
     "execution_count": 4,
     "metadata": {},
     "output_type": "execute_result"
    }
   ],
   "source": [
    "samples_df.head(1)"
   ]
  },
  {
   "cell_type": "code",
   "execution_count": 20,
   "metadata": {},
   "outputs": [
    {
     "data": {
      "text/plain": [
       "array(['single_cell', 'single_nucleus', 'unsure', 'not_applicable'],\n",
       "      dtype=object)"
      ]
     },
     "execution_count": 20,
     "metadata": {},
     "output_type": "execute_result"
    }
   ],
   "source": [
    "samples_df['cell_prep'].unique()"
   ]
  },
  {
   "cell_type": "code",
   "execution_count": 5,
   "metadata": {},
   "outputs": [
    {
     "name": "stdout",
     "output_type": "stream",
     "text": [
      "2025-03-18 15:26:55,087 - cynapse.core.core - INFO - Exporting tiledb://Cellarity-dev/6bb8ad78-4598-4d9d-a0d5-3571a074f3e5 as AnnData object.\n",
      "2025-03-18 15:26:57,870 - cynapse.core.core - INFO - Resolved URI: tiledb://Cellarity-dev/s3://tiledb-dev/groups/ppj42_srp400429_scbasecamp\n",
      "2025-03-18 15:26:58,401 - cynapse.core.tiledb_utils - WARNING - `processing_stage` metadata key is missing at tiledb://Cellarity-dev/s3://tiledb-dev/groups/ppj42_srp400429_scbasecamp. Looks like SOMA Experiment was created outside Cynapse.\n",
      "2025-03-18 15:26:58,402 - cynapse.core.core - WARNING - No measurements specified. Loading names and extracting all...\n",
      "2025-03-18 15:27:11,726 - cynapse.core.core - INFO - Loaded RNA\n"
     ]
    },
    {
     "data": {
      "text/plain": [
       "AnnData object with n_obs × n_vars = 4302 × 36601\n",
       "    obs: 'gene_count', 'umi_count', 'srx_accession', 'entrez_id', 'file_path', 'obs_count', 'lib_prep', 'tech_10x', 'cell_prep', 'organism', 'tissue', 'disease', 'perturbation', 'cell_line', 'czi_collection_id', 'czi_collection_name'\n",
       "    var: 'feature_type', '_feature_types', 'gene_id_ensembl', 'gene_symbol_original', '_gene_symbols', 'gene_symbol_is_curated', 'gene_symbol_resolution', 'gene_symbol_source', 'gene_symbol_source_date'"
      ]
     },
     "execution_count": 5,
     "metadata": {},
     "output_type": "execute_result"
    }
   ],
   "source": [
    "import cynapse\n",
    "\n",
    "client = cynapse.Client('dev')\n",
    "adata = client.to_adata('tiledb://Cellarity-dev/6bb8ad78-4598-4d9d-a0d5-3571a074f3e5', x_layer_name='raw', cache=False)\n",
    "adata"
   ]
  },
  {
   "cell_type": "code",
   "execution_count": 12,
   "metadata": {},
   "outputs": [
    {
     "data": {
      "text/plain": [
       "gene_symbol_is_curated\n",
       "True     34621\n",
       "False     1980\n",
       "Name: count, dtype: int64"
      ]
     },
     "execution_count": 12,
     "metadata": {},
     "output_type": "execute_result"
    }
   ],
   "source": [
    "adata.var['gene_symbol_is_curated'].value_counts()"
   ]
  },
  {
   "cell_type": "code",
   "execution_count": 16,
   "metadata": {},
   "outputs": [
    {
     "data": {
      "text/plain": [
       "array(['other'], dtype=object)"
      ]
     },
     "execution_count": 16,
     "metadata": {},
     "output_type": "execute_result"
    }
   ],
   "source": [
    "adata.obs['tissue'].unique()"
   ]
  },
  {
   "cell_type": "code",
   "execution_count": 24,
   "metadata": {},
   "outputs": [
    {
     "data": {
      "text/plain": [
       "4302"
      ]
     },
     "execution_count": 24,
     "metadata": {},
     "output_type": "execute_result"
    }
   ],
   "source": [
    "adata.obs.index.nunique()"
   ]
  },
  {
   "cell_type": "code",
   "execution_count": 25,
   "metadata": {},
   "outputs": [
    {
     "data": {
      "text/plain": [
       "(4302, 16)"
      ]
     },
     "execution_count": 25,
     "metadata": {},
     "output_type": "execute_result"
    }
   ],
   "source": [
    "adata.obs.shape"
   ]
  },
  {
   "cell_type": "code",
   "execution_count": 18,
   "metadata": {},
   "outputs": [
    {
     "data": {
      "text/plain": [
       "SRX17761117-AAAGGATCACGCACCA    single_cell\n",
       "SRX17761117-AAAGGATCAGGCATGA    single_cell\n",
       "SRX17761117-AAAGGATGTCCTGTCT    single_cell\n",
       "SRX17761117-AAAGTCCAGATCGGTG    single_cell\n",
       "SRX17761117-AAAGTGACATAGAGGC    single_cell\n",
       "                                   ...     \n",
       "SRX17761120-TTTGGAGAGCACTCGC    single_cell\n",
       "SRX17761120-TTTGGAGTCTCATTGT    single_cell\n",
       "SRX17761120-TTTGGTTTCCCGTTGT    single_cell\n",
       "SRX17761120-TTTGTTGAGCCTCGTG    single_cell\n",
       "SRX17761120-TTTGTTGTCGTGCGAC    single_cell\n",
       "Name: cell_prep, Length: 4302, dtype: object"
      ]
     },
     "execution_count": 18,
     "metadata": {},
     "output_type": "execute_result"
    }
   ],
   "source": [
    "adata.obs['cell_prep']"
   ]
  },
  {
   "cell_type": "code",
   "execution_count": null,
   "metadata": {},
   "outputs": [],
   "source": [
    "adata.obs.drop(columns=['file_path', 'czi_collection_id', 'czi_collection_name'], inplace=True)"
   ]
  },
  {
   "cell_type": "code",
   "execution_count": null,
   "metadata": {},
   "outputs": [],
   "source": [
    "'single_nucleus'"
   ]
  },
  {
   "cell_type": "code",
   "execution_count": null,
   "metadata": {},
   "outputs": [],
   "source": [
    "adata.obs['resolution'] = adata.obs['cell_prep'].map({'single_cell': 'sc', 'single_nucleus': 'sn'})  # other possible values are 'unsure', 'not_applicable' which will be mapped to NaN\n",
    "adata.obs.rename(columns={'tissue': '_tissue', 'disease': '_disease'}, inplace=True)  # we ultimately want to make 'tissue' and 'disease' compliant with cyntax"
   ]
  },
  {
   "cell_type": "code",
   "execution_count": 10,
   "metadata": {},
   "outputs": [
    {
     "data": {
      "text/plain": [
       "gene_count                0\n",
       "umi_count                 0\n",
       "srx_accession             0\n",
       "entrez_id                 0\n",
       "file_path                 0\n",
       "obs_count                 0\n",
       "lib_prep                  0\n",
       "tech_10x                  0\n",
       "cell_prep                 0\n",
       "organism                  0\n",
       "tissue                    0\n",
       "disease                   0\n",
       "perturbation              0\n",
       "cell_line                 0\n",
       "czi_collection_id      4302\n",
       "czi_collection_name    4302\n",
       "dtype: int64"
      ]
     },
     "execution_count": 10,
     "metadata": {},
     "output_type": "execute_result"
    }
   ],
   "source": [
    "(adata.obs == '').sum()"
   ]
  },
  {
   "cell_type": "code",
   "execution_count": 6,
   "metadata": {},
   "outputs": [
    {
     "data": {
      "text/plain": [
       "AnnData object with n_obs × n_vars = 4302 × 36601\n",
       "    obs: 'gene_count', 'umi_count', 'srx_accession', 'entrez_id', 'file_path', 'obs_count', 'lib_prep', 'tech_10x', 'cell_prep', 'organism', 'tissue', 'disease', 'perturbation', 'cell_line', 'czi_collection_id', 'czi_collection_name'\n",
       "    var: 'feature_type', '_feature_types', 'gene_id_ensembl', 'gene_symbol_original', '_gene_symbols', 'gene_symbol_is_curated', 'gene_symbol_resolution', 'gene_symbol_source', 'gene_symbol_source_date'"
      ]
     },
     "execution_count": 6,
     "metadata": {},
     "output_type": "execute_result"
    }
   ],
   "source": [
    "adata"
   ]
  },
  {
   "cell_type": "code",
   "execution_count": 21,
   "metadata": {},
   "outputs": [
    {
     "data": {
      "text/html": [
       "<div>\n",
       "<style scoped>\n",
       "    .dataframe tbody tr th:only-of-type {\n",
       "        vertical-align: middle;\n",
       "    }\n",
       "\n",
       "    .dataframe tbody tr th {\n",
       "        vertical-align: top;\n",
       "    }\n",
       "\n",
       "    .dataframe thead th {\n",
       "        text-align: right;\n",
       "    }\n",
       "</style>\n",
       "<table border=\"1\" class=\"dataframe\">\n",
       "  <thead>\n",
       "    <tr style=\"text-align: right;\">\n",
       "      <th></th>\n",
       "      <th>feature_type</th>\n",
       "      <th>_feature_types</th>\n",
       "      <th>gene_id_ensembl</th>\n",
       "      <th>gene_symbol_original</th>\n",
       "      <th>_gene_symbols</th>\n",
       "      <th>gene_symbol_is_curated</th>\n",
       "      <th>gene_symbol_resolution</th>\n",
       "      <th>gene_symbol_source</th>\n",
       "      <th>gene_symbol_source_date</th>\n",
       "    </tr>\n",
       "    <tr>\n",
       "      <th>gene_symbol</th>\n",
       "      <th></th>\n",
       "      <th></th>\n",
       "      <th></th>\n",
       "      <th></th>\n",
       "      <th></th>\n",
       "      <th></th>\n",
       "      <th></th>\n",
       "      <th></th>\n",
       "      <th></th>\n",
       "    </tr>\n",
       "  </thead>\n",
       "  <tbody>\n",
       "    <tr>\n",
       "      <th>MIR1302-2HG</th>\n",
       "      <td>RNA</td>\n",
       "      <td>Gene Expression</td>\n",
       "      <td>ENSG00000243485</td>\n",
       "      <td>ENSG00000243485</td>\n",
       "      <td>MIR1302-2HG</td>\n",
       "      <td>True</td>\n",
       "      <td>reference gene_id</td>\n",
       "      <td>hg38-gencode29-allgenes-cellranger</td>\n",
       "      <td>2022-05-13</td>\n",
       "    </tr>\n",
       "    <tr>\n",
       "      <th>FAM138A</th>\n",
       "      <td>RNA</td>\n",
       "      <td>Gene Expression</td>\n",
       "      <td>ENSG00000237613</td>\n",
       "      <td>ENSG00000237613</td>\n",
       "      <td>FAM138A</td>\n",
       "      <td>True</td>\n",
       "      <td>reference gene_id</td>\n",
       "      <td>hg38-gencode29-allgenes-cellranger</td>\n",
       "      <td>2022-05-13</td>\n",
       "    </tr>\n",
       "    <tr>\n",
       "      <th>OR4F5</th>\n",
       "      <td>RNA</td>\n",
       "      <td>Gene Expression</td>\n",
       "      <td>ENSG00000186092</td>\n",
       "      <td>ENSG00000186092</td>\n",
       "      <td>OR4F5</td>\n",
       "      <td>True</td>\n",
       "      <td>reference gene_id</td>\n",
       "      <td>hg38-gencode29-allgenes-cellranger</td>\n",
       "      <td>2022-05-13</td>\n",
       "    </tr>\n",
       "    <tr>\n",
       "      <th>AL627309.1</th>\n",
       "      <td>RNA</td>\n",
       "      <td>Gene Expression</td>\n",
       "      <td>ENSG00000238009</td>\n",
       "      <td>ENSG00000238009</td>\n",
       "      <td>AL627309.1</td>\n",
       "      <td>True</td>\n",
       "      <td>reference gene_id</td>\n",
       "      <td>hg38-gencode29-allgenes-cellranger</td>\n",
       "      <td>2022-05-13</td>\n",
       "    </tr>\n",
       "    <tr>\n",
       "      <th>AL627309.3</th>\n",
       "      <td>RNA</td>\n",
       "      <td>Gene Expression</td>\n",
       "      <td>ENSG00000239945</td>\n",
       "      <td>ENSG00000239945</td>\n",
       "      <td>AL627309.3</td>\n",
       "      <td>True</td>\n",
       "      <td>reference gene_id</td>\n",
       "      <td>hg38-gencode29-allgenes-cellranger</td>\n",
       "      <td>2022-05-13</td>\n",
       "    </tr>\n",
       "    <tr>\n",
       "      <th>...</th>\n",
       "      <td>...</td>\n",
       "      <td>...</td>\n",
       "      <td>...</td>\n",
       "      <td>...</td>\n",
       "      <td>...</td>\n",
       "      <td>...</td>\n",
       "      <td>...</td>\n",
       "      <td>...</td>\n",
       "      <td>...</td>\n",
       "    </tr>\n",
       "    <tr>\n",
       "      <th>ENSG00000277836</th>\n",
       "      <td>RNA</td>\n",
       "      <td>Gene Expression</td>\n",
       "      <td>None</td>\n",
       "      <td>ENSG00000277836</td>\n",
       "      <td>AC141272.1</td>\n",
       "      <td>False</td>\n",
       "      <td>None</td>\n",
       "      <td>None</td>\n",
       "      <td>None</td>\n",
       "    </tr>\n",
       "    <tr>\n",
       "      <th>ENSG00000278633</th>\n",
       "      <td>RNA</td>\n",
       "      <td>Gene Expression</td>\n",
       "      <td>None</td>\n",
       "      <td>ENSG00000278633</td>\n",
       "      <td>AC023491.2</td>\n",
       "      <td>False</td>\n",
       "      <td>None</td>\n",
       "      <td>None</td>\n",
       "      <td>None</td>\n",
       "    </tr>\n",
       "    <tr>\n",
       "      <th>ENSG00000276017</th>\n",
       "      <td>RNA</td>\n",
       "      <td>Gene Expression</td>\n",
       "      <td>None</td>\n",
       "      <td>ENSG00000276017</td>\n",
       "      <td>AC007325.1</td>\n",
       "      <td>False</td>\n",
       "      <td>None</td>\n",
       "      <td>None</td>\n",
       "      <td>None</td>\n",
       "    </tr>\n",
       "    <tr>\n",
       "      <th>ENSG00000278817</th>\n",
       "      <td>RNA</td>\n",
       "      <td>Gene Expression</td>\n",
       "      <td>None</td>\n",
       "      <td>ENSG00000278817</td>\n",
       "      <td>AC007325.4</td>\n",
       "      <td>False</td>\n",
       "      <td>None</td>\n",
       "      <td>None</td>\n",
       "      <td>None</td>\n",
       "    </tr>\n",
       "    <tr>\n",
       "      <th>ENSG00000277196</th>\n",
       "      <td>RNA</td>\n",
       "      <td>Gene Expression</td>\n",
       "      <td>None</td>\n",
       "      <td>ENSG00000277196</td>\n",
       "      <td>AC007325.2</td>\n",
       "      <td>False</td>\n",
       "      <td>None</td>\n",
       "      <td>None</td>\n",
       "      <td>None</td>\n",
       "    </tr>\n",
       "  </tbody>\n",
       "</table>\n",
       "<p>36601 rows × 9 columns</p>\n",
       "</div>"
      ],
      "text/plain": [
       "                feature_type   _feature_types  gene_id_ensembl  \\\n",
       "gene_symbol                                                      \n",
       "MIR1302-2HG              RNA  Gene Expression  ENSG00000243485   \n",
       "FAM138A                  RNA  Gene Expression  ENSG00000237613   \n",
       "OR4F5                    RNA  Gene Expression  ENSG00000186092   \n",
       "AL627309.1               RNA  Gene Expression  ENSG00000238009   \n",
       "AL627309.3               RNA  Gene Expression  ENSG00000239945   \n",
       "...                      ...              ...              ...   \n",
       "ENSG00000277836          RNA  Gene Expression             None   \n",
       "ENSG00000278633          RNA  Gene Expression             None   \n",
       "ENSG00000276017          RNA  Gene Expression             None   \n",
       "ENSG00000278817          RNA  Gene Expression             None   \n",
       "ENSG00000277196          RNA  Gene Expression             None   \n",
       "\n",
       "                gene_symbol_original _gene_symbols  gene_symbol_is_curated  \\\n",
       "gene_symbol                                                                  \n",
       "MIR1302-2HG          ENSG00000243485   MIR1302-2HG                    True   \n",
       "FAM138A              ENSG00000237613       FAM138A                    True   \n",
       "OR4F5                ENSG00000186092         OR4F5                    True   \n",
       "AL627309.1           ENSG00000238009    AL627309.1                    True   \n",
       "AL627309.3           ENSG00000239945    AL627309.3                    True   \n",
       "...                              ...           ...                     ...   \n",
       "ENSG00000277836      ENSG00000277836    AC141272.1                   False   \n",
       "ENSG00000278633      ENSG00000278633    AC023491.2                   False   \n",
       "ENSG00000276017      ENSG00000276017    AC007325.1                   False   \n",
       "ENSG00000278817      ENSG00000278817    AC007325.4                   False   \n",
       "ENSG00000277196      ENSG00000277196    AC007325.2                   False   \n",
       "\n",
       "                gene_symbol_resolution                  gene_symbol_source  \\\n",
       "gene_symbol                                                                  \n",
       "MIR1302-2HG          reference gene_id  hg38-gencode29-allgenes-cellranger   \n",
       "FAM138A              reference gene_id  hg38-gencode29-allgenes-cellranger   \n",
       "OR4F5                reference gene_id  hg38-gencode29-allgenes-cellranger   \n",
       "AL627309.1           reference gene_id  hg38-gencode29-allgenes-cellranger   \n",
       "AL627309.3           reference gene_id  hg38-gencode29-allgenes-cellranger   \n",
       "...                                ...                                 ...   \n",
       "ENSG00000277836                   None                                None   \n",
       "ENSG00000278633                   None                                None   \n",
       "ENSG00000276017                   None                                None   \n",
       "ENSG00000278817                   None                                None   \n",
       "ENSG00000277196                   None                                None   \n",
       "\n",
       "                gene_symbol_source_date  \n",
       "gene_symbol                              \n",
       "MIR1302-2HG                  2022-05-13  \n",
       "FAM138A                      2022-05-13  \n",
       "OR4F5                        2022-05-13  \n",
       "AL627309.1                   2022-05-13  \n",
       "AL627309.3                   2022-05-13  \n",
       "...                                 ...  \n",
       "ENSG00000277836                    None  \n",
       "ENSG00000278633                    None  \n",
       "ENSG00000276017                    None  \n",
       "ENSG00000278817                    None  \n",
       "ENSG00000277196                    None  \n",
       "\n",
       "[36601 rows x 9 columns]"
      ]
     },
     "execution_count": 21,
     "metadata": {},
     "output_type": "execute_result"
    }
   ],
   "source": [
    "adata.var"
   ]
  },
  {
   "cell_type": "markdown",
   "metadata": {},
   "source": [
    "# Get all Publications using SRAgent"
   ]
  },
  {
   "cell_type": "code",
   "execution_count": 5,
   "metadata": {},
   "outputs": [],
   "source": [
    "df = studies_df.head(10).copy()"
   ]
  },
  {
   "cell_type": "code",
   "execution_count": 21,
   "metadata": {},
   "outputs": [],
   "source": [
    "next_10 = studies_df.iloc[10:20].copy()"
   ]
  },
  {
   "cell_type": "code",
   "execution_count": 22,
   "metadata": {},
   "outputs": [
    {
     "data": {
      "text/html": [
       "<div>\n",
       "<style scoped>\n",
       "    .dataframe tbody tr th:only-of-type {\n",
       "        vertical-align: middle;\n",
       "    }\n",
       "\n",
       "    .dataframe tbody tr th {\n",
       "        vertical-align: top;\n",
       "    }\n",
       "\n",
       "    .dataframe thead th {\n",
       "        text-align: right;\n",
       "    }\n",
       "</style>\n",
       "<table border=\"1\" class=\"dataframe\">\n",
       "  <thead>\n",
       "    <tr style=\"text-align: right;\">\n",
       "      <th></th>\n",
       "      <th>sra_id</th>\n",
       "      <th>prj_id</th>\n",
       "      <th>gse_id</th>\n",
       "    </tr>\n",
       "  </thead>\n",
       "  <tbody>\n",
       "    <tr>\n",
       "      <th>10</th>\n",
       "      <td>SRP364677</td>\n",
       "      <td>PRJNA816172</td>\n",
       "      <td>GSE198623</td>\n",
       "    </tr>\n",
       "    <tr>\n",
       "      <th>11</th>\n",
       "      <td>ERP136992</td>\n",
       "      <td>PRJEB52292</td>\n",
       "      <td></td>\n",
       "    </tr>\n",
       "    <tr>\n",
       "      <th>12</th>\n",
       "      <td>SRP329496</td>\n",
       "      <td>PRJNA749041</td>\n",
       "      <td>GSE180661</td>\n",
       "    </tr>\n",
       "    <tr>\n",
       "      <th>13</th>\n",
       "      <td>SRP273096</td>\n",
       "      <td>PRJNA647809</td>\n",
       "      <td>GSE154795</td>\n",
       "    </tr>\n",
       "    <tr>\n",
       "      <th>14</th>\n",
       "      <td>SRP510712</td>\n",
       "      <td>PRJNA1117936</td>\n",
       "      <td>GSE268630</td>\n",
       "    </tr>\n",
       "    <tr>\n",
       "      <th>15</th>\n",
       "      <td>SRP308561</td>\n",
       "      <td>PRJNA705464</td>\n",
       "      <td></td>\n",
       "    </tr>\n",
       "    <tr>\n",
       "      <th>16</th>\n",
       "      <td>SRP306446</td>\n",
       "      <td>PRJNA701930</td>\n",
       "      <td>GSE166766</td>\n",
       "    </tr>\n",
       "    <tr>\n",
       "      <th>17</th>\n",
       "      <td>SRP309720</td>\n",
       "      <td>PRJNA707445</td>\n",
       "      <td>GSE168453</td>\n",
       "    </tr>\n",
       "    <tr>\n",
       "      <th>18</th>\n",
       "      <td>SRP310949</td>\n",
       "      <td>PRJNA714963</td>\n",
       "      <td>GSE169047</td>\n",
       "    </tr>\n",
       "    <tr>\n",
       "      <th>19</th>\n",
       "      <td>SRP288163</td>\n",
       "      <td>PRJNA670674</td>\n",
       "      <td>GSE159812</td>\n",
       "    </tr>\n",
       "  </tbody>\n",
       "</table>\n",
       "</div>"
      ],
      "text/plain": [
       "       sra_id        prj_id     gse_id\n",
       "10  SRP364677   PRJNA816172  GSE198623\n",
       "11  ERP136992    PRJEB52292           \n",
       "12  SRP329496   PRJNA749041  GSE180661\n",
       "13  SRP273096   PRJNA647809  GSE154795\n",
       "14  SRP510712  PRJNA1117936  GSE268630\n",
       "15  SRP308561   PRJNA705464           \n",
       "16  SRP306446   PRJNA701930  GSE166766\n",
       "17  SRP309720   PRJNA707445  GSE168453\n",
       "18  SRP310949   PRJNA714963  GSE169047\n",
       "19  SRP288163   PRJNA670674  GSE159812"
      ]
     },
     "execution_count": 22,
     "metadata": {},
     "output_type": "execute_result"
    }
   ],
   "source": [
    "next_10"
   ]
  },
  {
   "cell_type": "code",
   "execution_count": 23,
   "metadata": {},
   "outputs": [],
   "source": [
    "import SRAgent\n",
    "import sys\n",
    "from SRAgent.workflows.publications import run_in_notebook, process_dataframe\n",
    "import asyncio"
   ]
  },
  {
   "cell_type": "code",
   "execution_count": 24,
   "metadata": {},
   "outputs": [
    {
     "name": "stderr",
     "output_type": "stream",
     "text": [
      "INFO:SRAgent.workflows.publications:Processed batch 1/1 (10/10 studies)\n"
     ]
    },
    {
     "name": "stdout",
     "output_type": "stream",
     "text": [
      "Results saved to next_10.csv\n"
     ]
    },
    {
     "data": {
      "text/html": [
       "<div>\n",
       "<style scoped>\n",
       "    .dataframe tbody tr th:only-of-type {\n",
       "        vertical-align: middle;\n",
       "    }\n",
       "\n",
       "    .dataframe tbody tr th {\n",
       "        vertical-align: top;\n",
       "    }\n",
       "\n",
       "    .dataframe thead th {\n",
       "        text-align: right;\n",
       "    }\n",
       "</style>\n",
       "<table border=\"1\" class=\"dataframe\">\n",
       "  <thead>\n",
       "    <tr style=\"text-align: right;\">\n",
       "      <th></th>\n",
       "      <th>pmid</th>\n",
       "      <th>pmcid</th>\n",
       "      <th>preprint_doi</th>\n",
       "      <th>message</th>\n",
       "      <th>title</th>\n",
       "      <th>source</th>\n",
       "      <th>multiple_publications</th>\n",
       "      <th>all_publications</th>\n",
       "      <th>accessions</th>\n",
       "    </tr>\n",
       "  </thead>\n",
       "  <tbody>\n",
       "    <tr>\n",
       "      <th>0</th>\n",
       "      <td>36113773</td>\n",
       "      <td>PMC9526148</td>\n",
       "      <td>None</td>\n",
       "      <td>The publication associated with SRP364677, PRJ...</td>\n",
       "      <td>None</td>\n",
       "      <td>unknown</td>\n",
       "      <td>False</td>\n",
       "      <td>[]</td>\n",
       "      <td>[SRP364677, PRJNA816172, GSE198623]</td>\n",
       "    </tr>\n",
       "    <tr>\n",
       "      <th>1</th>\n",
       "      <td>None</td>\n",
       "      <td>None</td>\n",
       "      <td>None</td>\n",
       "      <td>Found a publication titled 'A spatially resolv...</td>\n",
       "      <td>None</td>\n",
       "      <td>google_search</td>\n",
       "      <td>False</td>\n",
       "      <td>[]</td>\n",
       "      <td>[ERP136992, PRJEB52292, ]</td>\n",
       "    </tr>\n",
       "    <tr>\n",
       "      <th>2</th>\n",
       "      <td>36517593</td>\n",
       "      <td>PMC9771812</td>\n",
       "      <td>None</td>\n",
       "      <td>Here are the publication details associated wi...</td>\n",
       "      <td>Ovarian cancer mutational processes drive site...</td>\n",
       "      <td>unknown</td>\n",
       "      <td>False</td>\n",
       "      <td>[]</td>\n",
       "      <td>[SRP329496, PRJNA749041, GSE180661]</td>\n",
       "    </tr>\n",
       "    <tr>\n",
       "      <th>3</th>\n",
       "      <td>34836966</td>\n",
       "      <td>PMC8626557</td>\n",
       "      <td>None</td>\n",
       "      <td>The publication associated with SRP273096, PRJ...</td>\n",
       "      <td>None</td>\n",
       "      <td>unknown</td>\n",
       "      <td>False</td>\n",
       "      <td>[]</td>\n",
       "      <td>[SRP273096, PRJNA647809, GSE154795]</td>\n",
       "    </tr>\n",
       "    <tr>\n",
       "      <th>4</th>\n",
       "      <td>None</td>\n",
       "      <td>PMC11310509</td>\n",
       "      <td>None</td>\n",
       "      <td>Found publication 'Single cell dual-omic atlas...</td>\n",
       "      <td>None</td>\n",
       "      <td>unknown</td>\n",
       "      <td>False</td>\n",
       "      <td>[]</td>\n",
       "      <td>[SRP510712, PRJNA1117936, GSE268630]</td>\n",
       "    </tr>\n",
       "    <tr>\n",
       "      <th>5</th>\n",
       "      <td>None</td>\n",
       "      <td>None</td>\n",
       "      <td>None</td>\n",
       "      <td>Found publications for SRP308561 and PRJNA7054...</td>\n",
       "      <td>None</td>\n",
       "      <td>unknown</td>\n",
       "      <td>False</td>\n",
       "      <td>[]</td>\n",
       "      <td>[SRP308561, PRJNA705464, ]</td>\n",
       "    </tr>\n",
       "    <tr>\n",
       "      <th>6</th>\n",
       "      <td>None</td>\n",
       "      <td>None</td>\n",
       "      <td>None</td>\n",
       "      <td>Found a publication titled 'Single-cell longit...</td>\n",
       "      <td>None</td>\n",
       "      <td>unknown</td>\n",
       "      <td>False</td>\n",
       "      <td>[]</td>\n",
       "      <td>[SRP306446, PRJNA701930, GSE166766]</td>\n",
       "    </tr>\n",
       "    <tr>\n",
       "      <th>7</th>\n",
       "      <td>None</td>\n",
       "      <td>PMC8601717</td>\n",
       "      <td>10.1126/scitranslmed.abh2624</td>\n",
       "      <td>Found a publication associated with SRP309720,...</td>\n",
       "      <td>None</td>\n",
       "      <td>unknown</td>\n",
       "      <td>False</td>\n",
       "      <td>[]</td>\n",
       "      <td>[SRP309720, PRJNA707445, GSE168453]</td>\n",
       "    </tr>\n",
       "    <tr>\n",
       "      <th>8</th>\n",
       "      <td>34014299</td>\n",
       "      <td>PMC8330894</td>\n",
       "      <td>None</td>\n",
       "      <td>The publication associated with the accessions...</td>\n",
       "      <td>None</td>\n",
       "      <td>unknown</td>\n",
       "      <td>False</td>\n",
       "      <td>[]</td>\n",
       "      <td>[SRP310949, PRJNA714963, GSE169047]</td>\n",
       "    </tr>\n",
       "    <tr>\n",
       "      <th>9</th>\n",
       "      <td>None</td>\n",
       "      <td>None</td>\n",
       "      <td>None</td>\n",
       "      <td>The publication 'Dysregulation of brain and ch...</td>\n",
       "      <td>None</td>\n",
       "      <td>unknown</td>\n",
       "      <td>False</td>\n",
       "      <td>[]</td>\n",
       "      <td>[SRP288163, PRJNA670674, GSE159812]</td>\n",
       "    </tr>\n",
       "  </tbody>\n",
       "</table>\n",
       "</div>"
      ],
      "text/plain": [
       "       pmid        pmcid                  preprint_doi  \\\n",
       "0  36113773   PMC9526148                          None   \n",
       "1      None         None                          None   \n",
       "2  36517593   PMC9771812                          None   \n",
       "3  34836966   PMC8626557                          None   \n",
       "4      None  PMC11310509                          None   \n",
       "5      None         None                          None   \n",
       "6      None         None                          None   \n",
       "7      None   PMC8601717  10.1126/scitranslmed.abh2624   \n",
       "8  34014299   PMC8330894                          None   \n",
       "9      None         None                          None   \n",
       "\n",
       "                                             message  \\\n",
       "0  The publication associated with SRP364677, PRJ...   \n",
       "1  Found a publication titled 'A spatially resolv...   \n",
       "2  Here are the publication details associated wi...   \n",
       "3  The publication associated with SRP273096, PRJ...   \n",
       "4  Found publication 'Single cell dual-omic atlas...   \n",
       "5  Found publications for SRP308561 and PRJNA7054...   \n",
       "6  Found a publication titled 'Single-cell longit...   \n",
       "7  Found a publication associated with SRP309720,...   \n",
       "8  The publication associated with the accessions...   \n",
       "9  The publication 'Dysregulation of brain and ch...   \n",
       "\n",
       "                                               title         source  \\\n",
       "0                                               None        unknown   \n",
       "1                                               None  google_search   \n",
       "2  Ovarian cancer mutational processes drive site...        unknown   \n",
       "3                                               None        unknown   \n",
       "4                                               None        unknown   \n",
       "5                                               None        unknown   \n",
       "6                                               None        unknown   \n",
       "7                                               None        unknown   \n",
       "8                                               None        unknown   \n",
       "9                                               None        unknown   \n",
       "\n",
       "   multiple_publications all_publications  \\\n",
       "0                  False               []   \n",
       "1                  False               []   \n",
       "2                  False               []   \n",
       "3                  False               []   \n",
       "4                  False               []   \n",
       "5                  False               []   \n",
       "6                  False               []   \n",
       "7                  False               []   \n",
       "8                  False               []   \n",
       "9                  False               []   \n",
       "\n",
       "                             accessions  \n",
       "0   [SRP364677, PRJNA816172, GSE198623]  \n",
       "1             [ERP136992, PRJEB52292, ]  \n",
       "2   [SRP329496, PRJNA749041, GSE180661]  \n",
       "3   [SRP273096, PRJNA647809, GSE154795]  \n",
       "4  [SRP510712, PRJNA1117936, GSE268630]  \n",
       "5            [SRP308561, PRJNA705464, ]  \n",
       "6   [SRP306446, PRJNA701930, GSE166766]  \n",
       "7   [SRP309720, PRJNA707445, GSE168453]  \n",
       "8   [SRP310949, PRJNA714963, GSE169047]  \n",
       "9   [SRP288163, PRJNA670674, GSE159812]  "
      ]
     },
     "execution_count": 24,
     "metadata": {},
     "output_type": "execute_result"
    }
   ],
   "source": [
    "run_in_notebook(df=next_10, output_file='next_10.csv', batch_size=10)"
   ]
  },
  {
   "cell_type": "code",
   "execution_count": 25,
   "metadata": {},
   "outputs": [],
   "source": [
    "pub_next_10 = pd.read_csv('next_10.csv')"
   ]
  },
  {
   "cell_type": "code",
   "execution_count": 27,
   "metadata": {},
   "outputs": [
    {
     "data": {
      "text/plain": [
       "[{'pmid': 36113773.0,\n",
       "  'pmcid': 'PMC9526148',\n",
       "  'preprint_doi': nan,\n",
       "  'message': \"The publication associated with SRP364677, PRJNA816172, and GSE198623 is titled 'A transcriptional cross species map of pancreatic islet cells' and is published in Molecular Metabolism. The PMID is 36113773 and the PMCID is PMC9526148.\",\n",
       "  'title': nan,\n",
       "  'source': 'unknown',\n",
       "  'multiple_publications': False,\n",
       "  'all_publications': '[]',\n",
       "  'accessions': \"['SRP364677', 'PRJNA816172', 'GSE198623']\"},\n",
       " {'pmid': nan,\n",
       "  'pmcid': nan,\n",
       "  'preprint_doi': nan,\n",
       "  'message': \"Found a publication titled 'A spatially resolved atlas of the human lung characterizes a gland' in Nature Genetics associated with ERP136992 and PRJEB52292. Please check the Nature Genetics website for more details.\",\n",
       "  'title': nan,\n",
       "  'source': 'google_search',\n",
       "  'multiple_publications': False,\n",
       "  'all_publications': '[]',\n",
       "  'accessions': \"['ERP136992', 'PRJEB52292', '']\"},\n",
       " {'pmid': 36517593.0,\n",
       "  'pmcid': 'PMC9771812',\n",
       "  'preprint_doi': nan,\n",
       "  'message': 'Here are the publication details associated with the accessions SRP329496, PRJNA749041, and GSE180661:\\n\\n- **PMID**: 36517593\\n- **PMCID**: PMC9771812\\n- **Preprint DOI**: null\\n\\nThe publication is titled \"Ovarian cancer mutational processes drive site-specific immune response differences\" and is published in Nature. The research was conducted by Vázquez-García I and colleagues at the Computational Oncology, Department of Epidemiology and Biostatistics, Memorial Sloan Kettering Cancer Center, New York, NY, USA.',\n",
       "  'title': 'Ovarian cancer mutational processes drive site-specific immune response differences',\n",
       "  'source': 'unknown',\n",
       "  'multiple_publications': False,\n",
       "  'all_publications': '[]',\n",
       "  'accessions': \"['SRP329496', 'PRJNA749041', 'GSE180661']\"},\n",
       " {'pmid': 34836966.0,\n",
       "  'pmcid': 'PMC8626557',\n",
       "  'preprint_doi': nan,\n",
       "  'message': \"The publication associated with SRP273096, PRJNA647809, and GSE154795 is titled 'Neoadjuvant PD-1 blockade induces T cell and cDC1 activation but ...' and is published in Nature Communications. The PMID is 34836966 and the PMCID is PMC8626557.\",\n",
       "  'title': nan,\n",
       "  'source': 'unknown',\n",
       "  'multiple_publications': False,\n",
       "  'all_publications': '[]',\n",
       "  'accessions': \"['SRP273096', 'PRJNA647809', 'GSE154795']\"},\n",
       " {'pmid': nan,\n",
       "  'pmcid': 'PMC11310509',\n",
       "  'preprint_doi': nan,\n",
       "  'message': \"Found publication 'Single cell dual-omic atlas of the human developing retina' in Nature Communications associated with all accessions. PMCID: PMC11310509.\",\n",
       "  'title': nan,\n",
       "  'source': 'unknown',\n",
       "  'multiple_publications': False,\n",
       "  'all_publications': '[]',\n",
       "  'accessions': \"['SRP510712', 'PRJNA1117936', 'GSE268630']\"},\n",
       " {'pmid': nan,\n",
       "  'pmcid': nan,\n",
       "  'preprint_doi': nan,\n",
       "  'message': 'Found publications for SRP308561 and PRJNA705464, but they appear to be linked to different studies. Please verify the details.',\n",
       "  'title': nan,\n",
       "  'source': 'unknown',\n",
       "  'multiple_publications': False,\n",
       "  'all_publications': '[]',\n",
       "  'accessions': \"['SRP308561', 'PRJNA705464', '']\"},\n",
       " {'pmid': nan,\n",
       "  'pmcid': nan,\n",
       "  'preprint_doi': nan,\n",
       "  'message': \"Found a publication titled 'Single-cell longitudinal analysis of SARS-CoV-2 infection in human' associated with the accessions SRP306446, PRJNA701930, and GSE166766. Check the PLOS Biology article for more details.\",\n",
       "  'title': nan,\n",
       "  'source': 'unknown',\n",
       "  'multiple_publications': False,\n",
       "  'all_publications': '[]',\n",
       "  'accessions': \"['SRP306446', 'PRJNA701930', 'GSE166766']\"},\n",
       " {'pmid': nan,\n",
       "  'pmcid': 'PMC8601717',\n",
       "  'preprint_doi': '10.1126/scitranslmed.abh2624',\n",
       "  'message': 'Found a publication associated with SRP309720, PRJNA707445, and GSE168453 in Science Translational Medicine. PMCID: PMC8601717, DOI: 10.1126/scitranslmed.abh2624.',\n",
       "  'title': nan,\n",
       "  'source': 'unknown',\n",
       "  'multiple_publications': False,\n",
       "  'all_publications': '[]',\n",
       "  'accessions': \"['SRP309720', 'PRJNA707445', 'GSE168453']\"},\n",
       " {'pmid': 34014299.0,\n",
       "  'pmcid': 'PMC8330894',\n",
       "  'preprint_doi': nan,\n",
       "  'message': \"The publication associated with the accessions SRP310949, PRJNA714963, and GSE169047 is titled 'Human photoreceptor cells from different macular subregions have distinct transcriptional profiles' published in Human Molecular Genetics. The PMID is 34014299 and the PMCID is PMC8330894.\",\n",
       "  'title': nan,\n",
       "  'source': 'unknown',\n",
       "  'multiple_publications': False,\n",
       "  'all_publications': '[]',\n",
       "  'accessions': \"['SRP310949', 'PRJNA714963', 'GSE169047']\"},\n",
       " {'pmid': nan,\n",
       "  'pmcid': nan,\n",
       "  'preprint_doi': nan,\n",
       "  'message': \"The publication 'Dysregulation of brain and choroid plexus cell types in severe COVID-19' is associated with SRP288163, PRJNA670674, and GSE159812. It is published in Nature, but no PMID or PMCID was directly found.\",\n",
       "  'title': nan,\n",
       "  'source': 'unknown',\n",
       "  'multiple_publications': False,\n",
       "  'all_publications': '[]',\n",
       "  'accessions': \"['SRP288163', 'PRJNA670674', 'GSE159812']\"}]"
      ]
     },
     "execution_count": 27,
     "metadata": {},
     "output_type": "execute_result"
    }
   ],
   "source": [
    "pub_next_10.to_dict(orient='records')"
   ]
  },
  {
   "cell_type": "code",
   "execution_count": null,
   "metadata": {},
   "outputs": [],
   "source": [
    "run_in_notebook(df=df, output_file='publications.csv', batch_size=10)"
   ]
  },
  {
   "cell_type": "code",
   "execution_count": 8,
   "metadata": {},
   "outputs": [],
   "source": [
    "import pandas as pd\n",
    "pub = pd.read_csv('publications.csv')\n"
   ]
  },
  {
   "cell_type": "code",
   "execution_count": 12,
   "metadata": {},
   "outputs": [
    {
     "data": {
      "text/html": [
       "<div>\n",
       "<style scoped>\n",
       "    .dataframe tbody tr th:only-of-type {\n",
       "        vertical-align: middle;\n",
       "    }\n",
       "\n",
       "    .dataframe tbody tr th {\n",
       "        vertical-align: top;\n",
       "    }\n",
       "\n",
       "    .dataframe thead th {\n",
       "        text-align: right;\n",
       "    }\n",
       "</style>\n",
       "<table border=\"1\" class=\"dataframe\">\n",
       "  <thead>\n",
       "    <tr style=\"text-align: right;\">\n",
       "      <th></th>\n",
       "      <th>pmid</th>\n",
       "      <th>pmcid</th>\n",
       "      <th>preprint_doi</th>\n",
       "      <th>title</th>\n",
       "      <th>message</th>\n",
       "      <th>source</th>\n",
       "      <th>multiple_publications</th>\n",
       "      <th>all_publications</th>\n",
       "      <th>accessions</th>\n",
       "    </tr>\n",
       "  </thead>\n",
       "  <tbody>\n",
       "    <tr>\n",
       "      <th>0</th>\n",
       "      <td>NaN</td>\n",
       "      <td>NaN</td>\n",
       "      <td>NaN</td>\n",
       "      <td>NaN</td>\n",
       "      <td>Error: 'NoneType' object does not support item...</td>\n",
       "      <td>error</td>\n",
       "      <td>False</td>\n",
       "      <td>[]</td>\n",
       "      <td>['ERP149679', 'PRJEB64504', 'E-MTAB-8142']</td>\n",
       "    </tr>\n",
       "    <tr>\n",
       "      <th>1</th>\n",
       "      <td>NaN</td>\n",
       "      <td>NaN</td>\n",
       "      <td>NaN</td>\n",
       "      <td>NaN</td>\n",
       "      <td>Error: 'NoneType' object does not support item...</td>\n",
       "      <td>error</td>\n",
       "      <td>False</td>\n",
       "      <td>[]</td>\n",
       "      <td>['ERP144781', 'PRJEB59723', 'E-MTAB-12650']</td>\n",
       "    </tr>\n",
       "    <tr>\n",
       "      <th>2</th>\n",
       "      <td>NaN</td>\n",
       "      <td>NaN</td>\n",
       "      <td>NaN</td>\n",
       "      <td>NaN</td>\n",
       "      <td>Found a publication titled 'Cells of the adult...</td>\n",
       "      <td>NaN</td>\n",
       "      <td>NaN</td>\n",
       "      <td>NaN</td>\n",
       "      <td>['ERP123138', 'PRJEB39602', '']</td>\n",
       "    </tr>\n",
       "    <tr>\n",
       "      <th>3</th>\n",
       "      <td>NaN</td>\n",
       "      <td>PMC10786309</td>\n",
       "      <td>NaN</td>\n",
       "      <td>NaN</td>\n",
       "      <td>Found a publication associated with E-MTAB-130...</td>\n",
       "      <td>NaN</td>\n",
       "      <td>NaN</td>\n",
       "      <td>NaN</td>\n",
       "      <td>['ERP156277', 'PRJEB71477', 'E-MTAB-13085']</td>\n",
       "    </tr>\n",
       "    <tr>\n",
       "      <th>4</th>\n",
       "      <td>NaN</td>\n",
       "      <td>NaN</td>\n",
       "      <td>NaN</td>\n",
       "      <td>NaN</td>\n",
       "      <td>Found a publication associated with E-MTAB-133...</td>\n",
       "      <td>NaN</td>\n",
       "      <td>NaN</td>\n",
       "      <td>NaN</td>\n",
       "      <td>['ERP151533', 'PRJEB66480', 'E-MTAB-13382']</td>\n",
       "    </tr>\n",
       "    <tr>\n",
       "      <th>5</th>\n",
       "      <td>38100545.0</td>\n",
       "      <td>PMC7615868</td>\n",
       "      <td>NaN</td>\n",
       "      <td>NaN</td>\n",
       "      <td>Found the publication associated with ERP16080...</td>\n",
       "      <td>NaN</td>\n",
       "      <td>NaN</td>\n",
       "      <td>NaN</td>\n",
       "      <td>['ERP160803', 'PRJEB76244', 'E-MTAB-11528']</td>\n",
       "    </tr>\n",
       "    <tr>\n",
       "      <th>6</th>\n",
       "      <td>NaN</td>\n",
       "      <td>NaN</td>\n",
       "      <td>NaN</td>\n",
       "      <td>NaN</td>\n",
       "      <td>Found a publication titled 'Human skeletal mus...</td>\n",
       "      <td>NaN</td>\n",
       "      <td>NaN</td>\n",
       "      <td>NaN</td>\n",
       "      <td>['ERP158366', 'PRJEB73595', 'E-MTAB-13874']</td>\n",
       "    </tr>\n",
       "    <tr>\n",
       "      <th>7</th>\n",
       "      <td>NaN</td>\n",
       "      <td>NaN</td>\n",
       "      <td>NaN</td>\n",
       "      <td>NaN</td>\n",
       "      <td>The publication associated with SRP402417, PRJ...</td>\n",
       "      <td>NaN</td>\n",
       "      <td>NaN</td>\n",
       "      <td>NaN</td>\n",
       "      <td>['SRP402417', 'PRJNA890219', 'GSE215403']</td>\n",
       "    </tr>\n",
       "    <tr>\n",
       "      <th>8</th>\n",
       "      <td>NaN</td>\n",
       "      <td>PMC7612735</td>\n",
       "      <td>NaN</td>\n",
       "      <td>NaN</td>\n",
       "      <td>The publication associated with ERP136281, PRJ...</td>\n",
       "      <td>NaN</td>\n",
       "      <td>NaN</td>\n",
       "      <td>NaN</td>\n",
       "      <td>['ERP136281', 'PRJEB51634', 'E-MTAB-11536']</td>\n",
       "    </tr>\n",
       "    <tr>\n",
       "      <th>9</th>\n",
       "      <td>NaN</td>\n",
       "      <td>NaN</td>\n",
       "      <td>NaN</td>\n",
       "      <td>NaN</td>\n",
       "      <td>Error: 'NoneType' object does not support item...</td>\n",
       "      <td>error</td>\n",
       "      <td>False</td>\n",
       "      <td>[]</td>\n",
       "      <td>['SRP324458', 'PRJNA738600', 'GSE178360']</td>\n",
       "    </tr>\n",
       "  </tbody>\n",
       "</table>\n",
       "</div>"
      ],
      "text/plain": [
       "         pmid        pmcid  preprint_doi  title  \\\n",
       "0         NaN          NaN           NaN    NaN   \n",
       "1         NaN          NaN           NaN    NaN   \n",
       "2         NaN          NaN           NaN    NaN   \n",
       "3         NaN  PMC10786309           NaN    NaN   \n",
       "4         NaN          NaN           NaN    NaN   \n",
       "5  38100545.0   PMC7615868           NaN    NaN   \n",
       "6         NaN          NaN           NaN    NaN   \n",
       "7         NaN          NaN           NaN    NaN   \n",
       "8         NaN   PMC7612735           NaN    NaN   \n",
       "9         NaN          NaN           NaN    NaN   \n",
       "\n",
       "                                             message source  \\\n",
       "0  Error: 'NoneType' object does not support item...  error   \n",
       "1  Error: 'NoneType' object does not support item...  error   \n",
       "2  Found a publication titled 'Cells of the adult...    NaN   \n",
       "3  Found a publication associated with E-MTAB-130...    NaN   \n",
       "4  Found a publication associated with E-MTAB-133...    NaN   \n",
       "5  Found the publication associated with ERP16080...    NaN   \n",
       "6  Found a publication titled 'Human skeletal mus...    NaN   \n",
       "7  The publication associated with SRP402417, PRJ...    NaN   \n",
       "8  The publication associated with ERP136281, PRJ...    NaN   \n",
       "9  Error: 'NoneType' object does not support item...  error   \n",
       "\n",
       "  multiple_publications all_publications  \\\n",
       "0                 False               []   \n",
       "1                 False               []   \n",
       "2                   NaN              NaN   \n",
       "3                   NaN              NaN   \n",
       "4                   NaN              NaN   \n",
       "5                   NaN              NaN   \n",
       "6                   NaN              NaN   \n",
       "7                   NaN              NaN   \n",
       "8                   NaN              NaN   \n",
       "9                 False               []   \n",
       "\n",
       "                                    accessions  \n",
       "0   ['ERP149679', 'PRJEB64504', 'E-MTAB-8142']  \n",
       "1  ['ERP144781', 'PRJEB59723', 'E-MTAB-12650']  \n",
       "2              ['ERP123138', 'PRJEB39602', '']  \n",
       "3  ['ERP156277', 'PRJEB71477', 'E-MTAB-13085']  \n",
       "4  ['ERP151533', 'PRJEB66480', 'E-MTAB-13382']  \n",
       "5  ['ERP160803', 'PRJEB76244', 'E-MTAB-11528']  \n",
       "6  ['ERP158366', 'PRJEB73595', 'E-MTAB-13874']  \n",
       "7    ['SRP402417', 'PRJNA890219', 'GSE215403']  \n",
       "8  ['ERP136281', 'PRJEB51634', 'E-MTAB-11536']  \n",
       "9    ['SRP324458', 'PRJNA738600', 'GSE178360']  "
      ]
     },
     "execution_count": 12,
     "metadata": {},
     "output_type": "execute_result"
    }
   ],
   "source": [
    "pub"
   ]
  },
  {
   "cell_type": "code",
   "execution_count": 18,
   "metadata": {},
   "outputs": [
    {
     "data": {
      "text/plain": [
       "[{'accessions': \"['ERP149679', 'PRJEB64504', 'E-MTAB-8142']\",\n",
       "  'message': \"Error: 'NoneType' object does not support item assignment\"},\n",
       " {'accessions': \"['ERP144781', 'PRJEB59723', 'E-MTAB-12650']\",\n",
       "  'message': \"Error: 'NoneType' object does not support item assignment\"},\n",
       " {'accessions': \"['ERP123138', 'PRJEB39602', '']\",\n",
       "  'message': \"Found a publication titled 'Cells of the adult human heart' in Nature associated with ERP123138 and PRJEB39602. Please check the Nature article for more details.\"},\n",
       " {'accessions': \"['ERP156277', 'PRJEB71477', 'E-MTAB-13085']\",\n",
       "  'message': 'Found a publication associated with E-MTAB-13085, likely linked to ERP156277 and PRJEB71477. The PMCID is PMC10786309.'},\n",
       " {'accessions': \"['ERP151533', 'PRJEB66480', 'E-MTAB-13382']\",\n",
       "  'message': \"Found a publication associated with E-MTAB-13382 in Cell Stem Cell. The publication is titled 'Human uterine natural killer cells regulate differentiation of ...' and is authored by Qian Li et al. No PMID or PMCID found.\"},\n",
       " {'accessions': \"['ERP160803', 'PRJEB76244', 'E-MTAB-11528']\",\n",
       "  'message': \"Found the publication associated with ERP160803, PRJEB76244, and E-MTAB-11528. The publication is titled 'Early human lung immune cell development and its role in epithelial cell fate' in Science Immunology.\"},\n",
       " {'accessions': \"['ERP158366', 'PRJEB73595', 'E-MTAB-13874']\",\n",
       "  'message': \"Found a publication titled 'Human skeletal muscle aging atlas' in Nature Aging associated with E-MTAB-13874. No PMID or PMCID available yet.\"},\n",
       " {'accessions': \"['SRP402417', 'PRJNA890219', 'GSE215403']\",\n",
       "  'message': \"The publication associated with SRP402417, PRJNA890219, and GSE215403 is titled 'Single‐cell transcriptomic analysis of gingivo‐buccal oral cancer' published in Cancer Science. No PMID or PMCID found, but the article is accessible via Wiley Online Library.\"},\n",
       " {'accessions': \"['ERP136281', 'PRJEB51634', 'E-MTAB-11536']\",\n",
       "  'message': \"The publication associated with ERP136281, PRJEB51634, and E-MTAB-11536 is titled 'Cross-tissue immune cell analysis reveals tissue-specific features in ...' and is available on PubMed Central with PMCID: PMC7612735.\"},\n",
       " {'accessions': \"['SRP324458', 'PRJNA738600', 'GSE178360']\",\n",
       "  'message': \"Error: 'NoneType' object does not support item assignment\"}]"
      ]
     },
     "execution_count": 18,
     "metadata": {},
     "output_type": "execute_result"
    }
   ],
   "source": [
    "pub[['accessions','message']].to_dict(orient='records')"
   ]
  },
  {
   "cell_type": "code",
   "execution_count": null,
   "metadata": {},
   "outputs": [],
   "source": []
  }
 ],
 "metadata": {
  "kernelspec": {
   "display_name": "sragent-env",
   "language": "python",
   "name": "python3"
  },
  "language_info": {
   "codemirror_mode": {
    "name": "ipython",
    "version": 3
   },
   "file_extension": ".py",
   "mimetype": "text/x-python",
   "name": "python",
   "nbconvert_exporter": "python",
   "pygments_lexer": "ipython3",
   "version": "3.12.9"
  }
 },
 "nbformat": 4,
 "nbformat_minor": 2
}
