{
 "cells": [
  {
   "cell_type": "markdown",
   "metadata": {},
   "source": [
    "# Summary\n",
    "\n",
    "* This is a tutorial on using Python for accessing the scBaseCamp dataset hosted by the Arc Institute.\n",
    "* The data can be streamed or downloaded locally.\n",
    "  * For small jobs (e.g., summarizing the some metadata), streaming is recommended.\n",
    "  * For large jobs (e.g., training a model), downloading is recommended.\n",
    "* See the [README](README.md#metadata) for a description of the obs metadata.\n"
   ]
  },
  {
   "cell_type": "markdown",
   "metadata": {},
   "source": [
    "# Setup"
   ]
  },
  {
   "cell_type": "markdown",
   "metadata": {},
   "source": [
    "### Installation\n",
    "\n",
    "If needed, install the necessary dependencies.\n",
    "\n",
    "You can use the [conda environment](../conda_envs/python.yml) provided in this git repository. To do so:"
   ]
  },
  {
   "cell_type": "code",
   "execution_count": null,
   "metadata": {},
   "outputs": [],
   "source": [
    "!which conda && conda env create -q -f ../conda_envs/python.yml"
   ]
  },
  {
   "cell_type": "markdown",
   "metadata": {},
   "source": [
    "# Load packages"
   ]
  },
  {
   "cell_type": "code",
   "execution_count": 1,
   "metadata": {},
   "outputs": [],
   "source": [
    "import os\n",
    "import pandas as pd\n",
    "import scanpy as sc\n",
    "import pyarrow.dataset as ds\n",
    "import gcsfs"
   ]
  },
  {
   "cell_type": "code",
   "execution_count": 2,
   "metadata": {},
   "outputs": [],
   "source": [
    "# initialize GCS file system for reading data from GCS\n",
    "fs = gcsfs.GCSFileSystem()"
   ]
  },
  {
   "cell_type": "markdown",
   "metadata": {},
   "source": [
    "# Data location"
   ]
  },
  {
   "cell_type": "code",
   "execution_count": 3,
   "metadata": {},
   "outputs": [],
   "source": [
    "# GCS bucket path\n",
    "gcs_base_path = \"gs://arc-ctc-scbasecamp/2025-02-25/\""
   ]
  },
  {
   "cell_type": "code",
   "execution_count": 4,
   "metadata": {},
   "outputs": [],
   "source": [
    "# STARsolo feature type\n",
    "feature_type = \"GeneFull_Ex50pAS\""
   ]
  },
  {
   "cell_type": "markdown",
   "metadata": {},
   "source": [
    "# List available files\n",
    "\n",
    "Let's see what we have to work with!"
   ]
  },
  {
   "cell_type": "code",
   "execution_count": 5,
   "metadata": {},
   "outputs": [],
   "source": [
    "# helper function to list files \n",
    "def get_file_table(gcs_base_path: str, target: str=None, endswith: str=None):\n",
    "    files = fs.glob(os.path.join(gcs_base_path, \"**\"))\n",
    "    if target:\n",
    "        files = [f for f in files if os.path.basename(f) == target]\n",
    "    else:\n",
    "        files = [f for f in files if f.endswith(endswith)]\n",
    "    file_list = []\n",
    "    for f in files:\n",
    "        file_list.append(f.split(\"/\")[-2:-1] + [f])\n",
    "    return pd.DataFrame(file_list, columns=[\"organism\", \"file_path\"])"
   ]
  },
  {
   "cell_type": "markdown",
   "metadata": {},
   "source": [
    "## Parquet files\n",
    "\n",
    "* Contain the obs metadata\n",
    "* These can be read efficiently with [pyarrow](https://arrow.apache.org/docs/python/index.html)\n",
    "  * We will read in via pyarrow and convert to pandas"
   ]
  },
  {
   "cell_type": "code",
   "execution_count": 6,
   "metadata": {},
   "outputs": [
    {
     "data": {
      "text/plain": [
       "'gs://arc-ctc-scbasecamp/2025-02-25/metadata/GeneFull_Ex50pAS'"
      ]
     },
     "execution_count": 6,
     "metadata": {},
     "output_type": "execute_result"
    }
   ],
   "source": [
    "# set the path to the metadata files\n",
    "gcs_path = os.path.join(gcs_base_path, \"metadata\", feature_type)\n",
    "gcs_path"
   ]
  },
  {
   "cell_type": "markdown",
   "metadata": {},
   "source": [
    "### List per-sample metadata files\n",
    "\n",
    "Per-sample (SRX accession) metadata (e.g., tissue)"
   ]
  },
  {
   "cell_type": "code",
   "execution_count": 7,
   "metadata": {},
   "outputs": [
    {
     "name": "stdout",
     "output_type": "stream",
     "text": [
      "(21, 2)\n"
     ]
    },
    {
     "data": {
      "text/html": [
       "<div>\n",
       "<style scoped>\n",
       "    .dataframe tbody tr th:only-of-type {\n",
       "        vertical-align: middle;\n",
       "    }\n",
       "\n",
       "    .dataframe tbody tr th {\n",
       "        vertical-align: top;\n",
       "    }\n",
       "\n",
       "    .dataframe thead th {\n",
       "        text-align: right;\n",
       "    }\n",
       "</style>\n",
       "<table border=\"1\" class=\"dataframe\">\n",
       "  <thead>\n",
       "    <tr style=\"text-align: right;\">\n",
       "      <th></th>\n",
       "      <th>organism</th>\n",
       "      <th>file_path</th>\n",
       "    </tr>\n",
       "  </thead>\n",
       "  <tbody>\n",
       "    <tr>\n",
       "      <th>0</th>\n",
       "      <td>Arabidopsis_thaliana</td>\n",
       "      <td>arc-ctc-scbasecamp/2025-02-25/metadata/GeneFul...</td>\n",
       "    </tr>\n",
       "    <tr>\n",
       "      <th>1</th>\n",
       "      <td>Bos_taurus</td>\n",
       "      <td>arc-ctc-scbasecamp/2025-02-25/metadata/GeneFul...</td>\n",
       "    </tr>\n",
       "    <tr>\n",
       "      <th>2</th>\n",
       "      <td>Caenorhabditis_elegans</td>\n",
       "      <td>arc-ctc-scbasecamp/2025-02-25/metadata/GeneFul...</td>\n",
       "    </tr>\n",
       "    <tr>\n",
       "      <th>3</th>\n",
       "      <td>Callithrix_jacchus</td>\n",
       "      <td>arc-ctc-scbasecamp/2025-02-25/metadata/GeneFul...</td>\n",
       "    </tr>\n",
       "    <tr>\n",
       "      <th>4</th>\n",
       "      <td>Danio_rerio</td>\n",
       "      <td>arc-ctc-scbasecamp/2025-02-25/metadata/GeneFul...</td>\n",
       "    </tr>\n",
       "  </tbody>\n",
       "</table>\n",
       "</div>"
      ],
      "text/plain": [
       "                 organism                                          file_path\n",
       "0    Arabidopsis_thaliana  arc-ctc-scbasecamp/2025-02-25/metadata/GeneFul...\n",
       "1              Bos_taurus  arc-ctc-scbasecamp/2025-02-25/metadata/GeneFul...\n",
       "2  Caenorhabditis_elegans  arc-ctc-scbasecamp/2025-02-25/metadata/GeneFul...\n",
       "3      Callithrix_jacchus  arc-ctc-scbasecamp/2025-02-25/metadata/GeneFul...\n",
       "4             Danio_rerio  arc-ctc-scbasecamp/2025-02-25/metadata/GeneFul..."
      ]
     },
     "execution_count": 7,
     "metadata": {},
     "output_type": "execute_result"
    }
   ],
   "source": [
    "# list files\n",
    "sample_pq_files = get_file_table(gcs_path, \"sample_metadata.parquet\")\n",
    "print(sample_pq_files.shape)\n",
    "sample_pq_files.head()"
   ]
  },
  {
   "cell_type": "markdown",
   "metadata": {},
   "source": [
    "**Notes:**\n",
    "\n",
    "* As you can see, the files are organized by `feature_type` (STARsolo output type) and `organism`"
   ]
  },
  {
   "cell_type": "markdown",
   "metadata": {},
   "source": [
    "### List per-obs metadata files\n",
    "\n",
    "Per-observation (cell) metadata"
   ]
  },
  {
   "cell_type": "code",
   "execution_count": 8,
   "metadata": {},
   "outputs": [
    {
     "name": "stdout",
     "output_type": "stream",
     "text": [
      "(21, 2)\n"
     ]
    },
    {
     "data": {
      "text/html": [
       "<div>\n",
       "<style scoped>\n",
       "    .dataframe tbody tr th:only-of-type {\n",
       "        vertical-align: middle;\n",
       "    }\n",
       "\n",
       "    .dataframe tbody tr th {\n",
       "        vertical-align: top;\n",
       "    }\n",
       "\n",
       "    .dataframe thead th {\n",
       "        text-align: right;\n",
       "    }\n",
       "</style>\n",
       "<table border=\"1\" class=\"dataframe\">\n",
       "  <thead>\n",
       "    <tr style=\"text-align: right;\">\n",
       "      <th></th>\n",
       "      <th>organism</th>\n",
       "      <th>file_path</th>\n",
       "    </tr>\n",
       "  </thead>\n",
       "  <tbody>\n",
       "    <tr>\n",
       "      <th>0</th>\n",
       "      <td>Arabidopsis_thaliana</td>\n",
       "      <td>arc-ctc-scbasecamp/2025-02-25/metadata/GeneFul...</td>\n",
       "    </tr>\n",
       "    <tr>\n",
       "      <th>1</th>\n",
       "      <td>Bos_taurus</td>\n",
       "      <td>arc-ctc-scbasecamp/2025-02-25/metadata/GeneFul...</td>\n",
       "    </tr>\n",
       "    <tr>\n",
       "      <th>2</th>\n",
       "      <td>Caenorhabditis_elegans</td>\n",
       "      <td>arc-ctc-scbasecamp/2025-02-25/metadata/GeneFul...</td>\n",
       "    </tr>\n",
       "    <tr>\n",
       "      <th>3</th>\n",
       "      <td>Callithrix_jacchus</td>\n",
       "      <td>arc-ctc-scbasecamp/2025-02-25/metadata/GeneFul...</td>\n",
       "    </tr>\n",
       "    <tr>\n",
       "      <th>4</th>\n",
       "      <td>Danio_rerio</td>\n",
       "      <td>arc-ctc-scbasecamp/2025-02-25/metadata/GeneFul...</td>\n",
       "    </tr>\n",
       "  </tbody>\n",
       "</table>\n",
       "</div>"
      ],
      "text/plain": [
       "                 organism                                          file_path\n",
       "0    Arabidopsis_thaliana  arc-ctc-scbasecamp/2025-02-25/metadata/GeneFul...\n",
       "1              Bos_taurus  arc-ctc-scbasecamp/2025-02-25/metadata/GeneFul...\n",
       "2  Caenorhabditis_elegans  arc-ctc-scbasecamp/2025-02-25/metadata/GeneFul...\n",
       "3      Callithrix_jacchus  arc-ctc-scbasecamp/2025-02-25/metadata/GeneFul...\n",
       "4             Danio_rerio  arc-ctc-scbasecamp/2025-02-25/metadata/GeneFul..."
      ]
     },
     "execution_count": 8,
     "metadata": {},
     "output_type": "execute_result"
    }
   ],
   "source": [
    "# list files\n",
    "obs_pq_files = get_file_table(gcs_path, \"obs_metadata.parquet\")\n",
    "print(obs_pq_files.shape)\n",
    "obs_pq_files.head()"
   ]
  },
  {
   "cell_type": "markdown",
   "metadata": {},
   "source": [
    "## h5ad files \n",
    "\n",
    "* Contain count matrices and per-obs metadata"
   ]
  },
  {
   "cell_type": "code",
   "execution_count": 9,
   "metadata": {},
   "outputs": [
    {
     "data": {
      "text/plain": [
       "'gs://arc-ctc-scbasecamp/2025-02-25/h5ad/GeneFull_Ex50pAS'"
      ]
     },
     "execution_count": 9,
     "metadata": {},
     "output_type": "execute_result"
    }
   ],
   "source": [
    "# set the path\n",
    "gcs_path = os.path.join(gcs_base_path, \"h5ad\", feature_type)\n",
    "gcs_path"
   ]
  },
  {
   "cell_type": "code",
   "execution_count": 10,
   "metadata": {},
   "outputs": [
    {
     "name": "stdout",
     "output_type": "stream",
     "text": [
      "(30387, 2)\n"
     ]
    },
    {
     "data": {
      "text/html": [
       "<div>\n",
       "<style scoped>\n",
       "    .dataframe tbody tr th:only-of-type {\n",
       "        vertical-align: middle;\n",
       "    }\n",
       "\n",
       "    .dataframe tbody tr th {\n",
       "        vertical-align: top;\n",
       "    }\n",
       "\n",
       "    .dataframe thead th {\n",
       "        text-align: right;\n",
       "    }\n",
       "</style>\n",
       "<table border=\"1\" class=\"dataframe\">\n",
       "  <thead>\n",
       "    <tr style=\"text-align: right;\">\n",
       "      <th></th>\n",
       "      <th>organism</th>\n",
       "      <th>file_path</th>\n",
       "    </tr>\n",
       "  </thead>\n",
       "  <tbody>\n",
       "    <tr>\n",
       "      <th>0</th>\n",
       "      <td>Arabidopsis_thaliana</td>\n",
       "      <td>arc-ctc-scbasecamp/2025-02-25/h5ad/GeneFull_Ex...</td>\n",
       "    </tr>\n",
       "    <tr>\n",
       "      <th>1</th>\n",
       "      <td>Arabidopsis_thaliana</td>\n",
       "      <td>arc-ctc-scbasecamp/2025-02-25/h5ad/GeneFull_Ex...</td>\n",
       "    </tr>\n",
       "    <tr>\n",
       "      <th>2</th>\n",
       "      <td>Arabidopsis_thaliana</td>\n",
       "      <td>arc-ctc-scbasecamp/2025-02-25/h5ad/GeneFull_Ex...</td>\n",
       "    </tr>\n",
       "    <tr>\n",
       "      <th>3</th>\n",
       "      <td>Arabidopsis_thaliana</td>\n",
       "      <td>arc-ctc-scbasecamp/2025-02-25/h5ad/GeneFull_Ex...</td>\n",
       "    </tr>\n",
       "    <tr>\n",
       "      <th>4</th>\n",
       "      <td>Arabidopsis_thaliana</td>\n",
       "      <td>arc-ctc-scbasecamp/2025-02-25/h5ad/GeneFull_Ex...</td>\n",
       "    </tr>\n",
       "  </tbody>\n",
       "</table>\n",
       "</div>"
      ],
      "text/plain": [
       "               organism                                          file_path\n",
       "0  Arabidopsis_thaliana  arc-ctc-scbasecamp/2025-02-25/h5ad/GeneFull_Ex...\n",
       "1  Arabidopsis_thaliana  arc-ctc-scbasecamp/2025-02-25/h5ad/GeneFull_Ex...\n",
       "2  Arabidopsis_thaliana  arc-ctc-scbasecamp/2025-02-25/h5ad/GeneFull_Ex...\n",
       "3  Arabidopsis_thaliana  arc-ctc-scbasecamp/2025-02-25/h5ad/GeneFull_Ex...\n",
       "4  Arabidopsis_thaliana  arc-ctc-scbasecamp/2025-02-25/h5ad/GeneFull_Ex..."
      ]
     },
     "execution_count": 10,
     "metadata": {},
     "output_type": "execute_result"
    }
   ],
   "source": [
    "# list files\n",
    "h5ad_files = get_file_table(gcs_path, endswith=\".h5ad\")\n",
    "print(h5ad_files.shape)\n",
    "h5ad_files.head()"
   ]
  },
  {
   "cell_type": "markdown",
   "metadata": {},
   "source": [
    "# Explore the per-sample metadata"
   ]
  },
  {
   "cell_type": "markdown",
   "metadata": {},
   "source": [
    "### Just human samples"
   ]
  },
  {
   "cell_type": "code",
   "execution_count": 11,
   "metadata": {},
   "outputs": [
    {
     "data": {
      "text/plain": [
       "'arc-ctc-scbasecamp/2025-02-25/metadata/GeneFull_Ex50pAS/Homo_sapiens/sample_metadata.parquet'"
      ]
     },
     "execution_count": 11,
     "metadata": {},
     "output_type": "execute_result"
    }
   ],
   "source": [
    "# get the per-sample metadata file path\n",
    "infile = sample_pq_files[sample_pq_files[\"organism\"] == \"Homo_sapiens\"][\"file_path\"].values[0]\n",
    "infile"
   ]
  },
  {
   "cell_type": "code",
   "execution_count": 12,
   "metadata": {},
   "outputs": [
    {
     "name": "stdout",
     "output_type": "stream",
     "text": [
      "(16077, 14)\n"
     ]
    },
    {
     "data": {
      "text/html": [
       "<div>\n",
       "<style scoped>\n",
       "    .dataframe tbody tr th:only-of-type {\n",
       "        vertical-align: middle;\n",
       "    }\n",
       "\n",
       "    .dataframe tbody tr th {\n",
       "        vertical-align: top;\n",
       "    }\n",
       "\n",
       "    .dataframe thead th {\n",
       "        text-align: right;\n",
       "    }\n",
       "</style>\n",
       "<table border=\"1\" class=\"dataframe\">\n",
       "  <thead>\n",
       "    <tr style=\"text-align: right;\">\n",
       "      <th></th>\n",
       "      <th>entrez_id</th>\n",
       "      <th>srx_accession</th>\n",
       "      <th>file_path</th>\n",
       "      <th>obs_count</th>\n",
       "      <th>lib_prep</th>\n",
       "      <th>tech_10x</th>\n",
       "      <th>cell_prep</th>\n",
       "      <th>organism</th>\n",
       "      <th>tissue</th>\n",
       "      <th>disease</th>\n",
       "      <th>perturbation</th>\n",
       "      <th>cell_line</th>\n",
       "      <th>czi_collection_id</th>\n",
       "      <th>czi_collection_name</th>\n",
       "    </tr>\n",
       "  </thead>\n",
       "  <tbody>\n",
       "    <tr>\n",
       "      <th>0</th>\n",
       "      <td>29110018</td>\n",
       "      <td>ERX11148735</td>\n",
       "      <td>gs://arc-ctc-scbasecamp/2025-02-25/h5ad/GeneFu...</td>\n",
       "      <td>747</td>\n",
       "      <td>10x_Genomics</td>\n",
       "      <td>3_prime_gex</td>\n",
       "      <td>single_cell</td>\n",
       "      <td>Homo sapiens</td>\n",
       "      <td>skin of body</td>\n",
       "      <td>normal</td>\n",
       "      <td>surplus skin from breast reconstruction surgery</td>\n",
       "      <td>not applicable</td>\n",
       "      <td>73f82ac8-15cc-4fcd-87f8-5683723fce7f</td>\n",
       "      <td>Developmental cell programs are co-opted in in...</td>\n",
       "    </tr>\n",
       "    <tr>\n",
       "      <th>1</th>\n",
       "      <td>29110027</td>\n",
       "      <td>ERX11148744</td>\n",
       "      <td>gs://arc-ctc-scbasecamp/2025-02-25/h5ad/GeneFu...</td>\n",
       "      <td>2379</td>\n",
       "      <td>10x_Genomics</td>\n",
       "      <td>3_prime_gex</td>\n",
       "      <td>single_cell</td>\n",
       "      <td>Homo sapiens</td>\n",
       "      <td>skin of body</td>\n",
       "      <td>normal</td>\n",
       "      <td>treated with dispase II and collagenase for ce...</td>\n",
       "      <td>keratinocyte CD49f-</td>\n",
       "      <td>73f82ac8-15cc-4fcd-87f8-5683723fce7f</td>\n",
       "      <td>Developmental cell programs are co-opted in in...</td>\n",
       "    </tr>\n",
       "    <tr>\n",
       "      <th>2</th>\n",
       "      <td>29110026</td>\n",
       "      <td>ERX11148743</td>\n",
       "      <td>gs://arc-ctc-scbasecamp/2025-02-25/h5ad/GeneFu...</td>\n",
       "      <td>2316</td>\n",
       "      <td>10x_Genomics</td>\n",
       "      <td>3_prime_gex</td>\n",
       "      <td>single_cell</td>\n",
       "      <td>Homo sapiens</td>\n",
       "      <td>skin of body</td>\n",
       "      <td>normal</td>\n",
       "      <td>treated with dispase II and collagenase for ce...</td>\n",
       "      <td>epidermal myeloid cells</td>\n",
       "      <td>73f82ac8-15cc-4fcd-87f8-5683723fce7f</td>\n",
       "      <td>Developmental cell programs are co-opted in in...</td>\n",
       "    </tr>\n",
       "    <tr>\n",
       "      <th>3</th>\n",
       "      <td>29110023</td>\n",
       "      <td>ERX11148740</td>\n",
       "      <td>gs://arc-ctc-scbasecamp/2025-02-25/h5ad/GeneFu...</td>\n",
       "      <td>2907</td>\n",
       "      <td>10x_Genomics</td>\n",
       "      <td>3_prime_gex</td>\n",
       "      <td>single_cell</td>\n",
       "      <td>Homo sapiens</td>\n",
       "      <td>skin of body</td>\n",
       "      <td>normal</td>\n",
       "      <td>skin collected from breast reconstruction surgery</td>\n",
       "      <td>not specified</td>\n",
       "      <td>73f82ac8-15cc-4fcd-87f8-5683723fce7f</td>\n",
       "      <td>Developmental cell programs are co-opted in in...</td>\n",
       "    </tr>\n",
       "    <tr>\n",
       "      <th>4</th>\n",
       "      <td>29110015</td>\n",
       "      <td>ERX11148732</td>\n",
       "      <td>gs://arc-ctc-scbasecamp/2025-02-25/h5ad/GeneFu...</td>\n",
       "      <td>4082</td>\n",
       "      <td>10x_Genomics</td>\n",
       "      <td>3_prime_gex</td>\n",
       "      <td>single_cell</td>\n",
       "      <td>Homo sapiens</td>\n",
       "      <td>skin of body</td>\n",
       "      <td>normal</td>\n",
       "      <td>treated with dispase II and collagenase</td>\n",
       "      <td>not_applicable</td>\n",
       "      <td>73f82ac8-15cc-4fcd-87f8-5683723fce7f</td>\n",
       "      <td>Developmental cell programs are co-opted in in...</td>\n",
       "    </tr>\n",
       "  </tbody>\n",
       "</table>\n",
       "</div>"
      ],
      "text/plain": [
       "   entrez_id srx_accession                                          file_path  \\\n",
       "0   29110018   ERX11148735  gs://arc-ctc-scbasecamp/2025-02-25/h5ad/GeneFu...   \n",
       "1   29110027   ERX11148744  gs://arc-ctc-scbasecamp/2025-02-25/h5ad/GeneFu...   \n",
       "2   29110026   ERX11148743  gs://arc-ctc-scbasecamp/2025-02-25/h5ad/GeneFu...   \n",
       "3   29110023   ERX11148740  gs://arc-ctc-scbasecamp/2025-02-25/h5ad/GeneFu...   \n",
       "4   29110015   ERX11148732  gs://arc-ctc-scbasecamp/2025-02-25/h5ad/GeneFu...   \n",
       "\n",
       "   obs_count      lib_prep     tech_10x    cell_prep      organism  \\\n",
       "0        747  10x_Genomics  3_prime_gex  single_cell  Homo sapiens   \n",
       "1       2379  10x_Genomics  3_prime_gex  single_cell  Homo sapiens   \n",
       "2       2316  10x_Genomics  3_prime_gex  single_cell  Homo sapiens   \n",
       "3       2907  10x_Genomics  3_prime_gex  single_cell  Homo sapiens   \n",
       "4       4082  10x_Genomics  3_prime_gex  single_cell  Homo sapiens   \n",
       "\n",
       "         tissue disease                                       perturbation  \\\n",
       "0  skin of body  normal    surplus skin from breast reconstruction surgery   \n",
       "1  skin of body  normal  treated with dispase II and collagenase for ce...   \n",
       "2  skin of body  normal  treated with dispase II and collagenase for ce...   \n",
       "3  skin of body  normal  skin collected from breast reconstruction surgery   \n",
       "4  skin of body  normal            treated with dispase II and collagenase   \n",
       "\n",
       "                 cell_line                     czi_collection_id  \\\n",
       "0           not applicable  73f82ac8-15cc-4fcd-87f8-5683723fce7f   \n",
       "1      keratinocyte CD49f-  73f82ac8-15cc-4fcd-87f8-5683723fce7f   \n",
       "2  epidermal myeloid cells  73f82ac8-15cc-4fcd-87f8-5683723fce7f   \n",
       "3            not specified  73f82ac8-15cc-4fcd-87f8-5683723fce7f   \n",
       "4           not_applicable  73f82ac8-15cc-4fcd-87f8-5683723fce7f   \n",
       "\n",
       "                                 czi_collection_name  \n",
       "0  Developmental cell programs are co-opted in in...  \n",
       "1  Developmental cell programs are co-opted in in...  \n",
       "2  Developmental cell programs are co-opted in in...  \n",
       "3  Developmental cell programs are co-opted in in...  \n",
       "4  Developmental cell programs are co-opted in in...  "
      ]
     },
     "execution_count": 12,
     "metadata": {},
     "output_type": "execute_result"
    }
   ],
   "source": [
    "# load the metadata\n",
    "sample_metadata = ds.dataset(infile, filesystem=fs, format=\"parquet\").to_table().to_pandas()\n",
    "print(sample_metadata.shape)\n",
    "sample_metadata.head()"
   ]
  },
  {
   "cell_type": "code",
   "execution_count": 18,
   "metadata": {},
   "outputs": [],
   "source": [
    "df = sample_metadata"
   ]
  },
  {
   "cell_type": "code",
   "execution_count": 19,
   "metadata": {},
   "outputs": [
    {
     "name": "stdout",
     "output_type": "stream",
     "text": [
      "   entrez_id srx_accession\n",
      "0   29110018   ERX11148735\n",
      "1   29110027   ERX11148744\n"
     ]
    }
   ],
   "source": [
    "print(df[['entrez_id', 'srx_accession']].head(2))"
   ]
  },
  {
   "cell_type": "code",
   "execution_count": 13,
   "metadata": {},
   "outputs": [
    {
     "data": {
      "text/plain": [
       "organism\n",
       "Homo sapiens    16077\n",
       "Name: count, dtype: int64"
      ]
     },
     "execution_count": 13,
     "metadata": {},
     "output_type": "execute_result"
    }
   ],
   "source": [
    "# All human?\n",
    "sample_metadata[\"organism\"].value_counts()"
   ]
  },
  {
   "cell_type": "code",
   "execution_count": 14,
   "metadata": {},
   "outputs": [
    {
     "data": {
      "text/plain": [
       "tech_10x\n",
       "3_prime_gex          10851\n",
       "5_prime_gex           3746\n",
       "vdj                    437\n",
       "multiome               366\n",
       "not_applicable         250\n",
       "feature_barcoding      230\n",
       "other                  168\n",
       "cellplex                19\n",
       "flex                     6\n",
       "atac                     4\n",
       "Name: count, dtype: int64"
      ]
     },
     "execution_count": 14,
     "metadata": {},
     "output_type": "execute_result"
    }
   ],
   "source": [
    "# 10X library prep methods\n",
    "sample_metadata[\"tech_10x\"].value_counts()"
   ]
  },
  {
   "cell_type": "code",
   "execution_count": 16,
   "metadata": {},
   "outputs": [
    {
     "data": {
      "text/plain": [
       "cell_prep\n",
       "single_cell       14661\n",
       "single_nucleus     1393\n",
       "unsure               22\n",
       "not_applicable        1\n",
       "Name: count, dtype: int64"
      ]
     },
     "execution_count": 16,
     "metadata": {},
     "output_type": "execute_result"
    }
   ],
   "source": [
    "# cell prep method\n",
    "sample_metadata[\"cell_prep\"].value_counts()"
   ]
  },
  {
   "cell_type": "markdown",
   "metadata": {},
   "source": [
    "## Get GEO datasets for each"
   ]
  },
  {
   "cell_type": "markdown",
   "metadata": {},
   "source": []
  }
 ],
 "metadata": {
  "kernelspec": {
   "display_name": "scbasecamp_env",
   "language": "python",
   "name": "python3"
  },
  "language_info": {
   "codemirror_mode": {
    "name": "ipython",
    "version": 3
   },
   "file_extension": ".py",
   "mimetype": "text/x-python",
   "name": "python",
   "nbconvert_exporter": "python",
   "pygments_lexer": "ipython3",
   "version": "3.13.2"
  }
 },
 "nbformat": 4,
 "nbformat_minor": 2
}
